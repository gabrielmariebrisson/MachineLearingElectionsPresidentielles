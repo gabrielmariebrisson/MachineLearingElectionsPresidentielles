{
 "cells": [
  {
   "cell_type": "markdown",
   "id": "a3d35130",
   "metadata": {},
   "source": [
    "# Partie sur la prediction des données"
   ]
  },
  {
   "cell_type": "markdown",
   "id": "0fc97542",
   "metadata": {},
   "source": [
    "## Classification des elections du second tour 2022"
   ]
  },
  {
   "cell_type": "markdown",
   "id": "fd753c08",
   "metadata": {},
   "source": [
    "### Application de SVM, en faisant du copier coller du tp8"
   ]
  },
  {
   "cell_type": "code",
   "execution_count": 1,
   "id": "1a296d10",
   "metadata": {},
   "outputs": [],
   "source": [
    "import pandas as pd\n",
    "from sklearn.svm import SVC\n",
    "from sklearn.metrics import classification_report\n",
    "from sklearn.model_selection import train_test_split\n",
    "from sklearn.preprocessing import StandardScaler"
   ]
  },
  {
   "cell_type": "code",
   "execution_count": 2,
   "id": "d55e820d",
   "metadata": {},
   "outputs": [
    {
     "name": "stdout",
     "output_type": "stream",
     "text": [
      "                Departement nbPersonne     Macron      Lepen niveauEtude  \\\n",
      "0                       Ain     671937  50.982366  49.017659        41.4   \n",
      "1                     Aisne     522791  38.089161  61.910914        29.7   \n",
      "2                    Allier     332443  48.201987  51.798013        33.4   \n",
      "3   Alpes-de-Haute-Provence     166654  47.890556  52.109697        37.2   \n",
      "4              Hautes-Alpes     139942  53.414383  46.585802        41.7   \n",
      "..                      ...        ...        ...        ...         ...   \n",
      "89    Territoire de Belfort     136891  45.499208  54.500792        43.3   \n",
      "90                  Essonne    1316053  58.871340  41.128711        47.5   \n",
      "91           Hauts-de-Seine    1642002  80.148611  19.851389        71.1   \n",
      "92             Val-de-Marne    1426748  71.616596  28.383404        56.1   \n",
      "93               Val-d'Oise    1274374  58.109402  41.890707        45.2   \n",
      "\n",
      "    tauxChomage Proximité   Immigré  \n",
      "0           5.5      1.66   79312.0  \n",
      "1          10.5      0.83   25515.0  \n",
      "2           7.7      2.39   17601.0  \n",
      "3           8.2      0.96   13762.0  \n",
      "4           6.9      5.43    8019.0  \n",
      "..          ...       ...       ...  \n",
      "89          8.3      6.09   13875.0  \n",
      "90          6.4      3.34  224344.0  \n",
      "91          5.9      4.19  307362.0  \n",
      "92          7.1      2.92  311186.0  \n",
      "93          8.0      1.53  253856.0  \n",
      "\n",
      "[94 rows x 8 columns]\n"
     ]
    }
   ],
   "source": [
    "#creation du dataset\n",
    "df_pourcent_chomage = pd.read_excel('AutreData/tauxChomage.xlsx').dropna()\n",
    "df_pourcent_chomage = df_pourcent_chomage.iloc[:, [1, 2]]\n",
    "df_pourcent_chomage.columns = ['Departement', 'tauxChomage']\n",
    "\n",
    "df_niveauEtude = pd.read_excel('AutreData/NiveauEtudeJeune2017.xlsx', sheet_name='Figure 1a').dropna()\n",
    "df_niveauEtude = df_niveauEtude.iloc[:, [1, 2]]\n",
    "df_niveauEtude.columns = ['Departement', 'niveauEtude']\n",
    "\n",
    "df_densitePop = pd.read_excel('AutreData/NbPopDepartement2023.xls', sheet_name='2023').dropna()\n",
    "df_densitePop = df_densitePop.iloc[:, [1, 7]]\n",
    "df_densitePop.columns = ['Departement', 'nbPersonne']\n",
    "\n",
    "df_magasinBIO = pd.read_excel('AutreData/MagasinBio2016.xls', sheet_name='Figure 2').dropna()\n",
    "df_magasinBIO.columns = ['Departement', 'Proximité']\n",
    "\n",
    "df_PopImmigre = pd.read_excel('AutreData/PopImmigré.xlsx').dropna()\n",
    "df_PopImmigre = df_PopImmigre.iloc[:, [1, 2]]\n",
    "df_PopImmigre.columns = ['Departement', 'Immigré']\n",
    "\n",
    "# Charger les données des résultats présidentiels\n",
    "df_resultatPresidentielle = pd.read_excel('resultats-par-niveau-subcom-t2-france-entiere.xlsx').dropna()\n",
    "df_resultatPresidentielle = df_resultatPresidentielle.iloc[:, [1, 25, 32]]\n",
    "df_resultatPresidentielle.columns = [ 'Departement', 'Macron', 'Lepen']\n",
    "df_resultatPresidentielle = df_resultatPresidentielle.groupby('Departement')[['Macron', 'Lepen']].mean().reset_index()\n",
    "\n",
    "df_concat = pd.merge(df_densitePop, df_resultatPresidentielle, on='Departement')\n",
    "df_concat = pd.merge(df_concat, df_niveauEtude, on='Departement')\n",
    "df_concat = pd.merge(df_concat, df_pourcent_chomage, on='Departement')\n",
    "df_concat = pd.merge(df_concat, df_magasinBIO, on='Departement')\n",
    "df_concat = pd.merge(df_concat, df_PopImmigre, on='Departement')\n",
    "print(df_concat)"
   ]
  },
  {
   "cell_type": "code",
   "execution_count": 3,
   "id": "c0844174",
   "metadata": {},
   "outputs": [],
   "source": [
    "# Sélection des features\n",
    "features = df_concat.drop(['Departement','Macron', 'Lepen'], axis=1)\n",
    "y = [0 if x <= 50 else 1 for x in df_concat['Macron']]\n",
    "\n",
    "# Normalisation des données\n",
    "scaler = StandardScaler()\n",
    "X_scaled = scaler.fit_transform(features)\n",
    "\n",
    "#division des données\n",
    "X_train, X_test, y_train, y_test = train_test_split(X_scaled, y, test_size=0.2, random_state=42)\n",
    "\n",
    "#definition des labels\n",
    "target_names = ['Lepen', 'Macron']"
   ]
  },
  {
   "cell_type": "code",
   "execution_count": 4,
   "id": "942aaf12",
   "metadata": {},
   "outputs": [
    {
     "name": "stdout",
     "output_type": "stream",
     "text": [
      "Performance du SVM avec un noyau linéaire :\n",
      "              precision    recall  f1-score   support\n",
      "\n",
      "       Lepen       1.00      0.67      0.80         9\n",
      "      Macron       0.77      1.00      0.87        10\n",
      "\n",
      "    accuracy                           0.84        19\n",
      "   macro avg       0.88      0.83      0.83        19\n",
      "weighted avg       0.88      0.84      0.84        19\n",
      "\n"
     ]
    }
   ],
   "source": [
    "svm_linear = SVC(kernel='linear')\n",
    "svm_linear.fit(X_train, y_train)\n",
    "\n",
    "# Prédire sur les données de test et évaluer les performances\n",
    "y_pred_linear = svm_linear.predict(X_test)\n",
    "print(\"Performance du SVM avec un noyau linéaire :\")\n",
    "print(classification_report(y_test, y_pred_linear, target_names=target_names))"
   ]
  },
  {
   "cell_type": "code",
   "execution_count": 5,
   "id": "65989fba",
   "metadata": {},
   "outputs": [
    {
     "name": "stdout",
     "output_type": "stream",
     "text": [
      "Performance du SVM avec un noyau linéaire :\n",
      "              precision    recall  f1-score   support\n",
      "\n",
      "       Lepen       0.56      1.00      0.72         9\n",
      "      Macron       1.00      0.30      0.46        10\n",
      "\n",
      "    accuracy                           0.63        19\n",
      "   macro avg       0.78      0.65      0.59        19\n",
      "weighted avg       0.79      0.63      0.58        19\n",
      "\n"
     ]
    }
   ],
   "source": [
    "svm_linear = SVC(kernel='poly')\n",
    "svm_linear.fit(X_train, y_train)\n",
    "\n",
    "# Prédire sur les données de test et évaluer les performances\n",
    "y_pred_linear = svm_linear.predict(X_test)\n",
    "print(\"Performance du SVM avec un noyau linéaire :\")\n",
    "print(classification_report(y_test, y_pred_linear, target_names=target_names))"
   ]
  },
  {
   "cell_type": "code",
   "execution_count": 6,
   "id": "a0077c3d",
   "metadata": {},
   "outputs": [
    {
     "name": "stdout",
     "output_type": "stream",
     "text": [
      "Meilleurs paramètres pour SVM: {'C': 10, 'gamma': 0.1}\n",
      "Performance du SVM avec les meilleurs paramètres :\n",
      "              precision    recall  f1-score   support\n",
      "\n",
      "       Lepen       0.86      0.67      0.75         9\n",
      "      Macron       0.75      0.90      0.82        10\n",
      "\n",
      "    accuracy                           0.79        19\n",
      "   macro avg       0.80      0.78      0.78        19\n",
      "weighted avg       0.80      0.79      0.79        19\n",
      "\n"
     ]
    }
   ],
   "source": [
    "from sklearn.model_selection import GridSearchCV\n",
    "\n",
    "param_grid = {'C': [0.1, 1, 10, 100], 'gamma': [0.001, 0.01, 0.1, 1]}\n",
    "grid_search = GridSearchCV(SVC(), param_grid, cv=5)\n",
    "grid_search.fit(X_train, y_train)\n",
    "best_svm = grid_search.best_estimator_\n",
    "y_pred_best = best_svm.predict(X_test)\n",
    "print(\"Meilleurs paramètres pour SVM:\", grid_search.best_params_)\n",
    "print(\"Performance du SVM avec les meilleurs paramètres :\")\n",
    "print(classification_report(y_test, y_pred_best, target_names=target_names))"
   ]
  },
  {
   "cell_type": "markdown",
   "id": "9b2dc0ad",
   "metadata": {},
   "source": [
    "### Application de Regression"
   ]
  },
  {
   "cell_type": "code",
   "execution_count": 7,
   "id": "e9139f70",
   "metadata": {},
   "outputs": [
    {
     "name": "stdout",
     "output_type": "stream",
     "text": [
      "              precision    recall  f1-score   support\n",
      "\n",
      "       Lepen       0.86      0.67      0.75         9\n",
      "      Macron       0.75      0.90      0.82        10\n",
      "\n",
      "    accuracy                           0.79        19\n",
      "   macro avg       0.80      0.78      0.78        19\n",
      "weighted avg       0.80      0.79      0.79        19\n",
      "\n"
     ]
    }
   ],
   "source": [
    "# régression logistique\n",
    "from sklearn.linear_model import LogisticRegression\n",
    "\n",
    "logReg = LogisticRegression()\n",
    "logReg.fit(X_train, y_train)\n",
    "\n",
    "y_pred = logReg.predict(X_test)\n",
    "print(classification_report(y_test, y_pred, target_names=target_names))"
   ]
  },
  {
   "cell_type": "code",
   "execution_count": 8,
   "id": "bfaddedf",
   "metadata": {},
   "outputs": [
    {
     "name": "stdout",
     "output_type": "stream",
     "text": [
      "              precision    recall  f1-score   support\n",
      "\n",
      "       Lepen       0.88      0.78      0.82         9\n",
      "      Macron       0.82      0.90      0.86        10\n",
      "\n",
      "    accuracy                           0.84        19\n",
      "   macro avg       0.85      0.84      0.84        19\n",
      "weighted avg       0.85      0.84      0.84        19\n",
      "\n"
     ]
    }
   ],
   "source": [
    "# Classifier using Ridge regression\n",
    "from sklearn.linear_model import RidgeClassifier\n",
    "\n",
    "ridgeClf = RidgeClassifier()\n",
    "ridgeClf.fit(X_train, y_train)\n",
    "\n",
    "y_pred = ridgeClf.predict(X_test)\n",
    "print(classification_report(y_test, y_pred, target_names=target_names))"
   ]
  },
  {
   "cell_type": "code",
   "execution_count": 9,
   "id": "5daaa51e",
   "metadata": {},
   "outputs": [
    {
     "name": "stdout",
     "output_type": "stream",
     "text": [
      "              precision    recall  f1-score   support\n",
      "\n",
      "       Lepen       0.67      0.67      0.67         9\n",
      "      Macron       0.70      0.70      0.70        10\n",
      "\n",
      "    accuracy                           0.68        19\n",
      "   macro avg       0.68      0.68      0.68        19\n",
      "weighted avg       0.68      0.68      0.68        19\n",
      "\n"
     ]
    }
   ],
   "source": [
    "from sklearn.linear_model import SGDClassifier\n",
    "#Linear classifiers (SVM, logistic regression, etc.) with SGD training.\n",
    "\n",
    "sgdClf = SGDClassifier()\n",
    "sgdClf.fit(X_train, y_train)\n",
    "\n",
    "y_pred = sgdClf.predict(X_test)\n",
    "print(classification_report(y_test, y_pred, target_names=target_names))"
   ]
  },
  {
   "cell_type": "markdown",
   "id": "5820b6fc",
   "metadata": {},
   "source": [
    "### Application de Foret aléatoire"
   ]
  },
  {
   "cell_type": "code",
   "execution_count": 10,
   "id": "47f80437",
   "metadata": {},
   "outputs": [
    {
     "name": "stdout",
     "output_type": "stream",
     "text": [
      "              precision    recall  f1-score   support\n",
      "\n",
      "       Lepen       1.00      0.78      0.88         9\n",
      "      Macron       0.83      1.00      0.91        10\n",
      "\n",
      "    accuracy                           0.89        19\n",
      "   macro avg       0.92      0.89      0.89        19\n",
      "weighted avg       0.91      0.89      0.89        19\n",
      "\n"
     ]
    }
   ],
   "source": [
    "from sklearn.ensemble import RandomForestClassifier\n",
    "\n",
    "# Entraînement d'une forêt aléatoire\n",
    "forest_model = RandomForestClassifier(n_estimators=1000, random_state=42)\n",
    "forest_model.fit(X_train, y_train)\n",
    "\n",
    "# Prédiction sur l'ensemble de test\n",
    "y_pred_forest = forest_model.predict(X_test)\n",
    "\n",
    "print(classification_report(y_test, y_pred_forest, target_names=target_names))"
   ]
  },
  {
   "cell_type": "markdown",
   "id": "390e937f",
   "metadata": {},
   "source": [
    "### Reseau de neuronne"
   ]
  },
  {
   "cell_type": "code",
   "execution_count": 11,
   "id": "9b381e23",
   "metadata": {},
   "outputs": [
    {
     "name": "stderr",
     "output_type": "stream",
     "text": [
      "WARNING:absl:At this time, the v2.11+ optimizer `tf.keras.optimizers.Adam` runs slowly on M1/M2 Macs, please use the legacy Keras optimizer instead, located at `tf.keras.optimizers.legacy.Adam`.\n",
      "WARNING:absl:There is a known slowdown when using v2.11+ Keras optimizers on M1/M2 Macs. Falling back to the legacy Keras optimizer, i.e., `tf.keras.optimizers.legacy.Adam`.\n"
     ]
    },
    {
     "name": "stdout",
     "output_type": "stream",
     "text": [
      "Epoch 1/1000\n"
     ]
    },
    {
     "name": "stderr",
     "output_type": "stream",
     "text": [
      "2024-04-17 19:38:23.433161: W tensorflow/tsl/platform/profile_utils/cpu_utils.cc:128] Failed to get CPU frequency: 0 Hz\n"
     ]
    },
    {
     "name": "stdout",
     "output_type": "stream",
     "text": [
      "3/3 [==============================] - 0s 72ms/step - loss: 0.6965 - accuracy: 0.4000 - val_loss: 0.6962 - val_accuracy: 0.3333\n",
      "Epoch 2/1000\n",
      "3/3 [==============================] - 0s 16ms/step - loss: 0.6956 - accuracy: 0.4400 - val_loss: 0.6959 - val_accuracy: 0.2222\n",
      "Epoch 3/1000\n",
      "3/3 [==============================] - 0s 16ms/step - loss: 0.6948 - accuracy: 0.4667 - val_loss: 0.6957 - val_accuracy: 0.2222\n",
      "Epoch 4/1000\n",
      "3/3 [==============================] - 0s 15ms/step - loss: 0.6942 - accuracy: 0.4800 - val_loss: 0.6954 - val_accuracy: 0.2222\n",
      "Epoch 5/1000\n",
      "3/3 [==============================] - 0s 15ms/step - loss: 0.6936 - accuracy: 0.5067 - val_loss: 0.6950 - val_accuracy: 0.3333\n",
      "Epoch 6/1000\n",
      "3/3 [==============================] - 0s 15ms/step - loss: 0.6931 - accuracy: 0.5467 - val_loss: 0.6947 - val_accuracy: 0.3333\n",
      "Epoch 7/1000\n",
      "3/3 [==============================] - 0s 15ms/step - loss: 0.6926 - accuracy: 0.5467 - val_loss: 0.6945 - val_accuracy: 0.3333\n",
      "Epoch 8/1000\n",
      "3/3 [==============================] - 0s 15ms/step - loss: 0.6922 - accuracy: 0.5600 - val_loss: 0.6943 - val_accuracy: 0.3333\n",
      "Epoch 9/1000\n",
      "3/3 [==============================] - 0s 15ms/step - loss: 0.6919 - accuracy: 0.5733 - val_loss: 0.6943 - val_accuracy: 0.3333\n",
      "Epoch 10/1000\n",
      "3/3 [==============================] - 0s 15ms/step - loss: 0.6915 - accuracy: 0.5867 - val_loss: 0.6942 - val_accuracy: 0.3333\n",
      "Epoch 11/1000\n",
      "3/3 [==============================] - 0s 15ms/step - loss: 0.6913 - accuracy: 0.5733 - val_loss: 0.6942 - val_accuracy: 0.3333\n",
      "Epoch 12/1000\n",
      "3/3 [==============================] - 0s 15ms/step - loss: 0.6909 - accuracy: 0.5733 - val_loss: 0.6940 - val_accuracy: 0.3333\n",
      "Epoch 13/1000\n",
      "3/3 [==============================] - 0s 16ms/step - loss: 0.6907 - accuracy: 0.5733 - val_loss: 0.6937 - val_accuracy: 0.3333\n",
      "Epoch 14/1000\n",
      "3/3 [==============================] - 0s 16ms/step - loss: 0.6904 - accuracy: 0.5867 - val_loss: 0.6934 - val_accuracy: 0.3333\n",
      "Epoch 15/1000\n",
      "3/3 [==============================] - 0s 16ms/step - loss: 0.6902 - accuracy: 0.5867 - val_loss: 0.6931 - val_accuracy: 0.4444\n",
      "Epoch 16/1000\n",
      "3/3 [==============================] - 0s 16ms/step - loss: 0.6899 - accuracy: 0.6133 - val_loss: 0.6927 - val_accuracy: 0.4444\n",
      "Epoch 17/1000\n",
      "3/3 [==============================] - 0s 16ms/step - loss: 0.6897 - accuracy: 0.6133 - val_loss: 0.6924 - val_accuracy: 0.4444\n",
      "Epoch 18/1000\n",
      "3/3 [==============================] - 0s 16ms/step - loss: 0.6894 - accuracy: 0.6133 - val_loss: 0.6920 - val_accuracy: 0.4444\n",
      "Epoch 19/1000\n",
      "3/3 [==============================] - 0s 15ms/step - loss: 0.6891 - accuracy: 0.6133 - val_loss: 0.6914 - val_accuracy: 0.4444\n",
      "Epoch 20/1000\n",
      "3/3 [==============================] - 0s 16ms/step - loss: 0.6887 - accuracy: 0.6133 - val_loss: 0.6906 - val_accuracy: 0.5556\n",
      "Epoch 21/1000\n",
      "3/3 [==============================] - 0s 16ms/step - loss: 0.6886 - accuracy: 0.6133 - val_loss: 0.6899 - val_accuracy: 0.5556\n",
      "Epoch 22/1000\n",
      "3/3 [==============================] - 0s 16ms/step - loss: 0.6882 - accuracy: 0.6133 - val_loss: 0.6894 - val_accuracy: 0.6667\n",
      "Epoch 23/1000\n",
      "3/3 [==============================] - 0s 16ms/step - loss: 0.6879 - accuracy: 0.6000 - val_loss: 0.6889 - val_accuracy: 0.6667\n",
      "Epoch 24/1000\n",
      "3/3 [==============================] - 0s 15ms/step - loss: 0.6877 - accuracy: 0.6000 - val_loss: 0.6886 - val_accuracy: 0.6667\n",
      "Epoch 25/1000\n",
      "3/3 [==============================] - 0s 15ms/step - loss: 0.6874 - accuracy: 0.6000 - val_loss: 0.6884 - val_accuracy: 0.6667\n",
      "Epoch 26/1000\n",
      "3/3 [==============================] - 0s 16ms/step - loss: 0.6872 - accuracy: 0.6133 - val_loss: 0.6881 - val_accuracy: 0.6667\n",
      "Epoch 27/1000\n",
      "3/3 [==============================] - 0s 15ms/step - loss: 0.6869 - accuracy: 0.6400 - val_loss: 0.6878 - val_accuracy: 0.6667\n",
      "Epoch 28/1000\n",
      "3/3 [==============================] - 0s 15ms/step - loss: 0.6867 - accuracy: 0.6267 - val_loss: 0.6874 - val_accuracy: 0.6667\n",
      "Epoch 29/1000\n",
      "3/3 [==============================] - 0s 15ms/step - loss: 0.6864 - accuracy: 0.6400 - val_loss: 0.6872 - val_accuracy: 0.6667\n",
      "Epoch 30/1000\n",
      "3/3 [==============================] - 0s 15ms/step - loss: 0.6861 - accuracy: 0.6400 - val_loss: 0.6870 - val_accuracy: 0.7778\n",
      "Epoch 31/1000\n",
      "3/3 [==============================] - 0s 15ms/step - loss: 0.6860 - accuracy: 0.6267 - val_loss: 0.6866 - val_accuracy: 0.7778\n",
      "Epoch 32/1000\n",
      "3/3 [==============================] - 0s 15ms/step - loss: 0.6857 - accuracy: 0.6267 - val_loss: 0.6865 - val_accuracy: 0.7778\n",
      "Epoch 33/1000\n",
      "3/3 [==============================] - 0s 9ms/step - loss: 0.6854 - accuracy: 0.6133 - val_loss: 0.6866 - val_accuracy: 0.7778\n",
      "Epoch 34/1000\n",
      "3/3 [==============================] - 0s 14ms/step - loss: 0.6850 - accuracy: 0.6133 - val_loss: 0.6864 - val_accuracy: 0.7778\n",
      "Epoch 35/1000\n",
      "3/3 [==============================] - 0s 9ms/step - loss: 0.6848 - accuracy: 0.6267 - val_loss: 0.6865 - val_accuracy: 0.7778\n",
      "Epoch 36/1000\n",
      "3/3 [==============================] - 0s 9ms/step - loss: 0.6845 - accuracy: 0.6400 - val_loss: 0.6865 - val_accuracy: 0.7778\n",
      "Epoch 37/1000\n",
      "3/3 [==============================] - 0s 9ms/step - loss: 0.6842 - accuracy: 0.6533 - val_loss: 0.6865 - val_accuracy: 0.7778\n",
      "Epoch 38/1000\n",
      "3/3 [==============================] - 0s 9ms/step - loss: 0.6839 - accuracy: 0.6533 - val_loss: 0.6865 - val_accuracy: 0.7778\n",
      "Epoch 39/1000\n",
      "3/3 [==============================] - 0s 15ms/step - loss: 0.6837 - accuracy: 0.6667 - val_loss: 0.6863 - val_accuracy: 0.7778\n",
      "Epoch 40/1000\n",
      "3/3 [==============================] - 0s 15ms/step - loss: 0.6834 - accuracy: 0.6533 - val_loss: 0.6859 - val_accuracy: 0.6667\n",
      "Epoch 41/1000\n",
      "3/3 [==============================] - 0s 15ms/step - loss: 0.6831 - accuracy: 0.6667 - val_loss: 0.6856 - val_accuracy: 0.6667\n",
      "Epoch 42/1000\n",
      "3/3 [==============================] - 0s 15ms/step - loss: 0.6828 - accuracy: 0.6667 - val_loss: 0.6855 - val_accuracy: 0.6667\n",
      "Epoch 43/1000\n",
      "3/3 [==============================] - 0s 8ms/step - loss: 0.6825 - accuracy: 0.6667 - val_loss: 0.6857 - val_accuracy: 0.5556\n",
      "Epoch 44/1000\n",
      "3/3 [==============================] - 0s 8ms/step - loss: 0.6822 - accuracy: 0.6533 - val_loss: 0.6857 - val_accuracy: 0.5556\n",
      "Epoch 45/1000\n",
      "3/3 [==============================] - 0s 15ms/step - loss: 0.6818 - accuracy: 0.6667 - val_loss: 0.6853 - val_accuracy: 0.5556\n",
      "Epoch 46/1000\n",
      "3/3 [==============================] - 0s 15ms/step - loss: 0.6815 - accuracy: 0.6533 - val_loss: 0.6849 - val_accuracy: 0.5556\n",
      "Epoch 47/1000\n",
      "3/3 [==============================] - 0s 15ms/step - loss: 0.6812 - accuracy: 0.6267 - val_loss: 0.6843 - val_accuracy: 0.5556\n",
      "Epoch 48/1000\n",
      "3/3 [==============================] - 0s 15ms/step - loss: 0.6809 - accuracy: 0.6267 - val_loss: 0.6835 - val_accuracy: 0.5556\n",
      "Epoch 49/1000\n",
      "3/3 [==============================] - 0s 15ms/step - loss: 0.6805 - accuracy: 0.6267 - val_loss: 0.6831 - val_accuracy: 0.5556\n",
      "Epoch 50/1000\n",
      "3/3 [==============================] - 0s 15ms/step - loss: 0.6803 - accuracy: 0.6267 - val_loss: 0.6827 - val_accuracy: 0.5556\n",
      "Epoch 51/1000\n",
      "3/3 [==============================] - 0s 15ms/step - loss: 0.6798 - accuracy: 0.6267 - val_loss: 0.6824 - val_accuracy: 0.5556\n",
      "Epoch 52/1000\n",
      "3/3 [==============================] - 0s 15ms/step - loss: 0.6795 - accuracy: 0.6267 - val_loss: 0.6821 - val_accuracy: 0.5556\n",
      "Epoch 53/1000\n",
      "3/3 [==============================] - 0s 15ms/step - loss: 0.6791 - accuracy: 0.6267 - val_loss: 0.6818 - val_accuracy: 0.5556\n",
      "Epoch 54/1000\n",
      "3/3 [==============================] - 0s 14ms/step - loss: 0.6787 - accuracy: 0.6267 - val_loss: 0.6814 - val_accuracy: 0.5556\n",
      "Epoch 55/1000\n",
      "3/3 [==============================] - 0s 15ms/step - loss: 0.6783 - accuracy: 0.6267 - val_loss: 0.6812 - val_accuracy: 0.5556\n",
      "Epoch 56/1000\n",
      "3/3 [==============================] - 0s 15ms/step - loss: 0.6780 - accuracy: 0.6267 - val_loss: 0.6811 - val_accuracy: 0.5556\n",
      "Epoch 57/1000\n",
      "3/3 [==============================] - 0s 15ms/step - loss: 0.6776 - accuracy: 0.6267 - val_loss: 0.6807 - val_accuracy: 0.5556\n",
      "Epoch 58/1000\n",
      "3/3 [==============================] - 0s 15ms/step - loss: 0.6772 - accuracy: 0.6133 - val_loss: 0.6802 - val_accuracy: 0.5556\n"
     ]
    },
    {
     "name": "stdout",
     "output_type": "stream",
     "text": [
      "Epoch 59/1000\n",
      "3/3 [==============================] - 0s 14ms/step - loss: 0.6767 - accuracy: 0.6267 - val_loss: 0.6801 - val_accuracy: 0.5556\n",
      "Epoch 60/1000\n",
      "3/3 [==============================] - 0s 15ms/step - loss: 0.6762 - accuracy: 0.6267 - val_loss: 0.6794 - val_accuracy: 0.5556\n",
      "Epoch 61/1000\n",
      "3/3 [==============================] - 0s 15ms/step - loss: 0.6759 - accuracy: 0.6267 - val_loss: 0.6784 - val_accuracy: 0.5556\n",
      "Epoch 62/1000\n",
      "3/3 [==============================] - 0s 15ms/step - loss: 0.6754 - accuracy: 0.6267 - val_loss: 0.6778 - val_accuracy: 0.5556\n",
      "Epoch 63/1000\n",
      "3/3 [==============================] - 0s 15ms/step - loss: 0.6750 - accuracy: 0.6267 - val_loss: 0.6773 - val_accuracy: 0.5556\n",
      "Epoch 64/1000\n",
      "3/3 [==============================] - 0s 15ms/step - loss: 0.6745 - accuracy: 0.6267 - val_loss: 0.6769 - val_accuracy: 0.5556\n",
      "Epoch 65/1000\n",
      "3/3 [==============================] - 0s 15ms/step - loss: 0.6741 - accuracy: 0.6267 - val_loss: 0.6765 - val_accuracy: 0.5556\n",
      "Epoch 66/1000\n",
      "3/3 [==============================] - 0s 15ms/step - loss: 0.6736 - accuracy: 0.6267 - val_loss: 0.6757 - val_accuracy: 0.5556\n",
      "Epoch 67/1000\n",
      "3/3 [==============================] - 0s 15ms/step - loss: 0.6732 - accuracy: 0.6267 - val_loss: 0.6744 - val_accuracy: 0.5556\n",
      "Epoch 68/1000\n",
      "3/3 [==============================] - 0s 15ms/step - loss: 0.6727 - accuracy: 0.6267 - val_loss: 0.6735 - val_accuracy: 0.5556\n",
      "Epoch 69/1000\n",
      "3/3 [==============================] - 0s 15ms/step - loss: 0.6722 - accuracy: 0.6267 - val_loss: 0.6726 - val_accuracy: 0.5556\n",
      "Epoch 70/1000\n",
      "3/3 [==============================] - 0s 14ms/step - loss: 0.6718 - accuracy: 0.6267 - val_loss: 0.6720 - val_accuracy: 0.5556\n",
      "Epoch 71/1000\n",
      "3/3 [==============================] - 0s 15ms/step - loss: 0.6712 - accuracy: 0.6400 - val_loss: 0.6714 - val_accuracy: 0.5556\n",
      "Epoch 72/1000\n",
      "3/3 [==============================] - 0s 15ms/step - loss: 0.6708 - accuracy: 0.6400 - val_loss: 0.6713 - val_accuracy: 0.5556\n",
      "Epoch 73/1000\n",
      "3/3 [==============================] - 0s 15ms/step - loss: 0.6701 - accuracy: 0.6400 - val_loss: 0.6712 - val_accuracy: 0.5556\n",
      "Epoch 74/1000\n",
      "3/3 [==============================] - 0s 15ms/step - loss: 0.6696 - accuracy: 0.6267 - val_loss: 0.6706 - val_accuracy: 0.5556\n",
      "Epoch 75/1000\n",
      "3/3 [==============================] - 0s 15ms/step - loss: 0.6692 - accuracy: 0.6267 - val_loss: 0.6699 - val_accuracy: 0.5556\n",
      "Epoch 76/1000\n",
      "3/3 [==============================] - 0s 15ms/step - loss: 0.6686 - accuracy: 0.6533 - val_loss: 0.6691 - val_accuracy: 0.5556\n",
      "Epoch 77/1000\n",
      "3/3 [==============================] - 0s 14ms/step - loss: 0.6679 - accuracy: 0.6400 - val_loss: 0.6669 - val_accuracy: 0.5556\n",
      "Epoch 78/1000\n",
      "3/3 [==============================] - 0s 14ms/step - loss: 0.6675 - accuracy: 0.6400 - val_loss: 0.6649 - val_accuracy: 0.5556\n",
      "Epoch 79/1000\n",
      "3/3 [==============================] - 0s 15ms/step - loss: 0.6667 - accuracy: 0.6533 - val_loss: 0.6632 - val_accuracy: 0.5556\n",
      "Epoch 80/1000\n",
      "3/3 [==============================] - 0s 15ms/step - loss: 0.6662 - accuracy: 0.6400 - val_loss: 0.6618 - val_accuracy: 0.5556\n",
      "Epoch 81/1000\n",
      "3/3 [==============================] - 0s 15ms/step - loss: 0.6657 - accuracy: 0.6400 - val_loss: 0.6607 - val_accuracy: 0.5556\n",
      "Epoch 82/1000\n",
      "3/3 [==============================] - 0s 15ms/step - loss: 0.6650 - accuracy: 0.6533 - val_loss: 0.6600 - val_accuracy: 0.5556\n",
      "Epoch 83/1000\n",
      "3/3 [==============================] - 0s 15ms/step - loss: 0.6646 - accuracy: 0.6400 - val_loss: 0.6588 - val_accuracy: 0.5556\n",
      "Epoch 84/1000\n",
      "3/3 [==============================] - 0s 15ms/step - loss: 0.6641 - accuracy: 0.6533 - val_loss: 0.6583 - val_accuracy: 0.5556\n",
      "Epoch 85/1000\n",
      "3/3 [==============================] - 0s 8ms/step - loss: 0.6633 - accuracy: 0.6400 - val_loss: 0.6595 - val_accuracy: 0.5556\n",
      "Epoch 86/1000\n",
      "3/3 [==============================] - 0s 8ms/step - loss: 0.6623 - accuracy: 0.6400 - val_loss: 0.6601 - val_accuracy: 0.5556\n",
      "Epoch 87/1000\n",
      "3/3 [==============================] - 0s 9ms/step - loss: 0.6611 - accuracy: 0.6400 - val_loss: 0.6599 - val_accuracy: 0.5556\n",
      "Epoch 88/1000\n",
      "3/3 [==============================] - 0s 15ms/step - loss: 0.6602 - accuracy: 0.6400 - val_loss: 0.6582 - val_accuracy: 0.5556\n",
      "Epoch 89/1000\n",
      "3/3 [==============================] - 0s 15ms/step - loss: 0.6592 - accuracy: 0.6533 - val_loss: 0.6572 - val_accuracy: 0.5556\n",
      "Epoch 90/1000\n",
      "3/3 [==============================] - 0s 15ms/step - loss: 0.6580 - accuracy: 0.6533 - val_loss: 0.6561 - val_accuracy: 0.5556\n",
      "Epoch 91/1000\n",
      "3/3 [==============================] - 0s 15ms/step - loss: 0.6569 - accuracy: 0.6533 - val_loss: 0.6552 - val_accuracy: 0.5556\n",
      "Epoch 92/1000\n",
      "3/3 [==============================] - 0s 15ms/step - loss: 0.6556 - accuracy: 0.6533 - val_loss: 0.6546 - val_accuracy: 0.5556\n",
      "Epoch 93/1000\n",
      "3/3 [==============================] - 0s 15ms/step - loss: 0.6545 - accuracy: 0.6667 - val_loss: 0.6539 - val_accuracy: 0.5556\n",
      "Epoch 94/1000\n",
      "3/3 [==============================] - 0s 16ms/step - loss: 0.6533 - accuracy: 0.6800 - val_loss: 0.6530 - val_accuracy: 0.5556\n",
      "Epoch 95/1000\n",
      "3/3 [==============================] - 0s 16ms/step - loss: 0.6520 - accuracy: 0.7067 - val_loss: 0.6509 - val_accuracy: 0.5556\n",
      "Epoch 96/1000\n",
      "3/3 [==============================] - 0s 15ms/step - loss: 0.6509 - accuracy: 0.6933 - val_loss: 0.6481 - val_accuracy: 0.5556\n",
      "Epoch 97/1000\n",
      "3/3 [==============================] - 0s 15ms/step - loss: 0.6497 - accuracy: 0.7067 - val_loss: 0.6463 - val_accuracy: 0.5556\n",
      "Epoch 98/1000\n",
      "3/3 [==============================] - 0s 15ms/step - loss: 0.6487 - accuracy: 0.7067 - val_loss: 0.6440 - val_accuracy: 0.5556\n",
      "Epoch 99/1000\n",
      "3/3 [==============================] - 0s 15ms/step - loss: 0.6474 - accuracy: 0.7067 - val_loss: 0.6421 - val_accuracy: 0.5556\n",
      "Epoch 100/1000\n",
      "3/3 [==============================] - 0s 15ms/step - loss: 0.6464 - accuracy: 0.7200 - val_loss: 0.6406 - val_accuracy: 0.5556\n",
      "Epoch 101/1000\n",
      "3/3 [==============================] - 0s 15ms/step - loss: 0.6452 - accuracy: 0.7200 - val_loss: 0.6399 - val_accuracy: 0.5556\n",
      "Epoch 102/1000\n",
      "3/3 [==============================] - 0s 15ms/step - loss: 0.6442 - accuracy: 0.7200 - val_loss: 0.6379 - val_accuracy: 0.5556\n",
      "Epoch 103/1000\n",
      "3/3 [==============================] - 0s 15ms/step - loss: 0.6431 - accuracy: 0.7200 - val_loss: 0.6354 - val_accuracy: 0.5556\n",
      "Epoch 104/1000\n",
      "3/3 [==============================] - 0s 15ms/step - loss: 0.6421 - accuracy: 0.7200 - val_loss: 0.6329 - val_accuracy: 0.5556\n",
      "Epoch 105/1000\n",
      "3/3 [==============================] - 0s 15ms/step - loss: 0.6408 - accuracy: 0.7200 - val_loss: 0.6310 - val_accuracy: 0.5556\n",
      "Epoch 106/1000\n",
      "3/3 [==============================] - 0s 15ms/step - loss: 0.6395 - accuracy: 0.7200 - val_loss: 0.6298 - val_accuracy: 0.5556\n",
      "Epoch 107/1000\n",
      "3/3 [==============================] - 0s 15ms/step - loss: 0.6383 - accuracy: 0.7467 - val_loss: 0.6281 - val_accuracy: 0.5556\n",
      "Epoch 108/1000\n",
      "3/3 [==============================] - 0s 15ms/step - loss: 0.6371 - accuracy: 0.7333 - val_loss: 0.6269 - val_accuracy: 0.5556\n",
      "Epoch 109/1000\n",
      "3/3 [==============================] - 0s 15ms/step - loss: 0.6359 - accuracy: 0.7333 - val_loss: 0.6253 - val_accuracy: 0.5556\n",
      "Epoch 110/1000\n",
      "3/3 [==============================] - 0s 15ms/step - loss: 0.6348 - accuracy: 0.7333 - val_loss: 0.6249 - val_accuracy: 0.5556\n",
      "Epoch 111/1000\n",
      "3/3 [==============================] - 0s 15ms/step - loss: 0.6337 - accuracy: 0.7333 - val_loss: 0.6237 - val_accuracy: 0.5556\n",
      "Epoch 112/1000\n",
      "3/3 [==============================] - 0s 15ms/step - loss: 0.6322 - accuracy: 0.7467 - val_loss: 0.6229 - val_accuracy: 0.5556\n",
      "Epoch 113/1000\n",
      "3/3 [==============================] - 0s 15ms/step - loss: 0.6310 - accuracy: 0.7467 - val_loss: 0.6215 - val_accuracy: 0.5556\n",
      "Epoch 114/1000\n",
      "3/3 [==============================] - 0s 15ms/step - loss: 0.6299 - accuracy: 0.7467 - val_loss: 0.6198 - val_accuracy: 0.5556\n",
      "Epoch 115/1000\n",
      "3/3 [==============================] - 0s 15ms/step - loss: 0.6286 - accuracy: 0.7467 - val_loss: 0.6178 - val_accuracy: 0.5556\n",
      "Epoch 116/1000\n"
     ]
    },
    {
     "name": "stdout",
     "output_type": "stream",
     "text": [
      "3/3 [==============================] - 0s 15ms/step - loss: 0.6273 - accuracy: 0.7467 - val_loss: 0.6166 - val_accuracy: 0.5556\n",
      "Epoch 117/1000\n",
      "3/3 [==============================] - 0s 15ms/step - loss: 0.6260 - accuracy: 0.7467 - val_loss: 0.6158 - val_accuracy: 0.5556\n",
      "Epoch 118/1000\n",
      "3/3 [==============================] - 0s 14ms/step - loss: 0.6250 - accuracy: 0.7467 - val_loss: 0.6156 - val_accuracy: 0.5556\n",
      "Epoch 119/1000\n",
      "3/3 [==============================] - 0s 15ms/step - loss: 0.6236 - accuracy: 0.7467 - val_loss: 0.6150 - val_accuracy: 0.5556\n",
      "Epoch 120/1000\n",
      "3/3 [==============================] - 0s 14ms/step - loss: 0.6225 - accuracy: 0.7467 - val_loss: 0.6144 - val_accuracy: 0.5556\n",
      "Epoch 121/1000\n",
      "3/3 [==============================] - 0s 15ms/step - loss: 0.6215 - accuracy: 0.7333 - val_loss: 0.6139 - val_accuracy: 0.5556\n",
      "Epoch 122/1000\n",
      "3/3 [==============================] - 0s 15ms/step - loss: 0.6203 - accuracy: 0.7333 - val_loss: 0.6128 - val_accuracy: 0.5556\n",
      "Epoch 123/1000\n",
      "3/3 [==============================] - 0s 15ms/step - loss: 0.6191 - accuracy: 0.7333 - val_loss: 0.6119 - val_accuracy: 0.5556\n",
      "Epoch 124/1000\n",
      "3/3 [==============================] - 0s 15ms/step - loss: 0.6180 - accuracy: 0.7333 - val_loss: 0.6109 - val_accuracy: 0.5556\n",
      "Epoch 125/1000\n",
      "3/3 [==============================] - 0s 15ms/step - loss: 0.6165 - accuracy: 0.7467 - val_loss: 0.6089 - val_accuracy: 0.5556\n",
      "Epoch 126/1000\n",
      "3/3 [==============================] - 0s 14ms/step - loss: 0.6154 - accuracy: 0.7467 - val_loss: 0.6068 - val_accuracy: 0.6667\n",
      "Epoch 127/1000\n",
      "3/3 [==============================] - 0s 15ms/step - loss: 0.6138 - accuracy: 0.7333 - val_loss: 0.6057 - val_accuracy: 0.6667\n",
      "Epoch 128/1000\n",
      "3/3 [==============================] - 0s 15ms/step - loss: 0.6128 - accuracy: 0.7200 - val_loss: 0.6047 - val_accuracy: 0.6667\n",
      "Epoch 129/1000\n",
      "3/3 [==============================] - 0s 15ms/step - loss: 0.6112 - accuracy: 0.7200 - val_loss: 0.6025 - val_accuracy: 0.6667\n",
      "Epoch 130/1000\n",
      "3/3 [==============================] - 0s 14ms/step - loss: 0.6099 - accuracy: 0.7200 - val_loss: 0.5999 - val_accuracy: 0.6667\n",
      "Epoch 131/1000\n",
      "3/3 [==============================] - 0s 14ms/step - loss: 0.6088 - accuracy: 0.7200 - val_loss: 0.5971 - val_accuracy: 0.6667\n",
      "Epoch 132/1000\n",
      "3/3 [==============================] - 0s 15ms/step - loss: 0.6074 - accuracy: 0.7200 - val_loss: 0.5952 - val_accuracy: 0.6667\n",
      "Epoch 133/1000\n",
      "3/3 [==============================] - 0s 15ms/step - loss: 0.6062 - accuracy: 0.7200 - val_loss: 0.5932 - val_accuracy: 0.7778\n",
      "Epoch 134/1000\n",
      "3/3 [==============================] - 0s 15ms/step - loss: 0.6048 - accuracy: 0.7333 - val_loss: 0.5921 - val_accuracy: 0.7778\n",
      "Epoch 135/1000\n",
      "3/3 [==============================] - 0s 15ms/step - loss: 0.6033 - accuracy: 0.7333 - val_loss: 0.5915 - val_accuracy: 0.7778\n",
      "Epoch 136/1000\n",
      "3/3 [==============================] - 0s 8ms/step - loss: 0.6021 - accuracy: 0.7333 - val_loss: 0.5918 - val_accuracy: 0.8889\n",
      "Epoch 137/1000\n",
      "3/3 [==============================] - 0s 8ms/step - loss: 0.6010 - accuracy: 0.7467 - val_loss: 0.5919 - val_accuracy: 0.8889\n",
      "Epoch 138/1000\n",
      "3/3 [==============================] - 0s 15ms/step - loss: 0.5997 - accuracy: 0.7600 - val_loss: 0.5911 - val_accuracy: 0.8889\n",
      "Epoch 139/1000\n",
      "3/3 [==============================] - 0s 15ms/step - loss: 0.5985 - accuracy: 0.7600 - val_loss: 0.5909 - val_accuracy: 0.8889\n",
      "Epoch 140/1000\n",
      "3/3 [==============================] - 0s 15ms/step - loss: 0.5970 - accuracy: 0.7600 - val_loss: 0.5899 - val_accuracy: 0.8889\n",
      "Epoch 141/1000\n",
      "3/3 [==============================] - 0s 15ms/step - loss: 0.5955 - accuracy: 0.7600 - val_loss: 0.5876 - val_accuracy: 0.8889\n",
      "Epoch 142/1000\n",
      "3/3 [==============================] - 0s 15ms/step - loss: 0.5940 - accuracy: 0.7867 - val_loss: 0.5854 - val_accuracy: 0.8889\n",
      "Epoch 143/1000\n",
      "3/3 [==============================] - 0s 15ms/step - loss: 0.5928 - accuracy: 0.7867 - val_loss: 0.5834 - val_accuracy: 0.8889\n",
      "Epoch 144/1000\n",
      "3/3 [==============================] - 0s 15ms/step - loss: 0.5913 - accuracy: 0.7867 - val_loss: 0.5826 - val_accuracy: 0.8889\n",
      "Epoch 145/1000\n",
      "3/3 [==============================] - 0s 15ms/step - loss: 0.5899 - accuracy: 0.7867 - val_loss: 0.5816 - val_accuracy: 0.8889\n",
      "Epoch 146/1000\n",
      "3/3 [==============================] - 0s 15ms/step - loss: 0.5885 - accuracy: 0.7867 - val_loss: 0.5808 - val_accuracy: 0.8889\n",
      "Epoch 147/1000\n",
      "3/3 [==============================] - 0s 15ms/step - loss: 0.5872 - accuracy: 0.7867 - val_loss: 0.5802 - val_accuracy: 0.8889\n",
      "Epoch 148/1000\n",
      "3/3 [==============================] - 0s 15ms/step - loss: 0.5858 - accuracy: 0.7600 - val_loss: 0.5793 - val_accuracy: 0.8889\n",
      "Epoch 149/1000\n",
      "3/3 [==============================] - 0s 15ms/step - loss: 0.5843 - accuracy: 0.7467 - val_loss: 0.5783 - val_accuracy: 0.8889\n",
      "Epoch 150/1000\n",
      "3/3 [==============================] - 0s 15ms/step - loss: 0.5832 - accuracy: 0.7467 - val_loss: 0.5774 - val_accuracy: 0.8889\n",
      "Epoch 151/1000\n",
      "3/3 [==============================] - 0s 15ms/step - loss: 0.5817 - accuracy: 0.7467 - val_loss: 0.5758 - val_accuracy: 0.8889\n",
      "Epoch 152/1000\n",
      "3/3 [==============================] - 0s 15ms/step - loss: 0.5806 - accuracy: 0.7467 - val_loss: 0.5737 - val_accuracy: 0.8889\n",
      "Epoch 153/1000\n",
      "3/3 [==============================] - 0s 15ms/step - loss: 0.5796 - accuracy: 0.7467 - val_loss: 0.5718 - val_accuracy: 0.8889\n",
      "Epoch 154/1000\n",
      "3/3 [==============================] - 0s 15ms/step - loss: 0.5783 - accuracy: 0.7467 - val_loss: 0.5702 - val_accuracy: 0.8889\n",
      "Epoch 155/1000\n",
      "3/3 [==============================] - 0s 15ms/step - loss: 0.5771 - accuracy: 0.7467 - val_loss: 0.5684 - val_accuracy: 0.8889\n",
      "Epoch 156/1000\n",
      "3/3 [==============================] - 0s 15ms/step - loss: 0.5761 - accuracy: 0.7467 - val_loss: 0.5671 - val_accuracy: 0.8889\n",
      "Epoch 157/1000\n",
      "3/3 [==============================] - 0s 14ms/step - loss: 0.5750 - accuracy: 0.7467 - val_loss: 0.5667 - val_accuracy: 0.8889\n",
      "Epoch 158/1000\n",
      "3/3 [==============================] - 0s 15ms/step - loss: 0.5735 - accuracy: 0.7467 - val_loss: 0.5664 - val_accuracy: 0.8889\n",
      "Epoch 159/1000\n",
      "3/3 [==============================] - 0s 9ms/step - loss: 0.5722 - accuracy: 0.7467 - val_loss: 0.5665 - val_accuracy: 0.8889\n",
      "Epoch 160/1000\n",
      "3/3 [==============================] - 0s 17ms/step - loss: 0.5706 - accuracy: 0.7467 - val_loss: 0.5654 - val_accuracy: 0.8889\n",
      "Epoch 161/1000\n",
      "3/3 [==============================] - 0s 15ms/step - loss: 0.5693 - accuracy: 0.7467 - val_loss: 0.5652 - val_accuracy: 0.8889\n",
      "Epoch 162/1000\n",
      "3/3 [==============================] - 0s 9ms/step - loss: 0.5682 - accuracy: 0.7467 - val_loss: 0.5659 - val_accuracy: 0.8889\n",
      "Epoch 163/1000\n",
      "3/3 [==============================] - 0s 15ms/step - loss: 0.5667 - accuracy: 0.7467 - val_loss: 0.5646 - val_accuracy: 0.8889\n",
      "Epoch 164/1000\n",
      "3/3 [==============================] - 0s 15ms/step - loss: 0.5653 - accuracy: 0.7467 - val_loss: 0.5633 - val_accuracy: 0.8889\n",
      "Epoch 165/1000\n",
      "3/3 [==============================] - 0s 15ms/step - loss: 0.5640 - accuracy: 0.7467 - val_loss: 0.5619 - val_accuracy: 0.8889\n",
      "Epoch 166/1000\n",
      "3/3 [==============================] - 0s 15ms/step - loss: 0.5624 - accuracy: 0.7467 - val_loss: 0.5598 - val_accuracy: 0.8889\n",
      "Epoch 167/1000\n",
      "3/3 [==============================] - 0s 15ms/step - loss: 0.5612 - accuracy: 0.7467 - val_loss: 0.5580 - val_accuracy: 0.8889\n",
      "Epoch 168/1000\n",
      "3/3 [==============================] - 0s 15ms/step - loss: 0.5598 - accuracy: 0.7467 - val_loss: 0.5564 - val_accuracy: 0.8889\n",
      "Epoch 169/1000\n",
      "3/3 [==============================] - 0s 15ms/step - loss: 0.5584 - accuracy: 0.7467 - val_loss: 0.5556 - val_accuracy: 0.8889\n",
      "Epoch 170/1000\n",
      "3/3 [==============================] - 0s 15ms/step - loss: 0.5573 - accuracy: 0.7600 - val_loss: 0.5552 - val_accuracy: 0.8889\n",
      "Epoch 171/1000\n",
      "3/3 [==============================] - 0s 9ms/step - loss: 0.5559 - accuracy: 0.7600 - val_loss: 0.5553 - val_accuracy: 0.8889\n",
      "Epoch 172/1000\n",
      "3/3 [==============================] - 0s 8ms/step - loss: 0.5546 - accuracy: 0.7733 - val_loss: 0.5567 - val_accuracy: 0.8889\n",
      "Epoch 173/1000\n"
     ]
    },
    {
     "name": "stdout",
     "output_type": "stream",
     "text": [
      "3/3 [==============================] - 0s 9ms/step - loss: 0.5531 - accuracy: 0.7600 - val_loss: 0.5580 - val_accuracy: 0.8889\n",
      "Epoch 174/1000\n",
      "3/3 [==============================] - 0s 9ms/step - loss: 0.5519 - accuracy: 0.7600 - val_loss: 0.5588 - val_accuracy: 0.8889\n",
      "Epoch 175/1000\n",
      "3/3 [==============================] - 0s 8ms/step - loss: 0.5507 - accuracy: 0.7600 - val_loss: 0.5596 - val_accuracy: 0.8889\n",
      "Epoch 176/1000\n",
      "3/3 [==============================] - 0s 8ms/step - loss: 0.5493 - accuracy: 0.7600 - val_loss: 0.5589 - val_accuracy: 0.8889\n",
      "Epoch 177/1000\n",
      "3/3 [==============================] - 0s 8ms/step - loss: 0.5481 - accuracy: 0.7600 - val_loss: 0.5590 - val_accuracy: 0.8889\n",
      "Epoch 178/1000\n",
      "3/3 [==============================] - 0s 9ms/step - loss: 0.5469 - accuracy: 0.7600 - val_loss: 0.5581 - val_accuracy: 0.8889\n",
      "Epoch 179/1000\n",
      "3/3 [==============================] - 0s 8ms/step - loss: 0.5456 - accuracy: 0.7600 - val_loss: 0.5566 - val_accuracy: 0.8889\n",
      "Epoch 180/1000\n",
      "3/3 [==============================] - 0s 8ms/step - loss: 0.5443 - accuracy: 0.7600 - val_loss: 0.5556 - val_accuracy: 0.8889\n"
     ]
    }
   ],
   "source": [
    "import tensorflow as tf\n",
    "from tensorflow.keras import optimizers, losses, callbacks\n",
    "import numpy as np\n",
    "\n",
    "X_trainNN = np.array(X_train)\n",
    "y_trainNN = np.array(y_train)\n",
    "X_valNN, X_testNN = train_test_split(X_test, test_size=0.5, random_state=42)\n",
    "y_valNN, y_testNN = train_test_split(y_test, test_size=0.5, random_state=42)\n",
    "\n",
    "X_valNN = np.array(X_valNN)\n",
    "y_valNN = np.array(y_valNN)\n",
    "\n",
    "X_testNN = np.array(X_testNN)\n",
    "y_testNN = np.array(y_testNN)\n",
    "\n",
    "CallBackSave = callbacks.ModelCheckpoint(\"best_model.h5\", \n",
    "                                                 monitor='val_loss', \n",
    "                                                 save_best_only=True, \n",
    "                                                 mode='min')\n",
    "\n",
    "callbackStop = callbacks.EarlyStopping(monitor='val_loss', \n",
    "                                                  patience=10)\n",
    "\n",
    "model = tf.keras.models.Sequential([\n",
    "    tf.keras.layers.Dense(features.shape[1], activation='relu'),\n",
    "    tf.keras.layers.Dense(int(features.shape[1]*3/4), activation='relu'),\n",
    "    tf.keras.layers.Dense(int(features.shape[1]/2), activation='relu'),\n",
    "    tf.keras.layers.Dense(1, activation='sigmoid')\n",
    "])\n",
    "\n",
    "model.compile(loss=losses.binary_crossentropy,\n",
    "              optimizer=optimizers.Adam(),\n",
    "              metrics=['accuracy'])     \n",
    "\n",
    "history = model.fit(X_trainNN, y_trainNN,\n",
    "                    epochs=1000,validation_data=(X_valNN, y_valNN),\n",
    "                    callbacks=[CallBackSave,callbackStop]\n",
    "                   )\n"
   ]
  },
  {
   "cell_type": "code",
   "execution_count": 12,
   "id": "70d334b4",
   "metadata": {},
   "outputs": [
    {
     "name": "stdout",
     "output_type": "stream",
     "text": [
      "1/1 [==============================] - 0s 51ms/step\n",
      "              precision    recall  f1-score   support\n",
      "\n",
      "       Lepen       1.00      0.60      0.75         5\n",
      "      Macron       0.71      1.00      0.83         5\n",
      "\n",
      "    accuracy                           0.80        10\n",
      "   macro avg       0.86      0.80      0.79        10\n",
      "weighted avg       0.86      0.80      0.79        10\n",
      "\n"
     ]
    }
   ],
   "source": [
    "best_model = tf.keras.models.load_model(\"best_model.h5\")\n",
    "\n",
    "y_pred_NN = model.predict(X_testNN)\n",
    "y_pred_binary = (y_pred_NN > 0.5).astype(int)\n",
    "print(classification_report(y_testNN, y_pred_binary, target_names=target_names))"
   ]
  },
  {
   "cell_type": "code",
   "execution_count": 13,
   "id": "3506468c",
   "metadata": {},
   "outputs": [
    {
     "data": {
      "image/png": "[encoded data removed]",
      "text/plain": [
       "<Figure size 640x480 with 1 Axes>"
      ]
     },
     "metadata": {},
     "output_type": "display_data"
    }
   ],
   "source": [
    "import matplotlib.pyplot as plt\n",
    "\n",
    "acc = history.history['accuracy']\n",
    "val_acc = history.history['val_accuracy']\n",
    "epochs = [*range(len(acc))]\n",
    "\n",
    "#------------------------------------------------\n",
    "# Plot training and validation accuracy per epoch\n",
    "#------------------------------------------------\n",
    "plt.plot(epochs, acc, 'r')\n",
    "plt.plot(epochs, val_acc, 'b')\n",
    "plt.title('Training and validation accuracy')\n",
    "plt.xlabel(\"Epochs\")\n",
    "plt.ylabel(\"Accuracy\")\n",
    "plt.legend([\"Accuracy\", \"Validation Accuracy\"])\n",
    "plt.show()"
   ]
  },
  {
   "cell_type": "code",
   "execution_count": 14,
   "id": "b985b247",
   "metadata": {},
   "outputs": [
    {
     "data": {
      "image/png": "[encoded data removed]",
      "text/plain": [
       "<Figure size 640x480 with 1 Axes>"
      ]
     },
     "metadata": {},
     "output_type": "display_data"
    }
   ],
   "source": [
    "import matplotlib.pyplot as plt\n",
    "\n",
    "loss = history.history['loss']\n",
    "val_loss = history.history['val_loss']\n",
    "epochs = [*range(len(loss))]\n",
    "\n",
    "#------------------------------------------------\n",
    "# Plot training and validation accuracy per epoch\n",
    "#------------------------------------------------\n",
    "plt.plot(epochs, loss, 'r')\n",
    "plt.plot(epochs, val_loss, 'b')\n",
    "plt.title('Training and validation loss')\n",
    "plt.xlabel(\"Epochs\")\n",
    "plt.ylabel(\"Accuracy\")\n",
    "plt.legend([\"loss\", \"Validation loss\"])\n",
    "plt.show()"
   ]
  },
  {
   "cell_type": "markdown",
   "id": "e0bf60f5",
   "metadata": {},
   "source": [
    "### KNN voisin"
   ]
  },
  {
   "cell_type": "code",
   "execution_count": 49,
   "id": "efec63e6",
   "metadata": {},
   "outputs": [
    {
     "name": "stdout",
     "output_type": "stream",
     "text": [
      "              precision    recall  f1-score   support\n",
      "\n",
      "       Lepen       0.80      0.80      0.80         5\n",
      "      Macron       0.80      0.80      0.80         5\n",
      "\n",
      "    accuracy                           0.80        10\n",
      "   macro avg       0.80      0.80      0.80        10\n",
      "weighted avg       0.80      0.80      0.80        10\n",
      "\n"
     ]
    }
   ],
   "source": [
    "from sklearn.neighbors import KNeighborsClassifier\n",
    "\n",
    "acc=0\n",
    "bestN_neighbors=1\n",
    "\n",
    "X_valKNN, X_testKNN = train_test_split(X_test, test_size=0.5, random_state=42)\n",
    "y_valKNN, y_testKNN = train_test_split(y_test, test_size=0.5, random_state=42)\n",
    "\n",
    "\n",
    "for i in range (1,X_testKNN.shape[0]+1):\n",
    "    knn_model = KNeighborsClassifier(n_neighbors=i)\n",
    "    knn_model.fit(X_train, y_train)\n",
    "    \n",
    "    y_pred = knn_model.predict(X_valKNN)\n",
    "    matriceConfusion = classification_report(y_valKNN, y_pred, output_dict=True)\n",
    "    \n",
    "    precision_class_0 = matriceConfusion['0']['precision']\n",
    "    precision_class_1 = matriceConfusion['1']['precision']\n",
    "    \n",
    "    avg_precision = (precision_class_0 + precision_class_1) / 2\n",
    "    \n",
    "    if avg_precision > acc:\n",
    "        bestN_neighbors = i\n",
    "        acc = avg_precision\n",
    "        \n",
    "knn_model = KNeighborsClassifier(n_neighbors=bestN_neighbors)\n",
    "knn_model.fit(X_train, y_train)\n",
    "    \n",
    "y_pred = knn_model.predict(X_testKNN)\n",
    "print(classification_report(y_testKNN, y_pred, target_names=target_names))"
   ]
  },
  {
   "cell_type": "code",
   "execution_count": null,
   "id": "93258fec",
   "metadata": {},
   "outputs": [],
   "source": []
  }
 ],
 "metadata": {
  "kernelspec": {
   "display_name": "Python 3 (ipykernel)",
   "language": "python",
   "name": "python3"
  },
  "language_info": {
   "codemirror_mode": {
    "name": "ipython",
    "version": 3
   },
   "file_extension": ".py",
   "mimetype": "text/x-python",
   "name": "python",
   "nbconvert_exporter": "python",
   "pygments_lexer": "ipython3",
   "version": "3.11.0"
  }
 },
 "nbformat": 4,
 "nbformat_minor": 5
}
