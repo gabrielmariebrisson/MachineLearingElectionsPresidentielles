{
 "cells": [
  {
   "cell_type": "markdown",
   "id": "a3d35130",
   "metadata": {},
   "source": [
    "# Partie sur la prediction des données"
   ]
  },
  {
   "cell_type": "markdown",
   "id": "0fc97542",
   "metadata": {},
   "source": [
    "## Classification des elections du second tour 2022"
   ]
  },
  {
   "cell_type": "markdown",
   "id": "fd753c08",
   "metadata": {},
   "source": [
    "### Application de SVM, en faisant du copier coller du tp8"
   ]
  },
  {
   "cell_type": "code",
   "execution_count": 1,
   "id": "1a296d10",
   "metadata": {},
   "outputs": [],
   "source": [
    "import pandas as pd\n",
    "from sklearn.svm import SVC\n",
    "from sklearn.metrics import classification_report\n",
    "from sklearn.model_selection import train_test_split\n",
    "from sklearn.preprocessing import StandardScaler"
   ]
  },
  {
   "cell_type": "code",
   "execution_count": 2,
   "id": "d55e820d",
   "metadata": {},
   "outputs": [
    {
     "name": "stdout",
     "output_type": "stream",
     "text": [
      "                Departement nbPersonne     Macron      Lepen niveauEtude  \\\n",
      "0                       Ain     671937  50.982366  49.017659        41.4   \n",
      "1                     Aisne     522791  38.089161  61.910914        29.7   \n",
      "2                    Allier     332443  48.201987  51.798013        33.4   \n",
      "3   Alpes-de-Haute-Provence     166654  47.890556  52.109697        37.2   \n",
      "4              Hautes-Alpes     139942  53.414383  46.585802        41.7   \n",
      "..                      ...        ...        ...        ...         ...   \n",
      "89    Territoire de Belfort     136891  45.499208  54.500792        43.3   \n",
      "90                  Essonne    1316053  58.871340  41.128711        47.5   \n",
      "91           Hauts-de-Seine    1642002  80.148611  19.851389        71.1   \n",
      "92             Val-de-Marne    1426748  71.616596  28.383404        56.1   \n",
      "93               Val-d'Oise    1274374  58.109402  41.890707        45.2   \n",
      "\n",
      "    tauxChomage Proximité   Immigré  \n",
      "0           5.5      1.66   79312.0  \n",
      "1          10.5      0.83   25515.0  \n",
      "2           7.7      2.39   17601.0  \n",
      "3           8.2      0.96   13762.0  \n",
      "4           6.9      5.43    8019.0  \n",
      "..          ...       ...       ...  \n",
      "89          8.3      6.09   13875.0  \n",
      "90          6.4      3.34  224344.0  \n",
      "91          5.9      4.19  307362.0  \n",
      "92          7.1      2.92  311186.0  \n",
      "93          8.0      1.53  253856.0  \n",
      "\n",
      "[94 rows x 8 columns]\n"
     ]
    }
   ],
   "source": [
    "#creation du dataset\n",
    "df_pourcent_chomage = pd.read_excel('AutreData/tauxChomage.xlsx').dropna()\n",
    "df_pourcent_chomage = df_pourcent_chomage.iloc[:, [1, 2]]\n",
    "df_pourcent_chomage.columns = ['Departement', 'tauxChomage']\n",
    "\n",
    "df_niveauEtude = pd.read_excel('AutreData/NiveauEtudeJeune2017.xlsx', sheet_name='Figure 1a').dropna()\n",
    "df_niveauEtude = df_niveauEtude.iloc[:, [1, 2]]\n",
    "df_niveauEtude.columns = ['Departement', 'niveauEtude']\n",
    "\n",
    "df_densitePop = pd.read_excel('AutreData/NbPopDepartement2023.xls', sheet_name='2023').dropna()\n",
    "df_densitePop = df_densitePop.iloc[:, [1, 7]]\n",
    "df_densitePop.columns = ['Departement', 'nbPersonne']\n",
    "\n",
    "df_magasinBIO = pd.read_excel('AutreData/MagasinBio2016.xls', sheet_name='Figure 2').dropna()\n",
    "df_magasinBIO.columns = ['Departement', 'Proximité']\n",
    "\n",
    "df_PopImmigre = pd.read_excel('AutreData/PopImmigré.xlsx').dropna()\n",
    "df_PopImmigre = df_PopImmigre.iloc[:, [1, 2]]\n",
    "df_PopImmigre.columns = ['Departement', 'Immigré']\n",
    "\n",
    "# Charger les données des résultats présidentiels\n",
    "df_resultatPresidentielle = pd.read_excel('resultats-par-niveau-subcom-t2-france-entiere.xlsx').dropna()\n",
    "df_resultatPresidentielle = df_resultatPresidentielle.iloc[:, [1, 25, 32]]\n",
    "df_resultatPresidentielle.columns = [ 'Departement', 'Macron', 'Lepen']\n",
    "df_resultatPresidentielle = df_resultatPresidentielle.groupby('Departement')[['Macron', 'Lepen']].mean().reset_index()\n",
    "\n",
    "df_concat = pd.merge(df_densitePop, df_resultatPresidentielle, on='Departement')\n",
    "df_concat = pd.merge(df_concat, df_niveauEtude, on='Departement')\n",
    "df_concat = pd.merge(df_concat, df_pourcent_chomage, on='Departement')\n",
    "df_concat = pd.merge(df_concat, df_magasinBIO, on='Departement')\n",
    "df_concat = pd.merge(df_concat, df_PopImmigre, on='Departement')\n",
    "print(df_concat)"
   ]
  },
  {
   "cell_type": "code",
   "execution_count": 3,
   "id": "c0844174",
   "metadata": {},
   "outputs": [],
   "source": [
    "# Sélection des features\n",
    "features = df_concat.drop(['Departement','Macron', 'Lepen'], axis=1)\n",
    "y = [0 if x <= 50 else 1 for x in df_concat['Macron']]\n",
    "\n",
    "# Normalisation des données\n",
    "scaler = StandardScaler()\n",
    "X_scaled = scaler.fit_transform(features)\n",
    "\n",
    "#division des données\n",
    "X_train, X_test, y_train, y_test = train_test_split(X_scaled, y, test_size=0.2, random_state=42)"
   ]
  },
  {
   "cell_type": "code",
   "execution_count": 4,
   "id": "942aaf12",
   "metadata": {},
   "outputs": [
    {
     "name": "stdout",
     "output_type": "stream",
     "text": [
      "Performance du SVM avec un noyau linéaire :\n",
      "              precision    recall  f1-score   support\n",
      "\n",
      "           0       1.00      0.67      0.80         9\n",
      "           1       0.77      1.00      0.87        10\n",
      "\n",
      "    accuracy                           0.84        19\n",
      "   macro avg       0.88      0.83      0.83        19\n",
      "weighted avg       0.88      0.84      0.84        19\n",
      "\n"
     ]
    }
   ],
   "source": [
    "svm_linear = SVC(kernel='linear')\n",
    "svm_linear.fit(X_train, y_train)\n",
    "\n",
    "# Prédire sur les données de test et évaluer les performances\n",
    "y_pred_linear = svm_linear.predict(X_test)\n",
    "print(\"Performance du SVM avec un noyau linéaire :\")\n",
    "print(classification_report(y_test, y_pred_linear))"
   ]
  },
  {
   "cell_type": "code",
   "execution_count": 5,
   "id": "65989fba",
   "metadata": {},
   "outputs": [
    {
     "name": "stdout",
     "output_type": "stream",
     "text": [
      "Performance du SVM avec un noyau linéaire :\n",
      "              precision    recall  f1-score   support\n",
      "\n",
      "           0       0.56      1.00      0.72         9\n",
      "           1       1.00      0.30      0.46        10\n",
      "\n",
      "    accuracy                           0.63        19\n",
      "   macro avg       0.78      0.65      0.59        19\n",
      "weighted avg       0.79      0.63      0.58        19\n",
      "\n"
     ]
    }
   ],
   "source": [
    "svm_linear = SVC(kernel='poly')\n",
    "svm_linear.fit(X_train, y_train)\n",
    "\n",
    "# Prédire sur les données de test et évaluer les performances\n",
    "y_pred_linear = svm_linear.predict(X_test)\n",
    "print(\"Performance du SVM avec un noyau linéaire :\")\n",
    "print(classification_report(y_test, y_pred_linear))"
   ]
  },
  {
   "cell_type": "code",
   "execution_count": 6,
   "id": "a0077c3d",
   "metadata": {},
   "outputs": [
    {
     "name": "stdout",
     "output_type": "stream",
     "text": [
      "Meilleurs paramètres pour SVM: {'C': 10, 'gamma': 0.1}\n",
      "Performance du SVM avec les meilleurs paramètres :\n",
      "              precision    recall  f1-score   support\n",
      "\n",
      "           0       0.86      0.67      0.75         9\n",
      "           1       0.75      0.90      0.82        10\n",
      "\n",
      "    accuracy                           0.79        19\n",
      "   macro avg       0.80      0.78      0.78        19\n",
      "weighted avg       0.80      0.79      0.79        19\n",
      "\n"
     ]
    }
   ],
   "source": [
    "from sklearn.model_selection import GridSearchCV\n",
    "\n",
    "param_grid = {'C': [0.1, 1, 10, 100], 'gamma': [0.001, 0.01, 0.1, 1]}\n",
    "grid_search = GridSearchCV(SVC(), param_grid, cv=5)\n",
    "grid_search.fit(X_train, y_train)\n",
    "best_svm = grid_search.best_estimator_\n",
    "y_pred_best = best_svm.predict(X_test)\n",
    "print(\"Meilleurs paramètres pour SVM:\", grid_search.best_params_)\n",
    "print(\"Performance du SVM avec les meilleurs paramètres :\")\n",
    "print(classification_report(y_test, y_pred_best))"
   ]
  }
 ],
 "metadata": {
  "kernelspec": {
   "display_name": "Python 3 (ipykernel)",
   "language": "python",
   "name": "python3"
  },
  "language_info": {
   "codemirror_mode": {
    "name": "ipython",
    "version": 3
   },
   "file_extension": ".py",
   "mimetype": "text/x-python",
   "name": "python",
   "nbconvert_exporter": "python",
   "pygments_lexer": "ipython3",
   "version": "3.11.0"
  }
 },
 "nbformat": 4,
 "nbformat_minor": 5
}
