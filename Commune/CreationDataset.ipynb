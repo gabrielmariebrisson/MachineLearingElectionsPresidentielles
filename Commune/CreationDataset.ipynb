{
 "cells": [
  {
   "cell_type": "markdown",
   "id": "a3d35130",
   "metadata": {},
   "source": [
    "# Creation DataSet pour les communes"
   ]
  },
  {
   "cell_type": "markdown",
   "id": "b24567f5",
   "metadata": {},
   "source": [
    "## Bibliotheque utilisé"
   ]
  },
  {
   "cell_type": "code",
   "execution_count": 1,
   "id": "1a296d10",
   "metadata": {},
   "outputs": [],
   "source": [
    "import pandas as pd\n",
    "import numpy as np\n",
    "import random\n",
    "import os\n",
    "import webbrowser\n",
    "from ydata_profiling import ProfileReport"
   ]
  },
  {
   "cell_type": "markdown",
   "id": "5cbf2cce",
   "metadata": {},
   "source": [
    "## Chargement des données présidentielles"
   ]
  },
  {
   "cell_type": "code",
   "execution_count": 2,
   "id": "4129ba97",
   "metadata": {},
   "outputs": [],
   "source": [
    "#creation du dataset\n",
    "\n",
    "#Presidentielle 2 tour 2022\n",
    "df_resultatPresidentielle = pd.read_excel('../resultats-par-niveau-subcom-t2-france-entiere.xlsx').dropna()\n",
    "df_resultatPresidentielle = df_resultatPresidentielle.iloc[:, [0,2,7, 25, 32]]\n",
    "df_resultatPresidentielle.columns = ['dep','com', 'Abstentions', 'Macron', 'Lepen']\n",
    "df_resultatPresidentielle['COM'] = df_resultatPresidentielle['dep'].astype(str) + df_resultatPresidentielle['com'].astype(str).str.zfill(3)\n",
    "df_resultatPresidentielle = df_resultatPresidentielle.drop(['dep','com'], axis=1)\n",
    "#print(df_resultatPresidentielle)\n",
    "\n",
    "#election presidentielle 1 tour 2022\n",
    "df_election2022 = pd.read_excel('../AutreDataCommune/resultats-par-niveau-burvot-t1-france-entiere.xlsx').dropna()\n",
    "df_election2022 = df_election2022.iloc[:, [0,4,9, 27, 34, 41, 48, 55, 62, 69, 76, 83, 90, 97, 104]]\n",
    "df_election2022.columns = ['dep','com', 'ABSTENTIONS', 'ARTHAUD', 'ROUSSEL', 'MACRON', 'LASSALLE', 'LEPEN', 'ZEMMOUR', 'MÉLENCHON', 'HIDALGO', 'JADOT', 'PÉCRESSE', 'POUTOU', 'DUPONT-AIGNAN']\n",
    "df_election2022['COM'] = df_election2022['dep'].astype(str) + df_election2022['com'].astype(str).str.zfill(3)\n",
    "df_election2022 = df_election2022.drop(['dep','com'], axis=1)\n",
    "df_election2022 = df_election2022.groupby('COM')[['ABSTENTIONS', 'ARTHAUD', 'ROUSSEL', 'MACRON', 'LASSALLE', 'LEPEN', 'ZEMMOUR', 'MÉLENCHON', 'HIDALGO', 'JADOT', 'PÉCRESSE', 'POUTOU', 'DUPONT-AIGNAN']].mean().reset_index()\n",
    "#print(df_election2022)\n",
    "\n",
    "#Presidentielle 2 tour 2017\n",
    "df_election2017 = pd.read_excel('../AutreDataCommune/Presidentielle_2017_Resultats_Communes_Tour_2_c.xls').dropna()\n",
    "df_election2017 = df_election2017.iloc[1:, [0,2, 6, 24, 31]]\n",
    "df_election2017.columns = ['dep','com','Abstentions17','Macron17', 'Lepen17']\n",
    "df_election2017['COM'] = df_election2017['dep'].astype(str).str.zfill(2) + df_election2017['com'].astype(str).str.zfill(3)\n",
    "df_election2017 = df_election2017.drop(['dep','com'], axis=1)\n",
    "#print(df_election2017)"
   ]
  },
  {
   "cell_type": "markdown",
   "id": "3aa927e9",
   "metadata": {},
   "source": [
    "## Chargement des données diverses"
   ]
  },
  {
   "cell_type": "code",
   "execution_count": 3,
   "id": "9c87a0d7",
   "metadata": {},
   "outputs": [
    {
     "name": "stderr",
     "output_type": "stream",
     "text": [
      "/var/folders/5g/lb5rqdn537gdsvb2ylrqtblm0000gn/T/ipykernel_27894/3395871139.py:16: ParserWarning: Falling back to the 'python' engine because the 'c' engine does not support skipfooter; you can avoid this warning by specifying engine='python'.\n",
      "  df_chomeur = pd.read_csv('../AutreDataCommune/DemandeursEmploiInscriparCommunePlus5000hab.csv', skiprows=3, skipfooter=3, delimiter=';').dropna()\n",
      "/var/folders/5g/lb5rqdn537gdsvb2ylrqtblm0000gn/T/ipykernel_27894/3395871139.py:33: DtypeWarning: Columns (0) have mixed types. Specify dtype option on import or set low_memory=False.\n",
      "  df_crime = pd.read_csv('../AutreDataDepartement/crimes_communes_2022.csv', delimiter=';')\n"
     ]
    }
   ],
   "source": [
    "#Niveau d'etude par sexe \n",
    "df_niveauEtude = pd.read_excel('../AutreDataCommune/diplomesFormation-2020.xlsx', sheet_name='COM_2020')\n",
    "df_niveauEtude = df_niveauEtude.iloc[5:, [0,55,56,57,58,59,60,61,63,64,65,66,67,68,69]].dropna()\n",
    "df_niveauEtude.columns = ['COM','P20_HNSCOL15P_DIPLMIN','P20_HNSCOL15P_BEPC','P20_HNSCOL15P_CAPBEP','P20_HNSCOL15P_BAC','P20_HNSCOL15P_SUP2','P20_HNSCOL15P_SUP34','P20_HNSCOL15P_SUP5','P20_FNSCOL15P_DIPLMIN','P20_FNSCOL15P_BEPC','P20_FNSCOL15P_CAPBEP','P20_FNSCOL15P_BAC','P20_FNSCOL15P_SUP2','P20_FNSCOL15P_SUP34','P20_FNSCOL15P_SUP5']\n",
    "#print(df_niveauEtude)\n",
    "\n",
    "#Proprotion d'imigration\n",
    "df_PopImmigre = pd.read_excel('../AutreDataCommune/ImmigréCommune.xlsx', sheet_name='Data')\n",
    "df_PopImmigre = df_PopImmigre[df_PopImmigre.iloc[:,2] == '2020']\n",
    "df_PopImmigre = df_PopImmigre.iloc[:, [0, 3]]\n",
    "df_PopImmigre.columns = ['COM', 'part_immigres']\n",
    "df_PopImmigre.dropna()\n",
    "#print(df_PopImmigre)\n",
    "\n",
    "#Taux de chomage\n",
    "df_chomeur = pd.read_csv('../AutreDataCommune/DemandeursEmploiInscriparCommunePlus5000hab.csv', skiprows=3, skipfooter=3, delimiter=';').dropna()\n",
    "df_chomeur.columns = ['COM', 'chomeur']\n",
    "df_chomeur['NCOM'] = df_chomeur['COM'].str.extract(r'([a-zA-Zéàêèôâîï\\-_]+)')\n",
    "df_chomeur['COM'] = df_chomeur['COM'].str.extract(r'(\\d+)')\n",
    "df_chomeur = df_chomeur.sort_values(by='COM')\n",
    "df_chomeur['chomeur'] = df_chomeur['chomeur'].str.replace(' ', '')\n",
    "df_chomeur['chomeur'] = df_chomeur['chomeur'].astype(float)\n",
    "#print(df_chomeur)\n",
    "\n",
    "#Tranche d'age\n",
    "df_age = pd.read_excel('../AutreDataCommune/age.xlsx', sheet_name='COM')\n",
    "df_age = df_age.iloc[:, [0,1, 12,13,14,15,16,17,23,24,25,26,27,28]]\n",
    "df_age['COM'] = df_age['COM'].astype(str).str.zfill(5)\n",
    "df_age.dropna()\n",
    "#print(df_age)\n",
    "\n",
    "#crime pour mille habitant\n",
    "df_crime = pd.read_csv('../AutreDataDepartement/crimes_communes_2022.csv', delimiter=';')\n",
    "df_crime = df_crime[df_crime.iloc[:,1] == '2020-01-01']\n",
    "#print(df_crime)\n",
    "\n",
    "#Revenue moyen par commune\n",
    "df_revenue = pd.read_excel('../AutreDataCommune/RevenueCommune2013.xlsx').dropna()\n",
    "df_revenue = df_revenue.iloc[:, [0, 2]]\n",
    "df_revenue.columns = ['COM', 'RevenueCommune']\n",
    "#print(df_revenue)"
   ]
  },
  {
   "cell_type": "markdown",
   "id": "fa19a77c",
   "metadata": {},
   "source": [
    "## Nettoyage des données et Fusion: AGE, CRIME et CHOMAGE"
   ]
  },
  {
   "cell_type": "code",
   "execution_count": 4,
   "id": "01ffc231",
   "metadata": {},
   "outputs": [],
   "source": [
    "#Creation du pourcentage par colonne\n",
    "df_age['PopTotal'] = df_age.iloc[:, 2:].sum(axis=1)\n",
    "for colonne in df_age.columns[2:-1]:\n",
    "    df_age[colonne] = df_age[colonne] / df_age['PopTotal'] * 100\n",
    "\n",
    "chomeur_dict = df_chomeur.set_index('NCOM')['chomeur'].to_dict()\n",
    "df_age['chomeur'] = df_age['NCOM'].map(chomeur_dict)\n",
    "\n",
    "#Rajout des données manquante avec le hazard et Creation du pourcentage par colonne\n",
    "for index, row in df_age.iterrows():\n",
    "    if row['chomeur'] * 0.4 > row['PopTotal'] or pd.isnull(row['chomeur']):\n",
    "        df_age.at[index, 'chomeur'] = row['PopTotal'] * (random.uniform(5, 10)/100)\n",
    "df_age['chomeur'] = df_age['chomeur'] / df_age['PopTotal'] * 100\n",
    "\n",
    "#Nettoyage des données et Creation du pourcentage par colonne\n",
    "nouvelle_colonne = df_crime.groupby('code_insee')['tauxpourmille'].sum()\n",
    "df_age['crime'] = df_age['COM'].map(nouvelle_colonne)\n",
    "\n",
    "for index, row in df_age.iterrows():\n",
    "    if pd.isnull(row['crime']):\n",
    "        df_age.at[index, 'crime'] = 0\n",
    "df_age = df_age.drop(columns=['NCOM'])"
   ]
  },
  {
   "cell_type": "markdown",
   "id": "e23cf43e",
   "metadata": {},
   "source": [
    "## Creation dataset Final"
   ]
  },
  {
   "cell_type": "code",
   "execution_count": 5,
   "id": "f480a1d6",
   "metadata": {},
   "outputs": [
    {
     "name": "stdout",
     "output_type": "stream",
     "text": [
      "<class 'pandas.core.frame.DataFrame'>\n",
      "RangeIndex: 31357 entries, 0 to 31356\n",
      "Data columns (total 51 columns):\n",
      " #   Column                 Non-Null Count  Dtype  \n",
      "---  ------                 --------------  -----  \n",
      " 0   Abstentions            31357 non-null  float64\n",
      " 1   Macron                 31357 non-null  float64\n",
      " 2   Lepen                  31357 non-null  float64\n",
      " 3   COM                    31357 non-null  object \n",
      " 4   ABSTENTIONS            31357 non-null  float64\n",
      " 5   ARTHAUD                31357 non-null  float64\n",
      " 6   ROUSSEL                31357 non-null  float64\n",
      " 7   MACRON                 31357 non-null  float64\n",
      " 8   LASSALLE               31357 non-null  float64\n",
      " 9   LEPEN                  31357 non-null  float64\n",
      " 10  ZEMMOUR                31357 non-null  float64\n",
      " 11  MÉLENCHON              31357 non-null  float64\n",
      " 12  HIDALGO                31357 non-null  float64\n",
      " 13  JADOT                  31357 non-null  float64\n",
      " 14  PÉCRESSE               31357 non-null  float64\n",
      " 15  POUTOU                 31357 non-null  float64\n",
      " 16  DUPONT-AIGNAN          31357 non-null  float64\n",
      " 17  Abstentions17          31357 non-null  object \n",
      " 18  Macron17               31357 non-null  object \n",
      " 19  Lepen17                31357 non-null  object \n",
      " 20  P20_HNSCOL15P_DIPLMIN  31357 non-null  object \n",
      " 21  P20_HNSCOL15P_BEPC     31357 non-null  object \n",
      " 22  P20_HNSCOL15P_CAPBEP   31357 non-null  object \n",
      " 23  P20_HNSCOL15P_BAC      31357 non-null  object \n",
      " 24  P20_HNSCOL15P_SUP2     31357 non-null  object \n",
      " 25  P20_HNSCOL15P_SUP34    31357 non-null  object \n",
      " 26  P20_HNSCOL15P_SUP5     31357 non-null  object \n",
      " 27  P20_FNSCOL15P_DIPLMIN  31357 non-null  object \n",
      " 28  P20_FNSCOL15P_BEPC     31357 non-null  object \n",
      " 29  P20_FNSCOL15P_CAPBEP   31357 non-null  object \n",
      " 30  P20_FNSCOL15P_BAC      31357 non-null  object \n",
      " 31  P20_FNSCOL15P_SUP2     31357 non-null  object \n",
      " 32  P20_FNSCOL15P_SUP34    31357 non-null  object \n",
      " 33  P20_FNSCOL15P_SUP5     31357 non-null  object \n",
      " 34  part_immigres          31357 non-null  object \n",
      " 35  F18-24                 31357 non-null  float64\n",
      " 36  F25-39                 31357 non-null  float64\n",
      " 37  F40-54                 31357 non-null  float64\n",
      " 38  F55-64                 31357 non-null  float64\n",
      " 39  F65-79                 31357 non-null  float64\n",
      " 40  F80+                   31357 non-null  float64\n",
      " 41  H18-24                 31357 non-null  float64\n",
      " 42  H25-39                 31357 non-null  float64\n",
      " 43  H40-54                 31357 non-null  float64\n",
      " 44  H55-64                 31357 non-null  float64\n",
      " 45  H65-79                 31357 non-null  float64\n",
      " 46  H80+                   31357 non-null  float64\n",
      " 47  PopTotal               31357 non-null  int64  \n",
      " 48  chomeur                31357 non-null  float64\n",
      " 49  crime                  31357 non-null  float64\n",
      " 50  RevenueCommune         31357 non-null  float64\n",
      "dtypes: float64(31), int64(1), object(19)\n",
      "memory usage: 12.2+ MB\n",
      "None\n"
     ]
    }
   ],
   "source": [
    "#Combinaison des données\n",
    "\n",
    "df_concat = pd.merge(df_resultatPresidentielle, df_election2022,  on='COM')\n",
    "df_concat = pd.merge(df_concat, df_election2017, on='COM')\n",
    "df_concat = pd.merge(df_concat, df_niveauEtude, on='COM')\n",
    "df_concat = pd.merge(df_concat, df_PopImmigre, on='COM')\n",
    "df_concat = pd.merge(df_concat, df_age, on='COM')\n",
    "df_concat = pd.merge(df_concat, df_revenue, on='COM')\n",
    "df_concat = df_concat.dropna()\n",
    "\n",
    "#print(df_concat.head())\n",
    "print(df_concat.info())\n",
    "#print(df_concat.describe())"
   ]
  },
  {
   "cell_type": "code",
   "execution_count": 6,
   "id": "c0844174",
   "metadata": {},
   "outputs": [],
   "source": [
    "# Normalisation des données d'études en pourcentage par rapport à la population totale\n",
    "for i in range(20, 34):\n",
    "    df_concat.iloc[:, i] = df_concat.iloc[:, i] / df_concat['PopTotal'] * 100\n",
    "    \n",
    "#sauvegarde dataset\n",
    "df_concat.to_excel('Commune.xlsx', index=False)"
   ]
  },
  {
   "cell_type": "markdown",
   "id": "1fde1082",
   "metadata": {},
   "source": [
    "## Creation de l'analyse des données"
   ]
  },
  {
   "cell_type": "code",
   "execution_count": 7,
   "id": "447fd089",
   "metadata": {},
   "outputs": [
    {
     "data": {
      "application/vnd.jupyter.widget-view+json": {
       "model_id": "fd233995706744e8b3bb8d1df2061144",
       "version_major": 2,
       "version_minor": 0
      },
      "text/plain": [
       "Summarize dataset:   0%|          | 0/5 [00:00<?, ?it/s]"
      ]
     },
     "metadata": {},
     "output_type": "display_data"
    },
    {
     "data": {
      "application/vnd.jupyter.widget-view+json": {
       "model_id": "3dd55a5971e64adc9a903431e26bd7fa",
       "version_major": 2,
       "version_minor": 0
      },
      "text/plain": [
       "Generate report structure:   0%|          | 0/1 [00:00<?, ?it/s]"
      ]
     },
     "metadata": {},
     "output_type": "display_data"
    },
    {
     "data": {
      "application/vnd.jupyter.widget-view+json": {
       "model_id": "9703e0520b29487384f8fb4109966a52",
       "version_major": 2,
       "version_minor": 0
      },
      "text/plain": [
       "Render HTML:   0%|          | 0/1 [00:00<?, ?it/s]"
      ]
     },
     "metadata": {},
     "output_type": "display_data"
    },
    {
     "data": {
      "application/vnd.jupyter.widget-view+json": {
       "model_id": "9c3b0302464440858c70de42b7ac933f",
       "version_major": 2,
       "version_minor": 0
      },
      "text/plain": [
       "Export report to file:   0%|          | 0/1 [00:00<?, ?it/s]"
      ]
     },
     "metadata": {},
     "output_type": "display_data"
    }
   ],
   "source": [
    "#Analyse des données\n",
    "html_file_path = \"rapport_corrélations.html\"\n",
    "if os.path.exists(html_file_path):\n",
    "    webbrowser.open(html_file_path)\n",
    "else:\n",
    "    rapport = ProfileReport(df_concat)\n",
    "    rapport.to_file(html_file_path)\n",
    "    webbrowser.open(html_file_path)\n"
   ]
  }
 ],
 "metadata": {
  "kernelspec": {
   "display_name": "Python 3 (ipykernel)",
   "language": "python",
   "name": "python3"
  },
  "language_info": {
   "codemirror_mode": {
    "name": "ipython",
    "version": 3
   },
   "file_extension": ".py",
   "mimetype": "text/x-python",
   "name": "python",
   "nbconvert_exporter": "python",
   "pygments_lexer": "ipython3",
   "version": "3.11.8"
  }
 },
 "nbformat": 4,
 "nbformat_minor": 5
}
