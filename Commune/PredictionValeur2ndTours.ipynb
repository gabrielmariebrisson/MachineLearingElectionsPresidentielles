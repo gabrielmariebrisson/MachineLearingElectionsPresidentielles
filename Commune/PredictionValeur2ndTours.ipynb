{
 "cells": [
  {
   "cell_type": "markdown",
   "id": "a3d35130",
   "metadata": {},
   "source": [
    "# Partie sur la prediction des données"
   ]
  },
  {
   "cell_type": "markdown",
   "id": "0fc97542",
   "metadata": {},
   "source": [
    "## Prédiction des scores des elections du second tour 2022"
   ]
  },
  {
   "cell_type": "markdown",
   "id": "fd753c08",
   "metadata": {},
   "source": [
    "### Bibliotheque"
   ]
  },
  {
   "cell_type": "code",
   "execution_count": 39,
   "id": "1a296d10",
   "metadata": {},
   "outputs": [],
   "source": [
    "import pandas as pd\n",
    "import numpy as np\n",
    "import random\n",
    "import os\n",
    "import statsmodels.api as sm\n",
    "from sklearn.svm import SVC\n",
    "from sklearn.metrics import classification_report\n",
    "from sklearn.model_selection import train_test_split\n",
    "from sklearn.preprocessing import StandardScaler\n",
    "from sklearn.metrics import accuracy_score\n",
    "from scipy.stats import pearsonr\n",
    "from sklearn.metrics import r2_score"
   ]
  },
  {
   "cell_type": "markdown",
   "id": "7d5ffc2a",
   "metadata": {},
   "source": [
    "### Préparation des données"
   ]
  },
  {
   "cell_type": "code",
   "execution_count": 2,
   "id": "c0844174",
   "metadata": {},
   "outputs": [],
   "source": [
    "# Sélection des features\n",
    "df_concat = pd.read_excel('Commune.xlsx')\n",
    "\n",
    "features = df_concat.drop(['Abstentions','Macron', 'Lepen', 'COM'], axis=1)\n",
    "\n",
    "ScoreMacron =  df_concat['Macron'].values.reshape(-1, 1)\n",
    "\n",
    "ScoreLepen =  df_concat['Lepen'].values.reshape(-1, 1)\n",
    "\n",
    "ScoreAbstentions =  df_concat['Abstentions'].values.reshape(-1, 1)\n",
    "\n",
    "\n",
    "# Normalisation des données\n",
    "scalerX = StandardScaler()\n",
    "X_scaled = scalerX.fit_transform(features)\n",
    "\n",
    "scalerMacron = StandardScaler()\n",
    "ScoreMacron = scalerMacron.fit_transform(ScoreMacron)\n",
    "\n",
    "scalerLepen = StandardScaler()\n",
    "ScoreLepen = scalerLepen.fit_transform(ScoreLepen)\n",
    "\n",
    "scalerAbstentions = StandardScaler()\n",
    "ScoreAbstentions = scalerAbstentions.fit_transform(ScoreAbstentions)\n"
   ]
  },
  {
   "cell_type": "markdown",
   "id": "dadc7822",
   "metadata": {},
   "source": [
    "###  Selection des Colonnes intéressante"
   ]
  },
  {
   "cell_type": "code",
   "execution_count": 16,
   "id": "1d507764",
   "metadata": {},
   "outputs": [],
   "source": [
    "def Selection_Colonne_Pvalue(label):\n",
    "    # Création de l'analyse pour la p_value\n",
    "    p_values = {}\n",
    "    for i, column in enumerate(features.columns):\n",
    "        p_value = pearsonr(X_scaled[:, i], label.flatten())[1]\n",
    "        p_values[i] = p_value\n",
    "\n",
    "    # Sélectionnez les colonnes avec des p-values inférieures au seuil de significativité\n",
    "    significant_indices = [column for column, p_value in p_values.items() if p_value < 0.05]\n",
    "    #print(\"Affichage des colonnes selectionné : \",features.iloc[:, significant_indices].columns)\n",
    "    return X_scaled[:, significant_indices]\n",
    "\n",
    "X_Macron = Selection_Colonne_Pvalue(ScoreMacron)\n",
    "X_Lepen = Selection_Colonne_Pvalue(ScoreLepen)\n",
    "X_Abstentions = Selection_Colonne_Pvalue(ScoreAbstentions)\n",
    "\n",
    "#division des données\n",
    "split_index1 = int(df_concat.shape[0] * 0.8)\n",
    "split_index2 = int(df_concat.shape[0] * 0.9)\n",
    "\n",
    "X_train_Marcon, X_val_Marcon, X_test_Marcon = X_Macron[:split_index1, :], X_Macron[split_index1:split_index2, :], X_Macron[split_index2:, :]\n",
    "y_train_Marcon, y_val_Marcon, y_test_Marcon = ScoreMacron[:split_index1], ScoreMacron[split_index1:split_index2], ScoreMacron[split_index2:]\n",
    "\n",
    "X_train_Lepen, X_val_Lepen, X_test_Lepen = X_Lepen[:split_index1, :], X_Lepen[split_index1:split_index2, :], X_Lepen[split_index2:, :]\n",
    "y_train_Lepen, y_val_Lepen, y_test_Lepen = ScoreLepen[:split_index1], ScoreLepen[split_index1:split_index2], ScoreLepen[split_index2:]\n",
    "\n",
    "X_train_Abstentions, X_val_Abstentions, X_test_Abstentions = X_Abstentions[:split_index1, :], X_Abstentions[split_index1:split_index2, :], X_Abstentions[split_index2:, :]\n",
    "y_train_Abstentions, y_val_Abstentions, y_test_Abstentions = ScoreAbstentions[:split_index1], ScoreAbstentions[split_index1:split_index2], ScoreAbstentions[split_index2:]\n"
   ]
  },
  {
   "cell_type": "markdown",
   "id": "9b2dc0ad",
   "metadata": {},
   "source": [
    "### Application de Regression"
   ]
  },
  {
   "cell_type": "markdown",
   "id": "4ec82f58",
   "metadata": {},
   "source": [
    "Macron"
   ]
  },
  {
   "cell_type": "code",
   "execution_count": 74,
   "id": "97de593a",
   "metadata": {},
   "outputs": [
    {
     "name": "stdout",
     "output_type": "stream",
     "text": [
      "Corrélation entre les valeurs réelles et prédites : 0.2187667670858043\n",
      "P-value associée : 2.7297271543088305e-35\n",
      "R-value : -0.36497912749999695\n"
     ]
    }
   ],
   "source": [
    "from sklearn.linear_model import LinearRegression\n",
    "\n",
    "linear_reg = LinearRegression()\n",
    "linear_reg.fit(X_train_Marcon, y_train_Marcon)\n",
    "\n",
    "predictions_logistic = linear_reg.predict(X_test_Marcon)\n",
    "correlation, p_value = pearsonr(y_test_Marcon.ravel(), predictions_rf)\n",
    "\n",
    "print(\"Corrélation entre les valeurs réelles et prédites :\", correlation)\n",
    "print(\"P-value associée :\", p_value)\n",
    "print(\"R-value :\", r2_score(y_test_Marcon.ravel(), predictions_rf))"
   ]
  },
  {
   "cell_type": "code",
   "execution_count": 63,
   "id": "9e21c711",
   "metadata": {},
   "outputs": [
    {
     "name": "stdout",
     "output_type": "stream",
     "text": [
      "Corrélation entre les valeurs réelles et prédites : 0.2187667670858043\n",
      "P-value associée : 2.7297271543088305e-35\n",
      "R-value : -0.36497912749999695\n"
     ]
    },
    {
     "name": "stderr",
     "output_type": "stream",
     "text": [
      "/opt/anaconda3/lib/python3.11/site-packages/sklearn/utils/validation.py:1143: DataConversionWarning: A column-vector y was passed when a 1d array was expected. Please change the shape of y to (n_samples, ), for example using ravel().\n",
      "  y = column_or_1d(y, warn=True)\n"
     ]
    }
   ],
   "source": [
    "from sklearn.linear_model import SGDRegressor\n",
    "\n",
    "sgd_regressor = SGDRegressor() \n",
    "sgd_regressor.fit(X_train_Marcon, y_train_Marcon)\n",
    "\n",
    "\n",
    "predictions_sgd = sgd_regressor.predict(X_test_Marcon)\n",
    "correlation, p_value = pearsonr(y_test_Marcon.ravel(), predictions_rf)\n",
    "\n",
    "print(\"Corrélation entre les valeurs réelles et prédites :\", correlation)\n",
    "print(\"P-value associée :\", p_value)\n",
    "print(\"R-value :\", r2_score(y_test_Marcon.ravel(), predictions_rf))"
   ]
  },
  {
   "cell_type": "code",
   "execution_count": 61,
   "id": "db165ea7",
   "metadata": {},
   "outputs": [
    {
     "name": "stdout",
     "output_type": "stream",
     "text": [
      "Corrélation entre les valeurs réelles et prédites : 0.2187667670858043\n",
      "P-value associée : 2.7297271543088305e-35\n",
      "R-value : -0.36497912749999695\n"
     ]
    }
   ],
   "source": [
    "from sklearn.linear_model import Ridge\n",
    "\n",
    "ridge_regressor = Ridge()\n",
    "ridge_regressor.fit(X_train_Marcon, y_train_Marcon)\n",
    "\n",
    "predictions_ridge = ridge_regressor.predict(X_test_Marcon)\n",
    "correlation, p_value = pearsonr(y_test_Marcon.ravel(), predictions_rf)\n",
    "\n",
    "print(\"Corrélation entre les valeurs réelles et prédites :\", correlation)\n",
    "print(\"P-value associée :\", p_value)\n",
    "print(\"R-value :\", r2_score(y_test_Marcon.ravel(), predictions_rf))"
   ]
  },
  {
   "cell_type": "markdown",
   "id": "122358da",
   "metadata": {},
   "source": [
    "Lepen"
   ]
  },
  {
   "cell_type": "code",
   "execution_count": 75,
   "id": "f58bc843",
   "metadata": {},
   "outputs": [
    {
     "name": "stdout",
     "output_type": "stream",
     "text": [
      "Corrélation entre les valeurs réelles et prédites : -0.21561653831605776\n",
      "P-value associée : 2.6284376051516983e-34\n",
      "R-value : -1.118259427851711\n"
     ]
    }
   ],
   "source": [
    "linear_reg = LinearRegression()\n",
    "linear_reg.fit(X_train_Lepen, y_train_Lepen)\n",
    "\n",
    "predictions_logistic = linear_reg.predict(X_test_Lepen)\n",
    "correlation, p_value = pearsonr(y_test_Lepen.ravel(), predictions_rf)\n",
    "\n",
    "print(\"Corrélation entre les valeurs réelles et prédites :\", correlation)\n",
    "print(\"P-value associée :\", p_value)\n",
    "print(\"R-value :\", r2_score(y_test_Lepen.ravel(), predictions_rf))"
   ]
  },
  {
   "cell_type": "code",
   "execution_count": 72,
   "id": "9644b7f3",
   "metadata": {},
   "outputs": [
    {
     "name": "stdout",
     "output_type": "stream",
     "text": [
      "Corrélation entre les valeurs réelles et prédites : -0.21561653831605776\n",
      "P-value associée : 2.6284376051516983e-34\n",
      "R-value : -1.118259427851711\n"
     ]
    },
    {
     "name": "stderr",
     "output_type": "stream",
     "text": [
      "/opt/anaconda3/lib/python3.11/site-packages/sklearn/utils/validation.py:1143: DataConversionWarning: A column-vector y was passed when a 1d array was expected. Please change the shape of y to (n_samples, ), for example using ravel().\n",
      "  y = column_or_1d(y, warn=True)\n"
     ]
    }
   ],
   "source": [
    "sgd_regressor = SGDRegressor() \n",
    "sgd_regressor.fit(X_train_Lepen, y_train_Lepen)\n",
    "\n",
    "\n",
    "predictions_sgd = sgd_regressor.predict(X_test_Lepen)\n",
    "correlation, p_value = pearsonr(y_test_Lepen.ravel(), predictions_rf)\n",
    "\n",
    "print(\"Corrélation entre les valeurs réelles et prédites :\", correlation)\n",
    "print(\"P-value associée :\", p_value)\n",
    "print(\"R-value :\", r2_score(y_test_Lepen.ravel(), predictions_rf))"
   ]
  },
  {
   "cell_type": "code",
   "execution_count": 73,
   "id": "f7743983",
   "metadata": {},
   "outputs": [
    {
     "name": "stdout",
     "output_type": "stream",
     "text": [
      "Corrélation entre les valeurs réelles et prédites : -0.21561653831605776\n",
      "P-value associée : 2.6284376051516983e-34\n",
      "R-value : -1.118259427851711\n"
     ]
    }
   ],
   "source": [
    "ridge_regressor = Ridge()\n",
    "ridge_regressor.fit(X_train_Lepen, y_train_Lepen)\n",
    "\n",
    "predictions_ridge = ridge_regressor.predict(X_test_Lepen)\n",
    "correlation, p_value = pearsonr(y_test_Lepen.ravel(), predictions_rf)\n",
    "\n",
    "print(\"Corrélation entre les valeurs réelles et prédites :\", correlation)\n",
    "print(\"P-value associée :\", p_value)\n",
    "print(\"R-value :\", r2_score(y_test_Lepen.ravel(), predictions_rf))"
   ]
  },
  {
   "cell_type": "markdown",
   "id": "2f089689",
   "metadata": {},
   "source": [
    "Abstention"
   ]
  },
  {
   "cell_type": "code",
   "execution_count": 76,
   "id": "d82d05a2",
   "metadata": {},
   "outputs": [
    {
     "name": "stdout",
     "output_type": "stream",
     "text": [
      "Corrélation entre les valeurs réelles et prédites : 0.9063074117591151\n",
      "P-value associée : 0.0\n",
      "R-value : 0.8163260284392874\n"
     ]
    }
   ],
   "source": [
    "linear_reg = LinearRegression()\n",
    "linear_reg.fit(X_train_Abstentions, y_train_Abstentions)\n",
    "\n",
    "predictions_logistic = linear_reg.predict(X_test_Abstentions)\n",
    "correlation, p_value = pearsonr(y_test_Abstentions.ravel(), predictions_rf)\n",
    "\n",
    "print(\"Corrélation entre les valeurs réelles et prédites :\", correlation)\n",
    "print(\"P-value associée :\", p_value)\n",
    "print(\"R-value :\", r2_score(y_test_Abstentions.ravel(), predictions_rf))"
   ]
  },
  {
   "cell_type": "code",
   "execution_count": 70,
   "id": "5a555a85",
   "metadata": {},
   "outputs": [
    {
     "name": "stdout",
     "output_type": "stream",
     "text": [
      "Corrélation entre les valeurs réelles et prédites : 0.9063074117591151\n",
      "P-value associée : 0.0\n",
      "R-value : 0.8163260284392874\n"
     ]
    },
    {
     "name": "stderr",
     "output_type": "stream",
     "text": [
      "/opt/anaconda3/lib/python3.11/site-packages/sklearn/utils/validation.py:1143: DataConversionWarning: A column-vector y was passed when a 1d array was expected. Please change the shape of y to (n_samples, ), for example using ravel().\n",
      "  y = column_or_1d(y, warn=True)\n"
     ]
    }
   ],
   "source": [
    "sgd_regressor = SGDRegressor() \n",
    "sgd_regressor.fit(X_train_Abstentions, y_train_Abstentions)\n",
    "\n",
    "\n",
    "predictions_sgd = sgd_regressor.predict(X_test_Abstentions)\n",
    "correlation, p_value = pearsonr(y_test_Abstentions.ravel(), predictions_rf)\n",
    "\n",
    "print(\"Corrélation entre les valeurs réelles et prédites :\", correlation)\n",
    "print(\"P-value associée :\", p_value)\n",
    "print(\"R-value :\", r2_score(y_test_Abstentions.ravel(), predictions_rf))"
   ]
  },
  {
   "cell_type": "code",
   "execution_count": 71,
   "id": "ca39cde9",
   "metadata": {},
   "outputs": [
    {
     "name": "stdout",
     "output_type": "stream",
     "text": [
      "Corrélation entre les valeurs réelles et prédites : 0.9063074117591151\n",
      "P-value associée : 0.0\n",
      "R-value : 0.8163260284392874\n"
     ]
    }
   ],
   "source": [
    "ridge_regressor = Ridge()\n",
    "ridge_regressor.fit(X_train_Abstentions, y_train_Abstentions)\n",
    "\n",
    "predictions_ridge = ridge_regressor.predict(X_test_Abstentions)\n",
    "correlation, p_value = pearsonr(y_test_Abstentions.ravel(), predictions_rf)\n",
    "\n",
    "print(\"Corrélation entre les valeurs réelles et prédites :\", correlation)\n",
    "print(\"P-value associée :\", p_value)\n",
    "print(\"R-value :\", r2_score(y_test_Abstentions.ravel(), predictions_rf))"
   ]
  },
  {
   "cell_type": "markdown",
   "id": "b0db8e05",
   "metadata": {},
   "source": [
    "### Foret Aleatoire"
   ]
  },
  {
   "cell_type": "code",
   "execution_count": 50,
   "id": "647f215b",
   "metadata": {},
   "outputs": [
    {
     "name": "stdout",
     "output_type": "stream",
     "text": [
      "Corrélation entre les valeurs réelles et prédites : 0.9542419488893842\n",
      "P-value associée : 0.0\n",
      "R-value : 0.9104793669639482\n"
     ]
    }
   ],
   "source": [
    "from sklearn.ensemble import RandomForestRegressor\n",
    "\n",
    "#Macron\n",
    "rf_regressor = RandomForestRegressor(n_estimators=100) \n",
    "rf_regressor.fit(X_train_Marcon, y_train_Marcon.ravel())\n",
    "\n",
    "predictions_rf = rf_regressor.predict(X_test_Marcon)\n",
    "\n",
    "correlation, p_value = pearsonr(y_test_Marcon.ravel(), predictions_rf)\n",
    "print(\"Corrélation entre les valeurs réelles et prédites :\", correlation)\n",
    "print(\"P-value associée :\", p_value)\n",
    "print(\"R-value :\", r2_score(y_test_Marcon.ravel(), predictions_rf))\n"
   ]
  },
  {
   "cell_type": "code",
   "execution_count": 51,
   "id": "56b12d0f",
   "metadata": {},
   "outputs": [
    {
     "name": "stdout",
     "output_type": "stream",
     "text": [
      "Corrélation entre les valeurs réelles et prédites : 0.9539538058745585\n",
      "P-value associée : 0.0\n",
      "R-value : 0.9099048456201255\n"
     ]
    }
   ],
   "source": [
    "#Lepen\n",
    "rf_regressor = RandomForestRegressor(n_estimators=100) \n",
    "rf_regressor.fit(X_train_Lepen, y_train_Lepen.ravel())\n",
    "\n",
    "predictions_rf = rf_regressor.predict(X_test_Lepen)\n",
    "\n",
    "correlation, p_value = pearsonr(y_test_Lepen.ravel(), predictions_rf)\n",
    "\n",
    "print(\"Corrélation entre les valeurs réelles et prédites :\", correlation)\n",
    "print(\"P-value associée :\", p_value)\n",
    "print(\"R-value :\", r2_score(y_test_Lepen.ravel(), predictions_rf))"
   ]
  },
  {
   "cell_type": "code",
   "execution_count": 52,
   "id": "bd382824",
   "metadata": {},
   "outputs": [
    {
     "name": "stdout",
     "output_type": "stream",
     "text": [
      "Corrélation entre les valeurs réelles et prédites : 0.9063074117591151\n",
      "P-value associée : 0.0\n",
      "R-value : 0.8163260284392874\n"
     ]
    }
   ],
   "source": [
    "#Abstention\n",
    "rf_regressor = RandomForestRegressor(n_estimators=100) \n",
    "rf_regressor.fit(X_train_Abstentions, y_train_Abstentions.ravel())\n",
    "\n",
    "predictions_rf = rf_regressor.predict(X_test_Abstentions)\n",
    "\n",
    "correlation, p_value = pearsonr(y_test_Abstentions.ravel(), predictions_rf)\n",
    "\n",
    "print(\"Corrélation entre les valeurs réelles et prédites :\", correlation)\n",
    "print(\"P-value associée :\", p_value)\n",
    "print(\"R-value :\", r2_score(y_test_Abstentions.ravel(), predictions_rf))"
   ]
  },
  {
   "cell_type": "markdown",
   "id": "a7697020",
   "metadata": {},
   "source": [
    "### SVM"
   ]
  },
  {
   "cell_type": "markdown",
   "id": "5b18471e",
   "metadata": {},
   "source": [
    "Macron"
   ]
  },
  {
   "cell_type": "code",
   "execution_count": 55,
   "id": "a711c65b",
   "metadata": {},
   "outputs": [
    {
     "name": "stdout",
     "output_type": "stream",
     "text": [
      "Corrélation entre les valeurs réelles et prédites : 0.9063074117591151\n",
      "P-value associée : 0.0\n",
      "R-value : -0.36497912749999695\n"
     ]
    }
   ],
   "source": [
    "from sklearn.svm import SVR\n",
    "\n",
    "svm_regressor = SVR(kernel='linear')\n",
    "svm_regressor.fit(X_train_Marcon, y_train_Marcon.ravel())\n",
    "\n",
    "y_pred_linear = svm_regressor.predict(X_test_Marcon)\n",
    "print(\"Corrélation entre les valeurs réelles et prédites :\", correlation)\n",
    "print(\"P-value associée :\", p_value)\n",
    "print(\"R-value :\", r2_score(y_test_Marcon.ravel(), predictions_rf))"
   ]
  },
  {
   "cell_type": "code",
   "execution_count": 56,
   "id": "0a84ac3c",
   "metadata": {},
   "outputs": [
    {
     "name": "stdout",
     "output_type": "stream",
     "text": [
      "Corrélation entre les valeurs réelles et prédites : 0.9063074117591151\n",
      "P-value associée : 0.0\n",
      "R-value : -0.36497912749999695\n"
     ]
    }
   ],
   "source": [
    "svm_regressor = SVR(kernel='poly')\n",
    "svm_regressor.fit(X_train_Marcon, y_train_Marcon.ravel())\n",
    "\n",
    "y_pred_linear = svm_regressor.predict(X_test_Marcon)\n",
    "print(\"Corrélation entre les valeurs réelles et prédites :\", correlation)\n",
    "print(\"P-value associée :\", p_value)\n",
    "print(\"R-value :\", r2_score(y_test_Marcon.ravel(), predictions_rf))"
   ]
  },
  {
   "cell_type": "markdown",
   "id": "5c15d016",
   "metadata": {},
   "source": [
    "Lepen"
   ]
  },
  {
   "cell_type": "code",
   "execution_count": 57,
   "id": "4f059e17",
   "metadata": {},
   "outputs": [
    {
     "name": "stdout",
     "output_type": "stream",
     "text": [
      "Corrélation entre les valeurs réelles et prédites : 0.9063074117591151\n",
      "P-value associée : 0.0\n",
      "R-value : -1.118259427851711\n"
     ]
    }
   ],
   "source": [
    "svm_regressor = SVR(kernel='linear')\n",
    "svm_regressor.fit(X_train_Lepen, y_train_Lepen.ravel())\n",
    "\n",
    "y_pred_linear = svm_regressor.predict(X_test_Lepen)\n",
    "print(\"Corrélation entre les valeurs réelles et prédites :\", correlation)\n",
    "print(\"P-value associée :\", p_value)\n",
    "print(\"R-value :\", r2_score(y_test_Lepen.ravel(), predictions_rf))"
   ]
  },
  {
   "cell_type": "code",
   "execution_count": 58,
   "id": "87b890e7",
   "metadata": {},
   "outputs": [
    {
     "ename": "KeyboardInterrupt",
     "evalue": "",
     "output_type": "error",
     "traceback": [
      "\u001b[0;31m---------------------------------------------------------------------------\u001b[0m",
      "\u001b[0;31mKeyboardInterrupt\u001b[0m                         Traceback (most recent call last)",
      "Cell \u001b[0;32mIn[58], line 2\u001b[0m\n\u001b[1;32m      1\u001b[0m svm_regressor \u001b[38;5;241m=\u001b[39m SVR(kernel\u001b[38;5;241m=\u001b[39m\u001b[38;5;124m'\u001b[39m\u001b[38;5;124mpoly\u001b[39m\u001b[38;5;124m'\u001b[39m)\n\u001b[0;32m----> 2\u001b[0m svm_regressor\u001b[38;5;241m.\u001b[39mfit(X_train_Lepen, y_train_Lepen\u001b[38;5;241m.\u001b[39mravel())\n\u001b[1;32m      4\u001b[0m y_pred_linear \u001b[38;5;241m=\u001b[39m svm_regressor\u001b[38;5;241m.\u001b[39mpredict(X_test_Lepen)\n\u001b[1;32m      5\u001b[0m \u001b[38;5;28mprint\u001b[39m(\u001b[38;5;124m\"\u001b[39m\u001b[38;5;124mCorrélation entre les valeurs réelles et prédites :\u001b[39m\u001b[38;5;124m\"\u001b[39m, correlation)\n",
      "File \u001b[0;32m/opt/anaconda3/lib/python3.11/site-packages/sklearn/svm/_base.py:252\u001b[0m, in \u001b[0;36mBaseLibSVM.fit\u001b[0;34m(self, X, y, sample_weight)\u001b[0m\n\u001b[1;32m    249\u001b[0m     \u001b[38;5;28mprint\u001b[39m(\u001b[38;5;124m\"\u001b[39m\u001b[38;5;124m[LibSVM]\u001b[39m\u001b[38;5;124m\"\u001b[39m, end\u001b[38;5;241m=\u001b[39m\u001b[38;5;124m\"\u001b[39m\u001b[38;5;124m\"\u001b[39m)\n\u001b[1;32m    251\u001b[0m seed \u001b[38;5;241m=\u001b[39m rnd\u001b[38;5;241m.\u001b[39mrandint(np\u001b[38;5;241m.\u001b[39miinfo(\u001b[38;5;124m\"\u001b[39m\u001b[38;5;124mi\u001b[39m\u001b[38;5;124m\"\u001b[39m)\u001b[38;5;241m.\u001b[39mmax)\n\u001b[0;32m--> 252\u001b[0m fit(X, y, sample_weight, solver_type, kernel, random_seed\u001b[38;5;241m=\u001b[39mseed)\n\u001b[1;32m    253\u001b[0m \u001b[38;5;66;03m# see comment on the other call to np.iinfo in this file\u001b[39;00m\n\u001b[1;32m    255\u001b[0m \u001b[38;5;28mself\u001b[39m\u001b[38;5;241m.\u001b[39mshape_fit_ \u001b[38;5;241m=\u001b[39m X\u001b[38;5;241m.\u001b[39mshape \u001b[38;5;28;01mif\u001b[39;00m \u001b[38;5;28mhasattr\u001b[39m(X, \u001b[38;5;124m\"\u001b[39m\u001b[38;5;124mshape\u001b[39m\u001b[38;5;124m\"\u001b[39m) \u001b[38;5;28;01melse\u001b[39;00m (n_samples,)\n",
      "File \u001b[0;32m/opt/anaconda3/lib/python3.11/site-packages/sklearn/svm/_base.py:331\u001b[0m, in \u001b[0;36mBaseLibSVM._dense_fit\u001b[0;34m(self, X, y, sample_weight, solver_type, kernel, random_seed)\u001b[0m\n\u001b[1;32m    317\u001b[0m libsvm\u001b[38;5;241m.\u001b[39mset_verbosity_wrap(\u001b[38;5;28mself\u001b[39m\u001b[38;5;241m.\u001b[39mverbose)\n\u001b[1;32m    319\u001b[0m \u001b[38;5;66;03m# we don't pass **self.get_params() to allow subclasses to\u001b[39;00m\n\u001b[1;32m    320\u001b[0m \u001b[38;5;66;03m# add other parameters to __init__\u001b[39;00m\n\u001b[1;32m    321\u001b[0m (\n\u001b[1;32m    322\u001b[0m     \u001b[38;5;28mself\u001b[39m\u001b[38;5;241m.\u001b[39msupport_,\n\u001b[1;32m    323\u001b[0m     \u001b[38;5;28mself\u001b[39m\u001b[38;5;241m.\u001b[39msupport_vectors_,\n\u001b[1;32m    324\u001b[0m     \u001b[38;5;28mself\u001b[39m\u001b[38;5;241m.\u001b[39m_n_support,\n\u001b[1;32m    325\u001b[0m     \u001b[38;5;28mself\u001b[39m\u001b[38;5;241m.\u001b[39mdual_coef_,\n\u001b[1;32m    326\u001b[0m     \u001b[38;5;28mself\u001b[39m\u001b[38;5;241m.\u001b[39mintercept_,\n\u001b[1;32m    327\u001b[0m     \u001b[38;5;28mself\u001b[39m\u001b[38;5;241m.\u001b[39m_probA,\n\u001b[1;32m    328\u001b[0m     \u001b[38;5;28mself\u001b[39m\u001b[38;5;241m.\u001b[39m_probB,\n\u001b[1;32m    329\u001b[0m     \u001b[38;5;28mself\u001b[39m\u001b[38;5;241m.\u001b[39mfit_status_,\n\u001b[1;32m    330\u001b[0m     \u001b[38;5;28mself\u001b[39m\u001b[38;5;241m.\u001b[39m_num_iter,\n\u001b[0;32m--> 331\u001b[0m ) \u001b[38;5;241m=\u001b[39m libsvm\u001b[38;5;241m.\u001b[39mfit(\n\u001b[1;32m    332\u001b[0m     X,\n\u001b[1;32m    333\u001b[0m     y,\n\u001b[1;32m    334\u001b[0m     svm_type\u001b[38;5;241m=\u001b[39msolver_type,\n\u001b[1;32m    335\u001b[0m     sample_weight\u001b[38;5;241m=\u001b[39msample_weight,\n\u001b[1;32m    336\u001b[0m     \u001b[38;5;66;03m# TODO(1.4): Replace \"_class_weight\" with \"class_weight_\"\u001b[39;00m\n\u001b[1;32m    337\u001b[0m     class_weight\u001b[38;5;241m=\u001b[39m\u001b[38;5;28mgetattr\u001b[39m(\u001b[38;5;28mself\u001b[39m, \u001b[38;5;124m\"\u001b[39m\u001b[38;5;124m_class_weight\u001b[39m\u001b[38;5;124m\"\u001b[39m, np\u001b[38;5;241m.\u001b[39mempty(\u001b[38;5;241m0\u001b[39m)),\n\u001b[1;32m    338\u001b[0m     kernel\u001b[38;5;241m=\u001b[39mkernel,\n\u001b[1;32m    339\u001b[0m     C\u001b[38;5;241m=\u001b[39m\u001b[38;5;28mself\u001b[39m\u001b[38;5;241m.\u001b[39mC,\n\u001b[1;32m    340\u001b[0m     nu\u001b[38;5;241m=\u001b[39m\u001b[38;5;28mself\u001b[39m\u001b[38;5;241m.\u001b[39mnu,\n\u001b[1;32m    341\u001b[0m     probability\u001b[38;5;241m=\u001b[39m\u001b[38;5;28mself\u001b[39m\u001b[38;5;241m.\u001b[39mprobability,\n\u001b[1;32m    342\u001b[0m     degree\u001b[38;5;241m=\u001b[39m\u001b[38;5;28mself\u001b[39m\u001b[38;5;241m.\u001b[39mdegree,\n\u001b[1;32m    343\u001b[0m     shrinking\u001b[38;5;241m=\u001b[39m\u001b[38;5;28mself\u001b[39m\u001b[38;5;241m.\u001b[39mshrinking,\n\u001b[1;32m    344\u001b[0m     tol\u001b[38;5;241m=\u001b[39m\u001b[38;5;28mself\u001b[39m\u001b[38;5;241m.\u001b[39mtol,\n\u001b[1;32m    345\u001b[0m     cache_size\u001b[38;5;241m=\u001b[39m\u001b[38;5;28mself\u001b[39m\u001b[38;5;241m.\u001b[39mcache_size,\n\u001b[1;32m    346\u001b[0m     coef0\u001b[38;5;241m=\u001b[39m\u001b[38;5;28mself\u001b[39m\u001b[38;5;241m.\u001b[39mcoef0,\n\u001b[1;32m    347\u001b[0m     gamma\u001b[38;5;241m=\u001b[39m\u001b[38;5;28mself\u001b[39m\u001b[38;5;241m.\u001b[39m_gamma,\n\u001b[1;32m    348\u001b[0m     epsilon\u001b[38;5;241m=\u001b[39m\u001b[38;5;28mself\u001b[39m\u001b[38;5;241m.\u001b[39mepsilon,\n\u001b[1;32m    349\u001b[0m     max_iter\u001b[38;5;241m=\u001b[39m\u001b[38;5;28mself\u001b[39m\u001b[38;5;241m.\u001b[39mmax_iter,\n\u001b[1;32m    350\u001b[0m     random_seed\u001b[38;5;241m=\u001b[39mrandom_seed,\n\u001b[1;32m    351\u001b[0m )\n\u001b[1;32m    353\u001b[0m \u001b[38;5;28mself\u001b[39m\u001b[38;5;241m.\u001b[39m_warn_from_fit_status()\n",
      "File \u001b[0;32msklearn/svm/_libsvm.pyx:236\u001b[0m, in \u001b[0;36msklearn.svm._libsvm.fit\u001b[0;34m()\u001b[0m\n",
      "\u001b[0;31mKeyboardInterrupt\u001b[0m: "
     ]
    }
   ],
   "source": [
    "svm_regressor = SVR(kernel='poly')\n",
    "svm_regressor.fit(X_train_Lepen, y_train_Lepen.ravel())\n",
    "\n",
    "y_pred_linear = svm_regressor.predict(X_test_Lepen)\n",
    "print(\"Corrélation entre les valeurs réelles et prédites :\", correlation)\n",
    "print(\"P-value associée :\", p_value)\n",
    "print(\"R-value :\", r2_score(y_test_Lepen.ravel(), predictions_rf))"
   ]
  },
  {
   "cell_type": "markdown",
   "id": "11ea153e",
   "metadata": {},
   "source": [
    "Abstentions"
   ]
  },
  {
   "cell_type": "code",
   "execution_count": null,
   "id": "049b35b9",
   "metadata": {},
   "outputs": [],
   "source": [
    "svm_regressor = SVR(kernel='linear')\n",
    "svm_regressor.fit(X_train_Abstentions, y_train_Abstentions.ravel())\n",
    "\n",
    "y_pred_linear = svm_regressor.predict(X_test_Abstentions)\n",
    "print(\"Corrélation entre les valeurs réelles et prédites :\", correlation)\n",
    "print(\"P-value associée :\", p_value)\n",
    "print(\"R-value :\", r2_score(y_test_Abstentions.ravel(), predictions_rf))"
   ]
  },
  {
   "cell_type": "code",
   "execution_count": null,
   "id": "550b0992",
   "metadata": {},
   "outputs": [],
   "source": [
    "svm_regressor = SVR(kernel='poly')\n",
    "svm_regressor.fit(X_train_Abstentions, y_train_Abstentions.ravel())\n",
    "\n",
    "y_pred_linear = svm_regressor.predict(X_test_Abstentions)\n",
    "print(\"Corrélation entre les valeurs réelles et prédites :\", correlation)\n",
    "print(\"P-value associée :\", p_value)\n",
    "print(\"R-value :\", r2_score(y_test_Abstentions.ravel(), predictions_rf))"
   ]
  },
  {
   "cell_type": "markdown",
   "id": "390e937f",
   "metadata": {},
   "source": [
    "### Reseau de neuronne"
   ]
  },
  {
   "cell_type": "code",
   "execution_count": 27,
   "id": "cc0e8547",
   "metadata": {},
   "outputs": [],
   "source": [
    "#conversion pandas -> numpy\n",
    "\n",
    "X_trainNN_Marcon = np.array(X_train_Marcon,dtype=float)\n",
    "X_trainNN_Lepen = np.array(X_train_Lepen,dtype=float)\n",
    "X_trainNN_Abstentions = np.array(X_train_Abstentions,dtype=float)\n",
    "\n",
    "y_trainNN_Lepen = np.array(y_train_Lepen,dtype=float)\n",
    "y_trainNN_Marcon = np.array(y_train_Marcon,dtype=float)\n",
    "y_trainNN_Abstentions = np.array(y_train_Abstentions,dtype=float)\n",
    "\n",
    "X_valNN_Marcon = np.array(X_val_Marcon,dtype=float)\n",
    "X_valNN_Lepen = np.array(X_val_Lepen,dtype=float)\n",
    "X_valNN_Abstentions = np.array(X_val_Abstentions,dtype=float)\n",
    "y_valNN_Lepen = np.array(y_val_Lepen,dtype=float)\n",
    "y_valNN_Marcon = np.array(y_val_Marcon,dtype=float)\n",
    "y_valNN_Abstentions = np.array(y_val_Abstentions,dtype=float)\n",
    "\n",
    "X_testNN_Marcon = np.array(X_test_Marcon,dtype=float)\n",
    "X_testNN_Lepen = np.array(X_test_Lepen,dtype=float)\n",
    "X_testNN_Abstentions = np.array(X_test_Abstentions,dtype=float)\n",
    "\n",
    "y_testNN_Lepen = np.array(y_test_Lepen,dtype=float)\n",
    "y_testNN_Marcon = np.array(y_test_Marcon,dtype=float)\n",
    "y_testNN_Abstentions = np.array(y_test_Abstentions,dtype=float)"
   ]
  },
  {
   "cell_type": "code",
   "execution_count": 28,
   "id": "9b381e23",
   "metadata": {},
   "outputs": [],
   "source": [
    "import tensorflow as tf\n",
    "from tensorflow.keras import optimizers, losses, callbacks\n",
    "import numpy as np\n",
    "\n",
    "\n",
    "CallBackSave = callbacks.ModelCheckpoint(\"best_model_Valeurs.keras\", \n",
    "                                                 monitor='val_loss', \n",
    "                                                 save_best_only=True, \n",
    "                                                 mode='min')\n",
    "\n",
    "callbackStop = callbacks.EarlyStopping(monitor='val_loss', \n",
    "                                                  patience=20)\n",
    "\n",
    "\"\"\"class myCallback(tf.keras.callbacks.Callback):\n",
    "    def on_epoch_end(self, epoch, logs={}):\n",
    "        if logs.get('val_loss') is not None and logs.get('val_loss') < 0.3:\n",
    "            print(\"\\nReached 99.9% accuracy so cancelling training!\")\n",
    "            self.model.stop_training = True\n",
    "\n",
    "callbackStop = myCallback()\"\"\"\n",
    "\n",
    "def createModel():\n",
    "    #model = tf.keras.Sequential([tf.keras.layers.Dense(units=1, input_shape=[features.shape[1]])])\n",
    "\n",
    "    model = tf.keras.models.Sequential([\n",
    "    tf.keras.layers.Dense(features.shape[1], activation='relu'),\n",
    "    tf.keras.layers.Dense(512, activation='relu'),\n",
    "    tf.keras.layers.Dense(256, activation='relu'),\n",
    "    tf.keras.layers.Dense(128, activation='relu'),\n",
    "    tf.keras.layers.Dense(64, activation='relu'),\n",
    "    tf.keras.layers.Dense(32, activation='relu'),\n",
    "    tf.keras.layers.Dense(1)\n",
    "    ])\n",
    "    model.compile(loss='mean_squared_error',\n",
    "                  optimizer=optimizers.Adam())\n",
    "    return model\n",
    "\n",
    "def affichagePrediction(prediction, reel):\n",
    "    for i in range(len(prediction)):\n",
    "        print(\"valeur prédite :\", prediction[i], \"valeur réelle :\", reel[i], \"écart :\", np.abs(prediction[i] - reel[i]))"
   ]
  },
  {
   "cell_type": "markdown",
   "id": "e50100b6",
   "metadata": {},
   "source": [
    "#### Entrainement pour Macron"
   ]
  },
  {
   "cell_type": "code",
   "execution_count": 29,
   "id": "70d334b4",
   "metadata": {},
   "outputs": [
    {
     "name": "stdout",
     "output_type": "stream",
     "text": [
      "Epoch 1/1000\n",
      "\u001b[1m784/784\u001b[0m \u001b[32m━━━━━━━━━━━━━━━━━━━━\u001b[0m\u001b[37m\u001b[0m \u001b[1m5s\u001b[0m 4ms/step - loss: 0.1823 - val_loss: 0.1054\n",
      "Epoch 2/1000\n",
      "\u001b[1m784/784\u001b[0m \u001b[32m━━━━━━━━━━━━━━━━━━━━\u001b[0m\u001b[37m\u001b[0m \u001b[1m3s\u001b[0m 4ms/step - loss: 0.0982 - val_loss: 0.0940\n",
      "Epoch 3/1000\n",
      "\u001b[1m784/784\u001b[0m \u001b[32m━━━━━━━━━━━━━━━━━━━━\u001b[0m\u001b[37m\u001b[0m \u001b[1m3s\u001b[0m 4ms/step - loss: 0.0939 - val_loss: 0.0938\n",
      "Epoch 4/1000\n",
      "\u001b[1m784/784\u001b[0m \u001b[32m━━━━━━━━━━━━━━━━━━━━\u001b[0m\u001b[37m\u001b[0m \u001b[1m3s\u001b[0m 4ms/step - loss: 0.0923 - val_loss: 0.0916\n",
      "Epoch 5/1000\n",
      "\u001b[1m784/784\u001b[0m \u001b[32m━━━━━━━━━━━━━━━━━━━━\u001b[0m\u001b[37m\u001b[0m \u001b[1m3s\u001b[0m 4ms/step - loss: 0.0909 - val_loss: 0.1035\n",
      "Epoch 6/1000\n",
      "\u001b[1m784/784\u001b[0m \u001b[32m━━━━━━━━━━━━━━━━━━━━\u001b[0m\u001b[37m\u001b[0m \u001b[1m3s\u001b[0m 4ms/step - loss: 0.0979 - val_loss: 0.0922\n",
      "Epoch 7/1000\n",
      "\u001b[1m784/784\u001b[0m \u001b[32m━━━━━━━━━━━━━━━━━━━━\u001b[0m\u001b[37m\u001b[0m \u001b[1m3s\u001b[0m 4ms/step - loss: 0.0941 - val_loss: 0.0982\n",
      "Epoch 8/1000\n",
      "\u001b[1m784/784\u001b[0m \u001b[32m━━━━━━━━━━━━━━━━━━━━\u001b[0m\u001b[37m\u001b[0m \u001b[1m3s\u001b[0m 4ms/step - loss: 0.0890 - val_loss: 0.1080\n",
      "Epoch 9/1000\n",
      "\u001b[1m784/784\u001b[0m \u001b[32m━━━━━━━━━━━━━━━━━━━━\u001b[0m\u001b[37m\u001b[0m \u001b[1m3s\u001b[0m 4ms/step - loss: 0.0864 - val_loss: 0.0952\n",
      "Epoch 10/1000\n",
      "\u001b[1m784/784\u001b[0m \u001b[32m━━━━━━━━━━━━━━━━━━━━\u001b[0m\u001b[37m\u001b[0m \u001b[1m3s\u001b[0m 4ms/step - loss: 0.0811 - val_loss: 0.0951\n",
      "Epoch 11/1000\n",
      "\u001b[1m784/784\u001b[0m \u001b[32m━━━━━━━━━━━━━━━━━━━━\u001b[0m\u001b[37m\u001b[0m \u001b[1m3s\u001b[0m 4ms/step - loss: 0.0712 - val_loss: 0.1049\n",
      "Epoch 12/1000\n",
      "\u001b[1m784/784\u001b[0m \u001b[32m━━━━━━━━━━━━━━━━━━━━\u001b[0m\u001b[37m\u001b[0m \u001b[1m3s\u001b[0m 4ms/step - loss: 0.0749 - val_loss: 0.0993\n",
      "Epoch 13/1000\n",
      "\u001b[1m784/784\u001b[0m \u001b[32m━━━━━━━━━━━━━━━━━━━━\u001b[0m\u001b[37m\u001b[0m \u001b[1m3s\u001b[0m 4ms/step - loss: 0.0699 - val_loss: 0.1151\n",
      "Epoch 14/1000\n",
      "\u001b[1m784/784\u001b[0m \u001b[32m━━━━━━━━━━━━━━━━━━━━\u001b[0m\u001b[37m\u001b[0m \u001b[1m3s\u001b[0m 4ms/step - loss: 0.0628 - val_loss: 0.1044\n",
      "Epoch 15/1000\n",
      "\u001b[1m784/784\u001b[0m \u001b[32m━━━━━━━━━━━━━━━━━━━━\u001b[0m\u001b[37m\u001b[0m \u001b[1m3s\u001b[0m 3ms/step - loss: 0.0604 - val_loss: 0.0988\n",
      "Epoch 16/1000\n",
      "\u001b[1m784/784\u001b[0m \u001b[32m━━━━━━━━━━━━━━━━━━━━\u001b[0m\u001b[37m\u001b[0m \u001b[1m3s\u001b[0m 4ms/step - loss: 0.0562 - val_loss: 0.0999\n",
      "Epoch 17/1000\n",
      "\u001b[1m784/784\u001b[0m \u001b[32m━━━━━━━━━━━━━━━━━━━━\u001b[0m\u001b[37m\u001b[0m \u001b[1m3s\u001b[0m 4ms/step - loss: 0.0581 - val_loss: 0.1019\n",
      "Epoch 18/1000\n",
      "\u001b[1m784/784\u001b[0m \u001b[32m━━━━━━━━━━━━━━━━━━━━\u001b[0m\u001b[37m\u001b[0m \u001b[1m3s\u001b[0m 4ms/step - loss: 0.0512 - val_loss: 0.1088\n",
      "Epoch 19/1000\n",
      "\u001b[1m784/784\u001b[0m \u001b[32m━━━━━━━━━━━━━━━━━━━━\u001b[0m\u001b[37m\u001b[0m \u001b[1m3s\u001b[0m 4ms/step - loss: 0.0510 - val_loss: 0.1102\n",
      "Epoch 20/1000\n",
      "\u001b[1m784/784\u001b[0m \u001b[32m━━━━━━━━━━━━━━━━━━━━\u001b[0m\u001b[37m\u001b[0m \u001b[1m3s\u001b[0m 4ms/step - loss: 0.0484 - val_loss: 0.1110\n",
      "Epoch 21/1000\n",
      "\u001b[1m784/784\u001b[0m \u001b[32m━━━━━━━━━━━━━━━━━━━━\u001b[0m\u001b[37m\u001b[0m \u001b[1m3s\u001b[0m 3ms/step - loss: 0.0493 - val_loss: 0.1065\n",
      "Epoch 22/1000\n",
      "\u001b[1m784/784\u001b[0m \u001b[32m━━━━━━━━━━━━━━━━━━━━\u001b[0m\u001b[37m\u001b[0m \u001b[1m3s\u001b[0m 3ms/step - loss: 0.0411 - val_loss: 0.1080\n",
      "Epoch 23/1000\n",
      "\u001b[1m784/784\u001b[0m \u001b[32m━━━━━━━━━━━━━━━━━━━━\u001b[0m\u001b[37m\u001b[0m \u001b[1m3s\u001b[0m 4ms/step - loss: 0.0430 - val_loss: 0.1070\n",
      "Epoch 24/1000\n",
      "\u001b[1m784/784\u001b[0m \u001b[32m━━━━━━━━━━━━━━━━━━━━\u001b[0m\u001b[37m\u001b[0m \u001b[1m3s\u001b[0m 4ms/step - loss: 0.0406 - val_loss: 0.1107\n"
     ]
    }
   ],
   "source": [
    "model = createModel()\n",
    "history = model.fit(X_trainNN_Marcon, y_trainNN_Marcon,\n",
    "                    epochs=1000,validation_data=(X_valNN_Marcon, y_valNN_Marcon),\n",
    "                    callbacks=[CallBackSave,callbackStop]\n",
    "                   )"
   ]
  },
  {
   "cell_type": "code",
   "execution_count": 42,
   "id": "7d051aa5",
   "metadata": {},
   "outputs": [
    {
     "name": "stdout",
     "output_type": "stream",
     "text": [
      "\u001b[1m1/1\u001b[0m \u001b[32m━━━━━━━━━━━━━━━━━━━━\u001b[0m\u001b[37m\u001b[0m \u001b[1m0s\u001b[0m 50ms/step\n",
      "Sur les entrainement la valeur reel :  [[52.67]] ; valeur predite :  [[51.748802]]\n",
      "\u001b[1m98/98\u001b[0m \u001b[32m━━━━━━━━━━━━━━━━━━━━\u001b[0m\u001b[37m\u001b[0m \u001b[1m0s\u001b[0m 1ms/step\n",
      "\u001b[1m98/98\u001b[0m \u001b[32m━━━━━━━━━━━━━━━━━━━━\u001b[0m\u001b[37m\u001b[0m \u001b[1m0s\u001b[0m 836us/step - loss: 2.0263\n",
      "Perte de test : 2.1560041904449463\n",
      "Corrélation entre les valeurs réelles et prédites : 0.9583504473724145\n",
      "P-value associée : 0.0\n",
      "R-value : 0.916806765834029\n"
     ]
    }
   ],
   "source": [
    "best_model = tf.keras.models.load_model(\"best_model_Valeurs.keras\")\n",
    "\n",
    "print(\"Sur les entrainement la valeur reel : \", scalerMacron.inverse_transform(y_trainNN_Marcon[0].reshape(-1, 1)), \"; valeur predite : \",scalerMacron.inverse_transform(best_model.predict(X_trainNN_Marcon[0:1]).reshape(-1, 1)))\n",
    "\n",
    "\n",
    "y_pred_NN = best_model.predict(X_testNN_Marcon)\n",
    "\n",
    "reel = scalerMacron.inverse_transform(y_testNN_Marcon)\n",
    "prediction = scalerMacron.inverse_transform(y_pred_NN.reshape(-1, 1)).flatten()\n",
    "\n",
    "#print(\"Affichage des predictions sur le test pour Macron\")\n",
    "#affichagePrediction(prediction, reel)\n",
    "\n",
    "test_loss = model.evaluate(X_testNN_Marcon, y_testNN_Marcon)\n",
    "print(\"Perte de test :\", test_loss)\n",
    "\n",
    "correlation, p_value = pearsonr(np.squeeze(y_testNN_Marcon),  np.squeeze(y_pred_NN))\n",
    "\n",
    "# Affichage de la corrélation et de la p-value\n",
    "print(\"Corrélation entre les valeurs réelles et prédites :\", correlation)\n",
    "print(\"P-value associée :\", p_value)\n",
    "\n",
    "print(\"R-value :\", r2_score(np.squeeze(y_testNN_Marcon),  np.squeeze(y_pred_NN)))"
   ]
  },
  {
   "cell_type": "code",
   "execution_count": 31,
   "id": "b985b247",
   "metadata": {},
   "outputs": [
    {
     "data": {
      "image/png": "[encoded data removed]",
      "text/plain": [
       "<Figure size 640x480 with 1 Axes>"
      ]
     },
     "metadata": {},
     "output_type": "display_data"
    }
   ],
   "source": [
    "import matplotlib.pyplot as plt\n",
    "\n",
    "loss = history.history['loss']\n",
    "val_loss = history.history['val_loss']\n",
    "epochs = [*range(len(loss))]\n",
    "\n",
    "#------------------------------------------------\n",
    "# Plot training and validation accuracy per epoch\n",
    "#------------------------------------------------\n",
    "plt.plot(epochs, loss, 'r')\n",
    "plt.plot(epochs, val_loss, 'b')\n",
    "plt.title('Training and validation loss')\n",
    "plt.xlabel(\"Epochs\")\n",
    "plt.ylabel(\"loss\")\n",
    "plt.legend([\"loss\", \"Validation loss\"])\n",
    "plt.show()"
   ]
  },
  {
   "cell_type": "markdown",
   "id": "5d47daaf",
   "metadata": {},
   "source": [
    "#### Entrainement pour Lepen"
   ]
  },
  {
   "cell_type": "code",
   "execution_count": 45,
   "id": "d73c320b",
   "metadata": {},
   "outputs": [
    {
     "name": "stdout",
     "output_type": "stream",
     "text": [
      "Epoch 1/1000\n",
      "\u001b[1m784/784\u001b[0m \u001b[32m━━━━━━━━━━━━━━━━━━━━\u001b[0m\u001b[37m\u001b[0m \u001b[1m5s\u001b[0m 5ms/step - loss: 0.2157 - val_loss: 0.0980\n",
      "Epoch 2/1000\n",
      "\u001b[1m784/784\u001b[0m \u001b[32m━━━━━━━━━━━━━━━━━━━━\u001b[0m\u001b[37m\u001b[0m \u001b[1m4s\u001b[0m 5ms/step - loss: 0.1053 - val_loss: 0.0958\n",
      "Epoch 3/1000\n",
      "\u001b[1m784/784\u001b[0m \u001b[32m━━━━━━━━━━━━━━━━━━━━\u001b[0m\u001b[37m\u001b[0m \u001b[1m4s\u001b[0m 5ms/step - loss: 0.0972 - val_loss: 0.1066\n",
      "Epoch 4/1000\n",
      "\u001b[1m784/784\u001b[0m \u001b[32m━━━━━━━━━━━━━━━━━━━━\u001b[0m\u001b[37m\u001b[0m \u001b[1m3s\u001b[0m 4ms/step - loss: 0.0976 - val_loss: 0.0986\n",
      "Epoch 5/1000\n",
      "\u001b[1m784/784\u001b[0m \u001b[32m━━━━━━━━━━━━━━━━━━━━\u001b[0m\u001b[37m\u001b[0m \u001b[1m3s\u001b[0m 4ms/step - loss: 0.0904 - val_loss: 0.0949\n",
      "Epoch 6/1000\n",
      "\u001b[1m784/784\u001b[0m \u001b[32m━━━━━━━━━━━━━━━━━━━━\u001b[0m\u001b[37m\u001b[0m \u001b[1m4s\u001b[0m 5ms/step - loss: 0.0925 - val_loss: 0.0956\n",
      "Epoch 7/1000\n",
      "\u001b[1m784/784\u001b[0m \u001b[32m━━━━━━━━━━━━━━━━━━━━\u001b[0m\u001b[37m\u001b[0m \u001b[1m3s\u001b[0m 4ms/step - loss: 0.0932 - val_loss: 0.0929\n",
      "Epoch 8/1000\n",
      "\u001b[1m784/784\u001b[0m \u001b[32m━━━━━━━━━━━━━━━━━━━━\u001b[0m\u001b[37m\u001b[0m \u001b[1m3s\u001b[0m 3ms/step - loss: 0.0903 - val_loss: 0.0942\n",
      "Epoch 9/1000\n",
      "\u001b[1m784/784\u001b[0m \u001b[32m━━━━━━━━━━━━━━━━━━━━\u001b[0m\u001b[37m\u001b[0m \u001b[1m3s\u001b[0m 4ms/step - loss: 0.0855 - val_loss: 0.0984\n",
      "Epoch 10/1000\n",
      "\u001b[1m784/784\u001b[0m \u001b[32m━━━━━━━━━━━━━━━━━━━━\u001b[0m\u001b[37m\u001b[0m \u001b[1m3s\u001b[0m 4ms/step - loss: 0.0838 - val_loss: 0.1048\n",
      "Epoch 11/1000\n",
      "\u001b[1m784/784\u001b[0m \u001b[32m━━━━━━━━━━━━━━━━━━━━\u001b[0m\u001b[37m\u001b[0m \u001b[1m3s\u001b[0m 4ms/step - loss: 0.0758 - val_loss: 0.1020\n",
      "Epoch 12/1000\n",
      "\u001b[1m784/784\u001b[0m \u001b[32m━━━━━━━━━━━━━━━━━━━━\u001b[0m\u001b[37m\u001b[0m \u001b[1m3s\u001b[0m 3ms/step - loss: 0.0736 - val_loss: 0.1015\n",
      "Epoch 13/1000\n",
      "\u001b[1m784/784\u001b[0m \u001b[32m━━━━━━━━━━━━━━━━━━━━\u001b[0m\u001b[37m\u001b[0m \u001b[1m3s\u001b[0m 3ms/step - loss: 0.0686 - val_loss: 0.1045\n",
      "Epoch 14/1000\n",
      "\u001b[1m784/784\u001b[0m \u001b[32m━━━━━━━━━━━━━━━━━━━━\u001b[0m\u001b[37m\u001b[0m \u001b[1m3s\u001b[0m 4ms/step - loss: 0.0668 - val_loss: 0.1076\n",
      "Epoch 15/1000\n",
      "\u001b[1m784/784\u001b[0m \u001b[32m━━━━━━━━━━━━━━━━━━━━\u001b[0m\u001b[37m\u001b[0m \u001b[1m2s\u001b[0m 3ms/step - loss: 0.0638 - val_loss: 0.1045\n",
      "Epoch 16/1000\n",
      "\u001b[1m784/784\u001b[0m \u001b[32m━━━━━━━━━━━━━━━━━━━━\u001b[0m\u001b[37m\u001b[0m \u001b[1m3s\u001b[0m 4ms/step - loss: 0.0560 - val_loss: 0.1061\n",
      "Epoch 17/1000\n",
      "\u001b[1m784/784\u001b[0m \u001b[32m━━━━━━━━━━━━━━━━━━━━\u001b[0m\u001b[37m\u001b[0m \u001b[1m2s\u001b[0m 3ms/step - loss: 0.0533 - val_loss: 0.1049\n",
      "Epoch 18/1000\n",
      "\u001b[1m784/784\u001b[0m \u001b[32m━━━━━━━━━━━━━━━━━━━━\u001b[0m\u001b[37m\u001b[0m \u001b[1m3s\u001b[0m 4ms/step - loss: 0.0543 - val_loss: 0.1070\n",
      "Epoch 19/1000\n",
      "\u001b[1m784/784\u001b[0m \u001b[32m━━━━━━━━━━━━━━━━━━━━\u001b[0m\u001b[37m\u001b[0m \u001b[1m3s\u001b[0m 4ms/step - loss: 0.0539 - val_loss: 0.1155\n",
      "Epoch 20/1000\n",
      "\u001b[1m784/784\u001b[0m \u001b[32m━━━━━━━━━━━━━━━━━━━━\u001b[0m\u001b[37m\u001b[0m \u001b[1m2s\u001b[0m 3ms/step - loss: 0.0454 - val_loss: 0.1217\n"
     ]
    }
   ],
   "source": [
    "model = createModel()\n",
    "history = model.fit(X_trainNN_Lepen, y_trainNN_Lepen,\n",
    "                    epochs=1000,validation_data=(X_valNN_Lepen, y_valNN_Lepen),\n",
    "                    callbacks=[CallBackSave,callbackStop]\n",
    "                   )"
   ]
  },
  {
   "cell_type": "code",
   "execution_count": 46,
   "id": "cef5fda4",
   "metadata": {},
   "outputs": [
    {
     "name": "stdout",
     "output_type": "stream",
     "text": [
      "\u001b[1m1/1\u001b[0m \u001b[32m━━━━━━━━━━━━━━━━━━━━\u001b[0m\u001b[37m\u001b[0m \u001b[1m0s\u001b[0m 56ms/step\n",
      "Sur les entrainement la valeur reel :  [[47.33]] ; valeur predite :  [[52.07709]]\n",
      "\u001b[1m98/98\u001b[0m \u001b[32m━━━━━━━━━━━━━━━━━━━━\u001b[0m\u001b[37m\u001b[0m \u001b[1m0s\u001b[0m 1ms/step\n",
      "\u001b[1m98/98\u001b[0m \u001b[32m━━━━━━━━━━━━━━━━━━━━\u001b[0m\u001b[37m\u001b[0m \u001b[1m0s\u001b[0m 974us/step - loss: 0.1396\n",
      "Perte de test : 0.11552849411964417\n",
      "Corrélation entre les valeurs réelles et prédites : -0.9584712807656358\n",
      "P-value associée : 0.0\n",
      "R-value : -2.6060430497760168\n"
     ]
    }
   ],
   "source": [
    "best_model = tf.keras.models.load_model(\"best_model_Valeurs.keras\")\n",
    "\n",
    "print(\"Sur les entrainement la valeur reel : \", scalerLepen.inverse_transform(y_trainNN_Lepen[0].reshape(-1, 1)), \"; valeur predite : \",scalerLepen.inverse_transform(best_model.predict(X_trainNN_Lepen[0:1]).reshape(-1, 1)))\n",
    "\n",
    "y_pred_NN = best_model.predict(X_testNN_Lepen)\n",
    "\n",
    "reel = scalerLepen.inverse_transform(y_testNN_Lepen)\n",
    "prediction = scalerLepen.inverse_transform(y_pred_NN.reshape(-1, 1)).flatten()\n",
    "\n",
    "#print(\"Affichage des predictions sur le test pour Lepen\")\n",
    "#affichagePrediction(prediction, reel)\n",
    "\n",
    "test_loss = model.evaluate(X_testNN_Lepen, y_testNN_Lepen)\n",
    "print(\"Perte de test :\", test_loss)\n",
    "\n",
    "correlation, p_value = pearsonr(np.squeeze(y_testNN_Lepen),  np.squeeze(y_pred_NN))\n",
    "\n",
    "# Affichage de la corrélation et de la p-value\n",
    "print(\"Corrélation entre les valeurs réelles et prédites :\", correlation)\n",
    "print(\"P-value associée :\", p_value)\n",
    "print(\"R-value :\", r2_score(np.squeeze(y_testNN_Lepen),  np.squeeze(y_pred_NN)))"
   ]
  },
  {
   "cell_type": "code",
   "execution_count": 47,
   "id": "9494e7bd",
   "metadata": {},
   "outputs": [
    {
     "data": {
      "image/png": "[encoded data removed]",
      "text/plain": [
       "<Figure size 640x480 with 1 Axes>"
      ]
     },
     "metadata": {},
     "output_type": "display_data"
    }
   ],
   "source": [
    "import matplotlib.pyplot as plt\n",
    "\n",
    "loss = history.history['loss']\n",
    "val_loss = history.history['val_loss']\n",
    "epochs = [*range(len(loss))]\n",
    "\n",
    "#------------------------------------------------\n",
    "# Plot training and validation accuracy per epoch\n",
    "#------------------------------------------------\n",
    "plt.plot(epochs, loss, 'r')\n",
    "plt.plot(epochs, val_loss, 'b')\n",
    "plt.title('Training and validation loss')\n",
    "plt.xlabel(\"Epochs\")\n",
    "plt.ylabel(\"loss\")\n",
    "plt.legend([\"loss\", \"Validation loss\"])\n",
    "plt.show()"
   ]
  },
  {
   "cell_type": "markdown",
   "id": "018b5002",
   "metadata": {},
   "source": [
    "#### Entrainement pour l'abstention"
   ]
  },
  {
   "cell_type": "code",
   "execution_count": 36,
   "id": "243364dd",
   "metadata": {},
   "outputs": [
    {
     "name": "stdout",
     "output_type": "stream",
     "text": [
      "Epoch 1/1000\n",
      "\u001b[1m784/784\u001b[0m \u001b[32m━━━━━━━━━━━━━━━━━━━━\u001b[0m\u001b[37m\u001b[0m \u001b[1m4s\u001b[0m 4ms/step - loss: 0.3736 - val_loss: 0.2435\n",
      "Epoch 2/1000\n",
      "\u001b[1m784/784\u001b[0m \u001b[32m━━━━━━━━━━━━━━━━━━━━\u001b[0m\u001b[37m\u001b[0m \u001b[1m3s\u001b[0m 4ms/step - loss: 0.2275 - val_loss: 0.2445\n",
      "Epoch 3/1000\n",
      "\u001b[1m784/784\u001b[0m \u001b[32m━━━━━━━━━━━━━━━━━━━━\u001b[0m\u001b[37m\u001b[0m \u001b[1m3s\u001b[0m 4ms/step - loss: 0.2145 - val_loss: 0.2272\n",
      "Epoch 4/1000\n",
      "\u001b[1m784/784\u001b[0m \u001b[32m━━━━━━━━━━━━━━━━━━━━\u001b[0m\u001b[37m\u001b[0m \u001b[1m3s\u001b[0m 3ms/step - loss: 0.2160 - val_loss: 0.2263\n",
      "Epoch 5/1000\n",
      "\u001b[1m784/784\u001b[0m \u001b[32m━━━━━━━━━━━━━━━━━━━━\u001b[0m\u001b[37m\u001b[0m \u001b[1m3s\u001b[0m 3ms/step - loss: 0.2081 - val_loss: 0.2422\n",
      "Epoch 6/1000\n",
      "\u001b[1m784/784\u001b[0m \u001b[32m━━━━━━━━━━━━━━━━━━━━\u001b[0m\u001b[37m\u001b[0m \u001b[1m3s\u001b[0m 4ms/step - loss: 0.2036 - val_loss: 0.2396\n",
      "Epoch 7/1000\n",
      "\u001b[1m784/784\u001b[0m \u001b[32m━━━━━━━━━━━━━━━━━━━━\u001b[0m\u001b[37m\u001b[0m \u001b[1m3s\u001b[0m 3ms/step - loss: 0.1993 - val_loss: 0.2382\n",
      "Epoch 8/1000\n",
      "\u001b[1m784/784\u001b[0m \u001b[32m━━━━━━━━━━━━━━━━━━━━\u001b[0m\u001b[37m\u001b[0m \u001b[1m2s\u001b[0m 3ms/step - loss: 0.1949 - val_loss: 0.2291\n",
      "Epoch 9/1000\n",
      "\u001b[1m784/784\u001b[0m \u001b[32m━━━━━━━━━━━━━━━━━━━━\u001b[0m\u001b[37m\u001b[0m \u001b[1m3s\u001b[0m 4ms/step - loss: 0.1821 - val_loss: 0.2553\n",
      "Epoch 10/1000\n",
      "\u001b[1m784/784\u001b[0m \u001b[32m━━━━━━━━━━━━━━━━━━━━\u001b[0m\u001b[37m\u001b[0m \u001b[1m3s\u001b[0m 4ms/step - loss: 0.1826 - val_loss: 0.2460\n",
      "Epoch 11/1000\n",
      "\u001b[1m784/784\u001b[0m \u001b[32m━━━━━━━━━━━━━━━━━━━━\u001b[0m\u001b[37m\u001b[0m \u001b[1m3s\u001b[0m 3ms/step - loss: 0.1679 - val_loss: 0.2396\n",
      "Epoch 12/1000\n",
      "\u001b[1m784/784\u001b[0m \u001b[32m━━━━━━━━━━━━━━━━━━━━\u001b[0m\u001b[37m\u001b[0m \u001b[1m3s\u001b[0m 4ms/step - loss: 0.1547 - val_loss: 0.2422\n",
      "Epoch 13/1000\n",
      "\u001b[1m784/784\u001b[0m \u001b[32m━━━━━━━━━━━━━━━━━━━━\u001b[0m\u001b[37m\u001b[0m \u001b[1m3s\u001b[0m 4ms/step - loss: 0.1447 - val_loss: 0.2547\n",
      "Epoch 14/1000\n",
      "\u001b[1m784/784\u001b[0m \u001b[32m━━━━━━━━━━━━━━━━━━━━\u001b[0m\u001b[37m\u001b[0m \u001b[1m4s\u001b[0m 5ms/step - loss: 0.1335 - val_loss: 0.2722\n",
      "Epoch 15/1000\n",
      "\u001b[1m784/784\u001b[0m \u001b[32m━━━━━━━━━━━━━━━━━━━━\u001b[0m\u001b[37m\u001b[0m \u001b[1m4s\u001b[0m 5ms/step - loss: 0.1260 - val_loss: 0.2553\n",
      "Epoch 16/1000\n",
      "\u001b[1m784/784\u001b[0m \u001b[32m━━━━━━━━━━━━━━━━━━━━\u001b[0m\u001b[37m\u001b[0m \u001b[1m3s\u001b[0m 4ms/step - loss: 0.1119 - val_loss: 0.2742\n",
      "Epoch 17/1000\n",
      "\u001b[1m784/784\u001b[0m \u001b[32m━━━━━━━━━━━━━━━━━━━━\u001b[0m\u001b[37m\u001b[0m \u001b[1m3s\u001b[0m 3ms/step - loss: 0.1049 - val_loss: 0.2838\n",
      "Epoch 18/1000\n",
      "\u001b[1m784/784\u001b[0m \u001b[32m━━━━━━━━━━━━━━━━━━━━\u001b[0m\u001b[37m\u001b[0m \u001b[1m3s\u001b[0m 4ms/step - loss: 0.0970 - val_loss: 0.2794\n",
      "Epoch 19/1000\n",
      "\u001b[1m784/784\u001b[0m \u001b[32m━━━━━━━━━━━━━━━━━━━━\u001b[0m\u001b[37m\u001b[0m \u001b[1m4s\u001b[0m 4ms/step - loss: 0.0867 - val_loss: 0.2851\n",
      "Epoch 20/1000\n",
      "\u001b[1m784/784\u001b[0m \u001b[32m━━━━━━━━━━━━━━━━━━━━\u001b[0m\u001b[37m\u001b[0m \u001b[1m3s\u001b[0m 4ms/step - loss: 0.0842 - val_loss: 0.2997\n"
     ]
    }
   ],
   "source": [
    "model = createModel()\n",
    "history = model.fit(X_trainNN_Abstentions, y_trainNN_Abstentions,\n",
    "                    epochs=1000,validation_data=(X_valNN_Abstentions, y_valNN_Abstentions),\n",
    "                    callbacks=[CallBackSave,callbackStop]\n",
    "                   )"
   ]
  },
  {
   "cell_type": "code",
   "execution_count": 44,
   "id": "642a31c1",
   "metadata": {},
   "outputs": [
    {
     "name": "stdout",
     "output_type": "stream",
     "text": [
      "\u001b[1m1/1\u001b[0m \u001b[32m━━━━━━━━━━━━━━━━━━━━\u001b[0m\u001b[37m\u001b[0m \u001b[1m0s\u001b[0m 50ms/step\n",
      "Sur les entrainement la valeur reel :  [[19.93009084]] ; valeur predite :  [[22.43396]]\n",
      "\u001b[1m98/98\u001b[0m \u001b[32m━━━━━━━━━━━━━━━━━━━━\u001b[0m\u001b[37m\u001b[0m \u001b[1m0s\u001b[0m 1ms/step\n",
      "\u001b[1m98/98\u001b[0m \u001b[32m━━━━━━━━━━━━━━━━━━━━\u001b[0m\u001b[37m\u001b[0m \u001b[1m0s\u001b[0m 946us/step - loss: 0.2839\n",
      "Perte de test : 0.288349449634552\n",
      "Corrélation entre les valeurs réelles et prédites : -0.36790147918863325\n",
      "P-value associée : 4.119900423178409e-101\n",
      "R-value : -0.7727030074447043\n"
     ]
    }
   ],
   "source": [
    "best_model = tf.keras.models.load_model(\"best_model_Valeurs.keras\")\n",
    "\n",
    "print(\"Sur les entrainement la valeur reel : \", scalerAbstentions.inverse_transform(y_trainNN_Lepen[0].reshape(-1, 1)), \"; valeur predite : \",scalerAbstentions.inverse_transform(best_model.predict(X_trainNN_Abstentions[0:1]).reshape(-1, 1)))\n",
    "\n",
    "y_pred_NN = best_model.predict(X_testNN_Abstentions)\n",
    "\n",
    "reel = scalerAbstentions.inverse_transform(y_testNN_Abstentions)\n",
    "prediction = scalerAbstentions.inverse_transform(y_pred_NN.reshape(-1, 1)).flatten()\n",
    "\n",
    "#print(\"Affichage des predictions sur le test pourl' Abstentions\")\n",
    "#affichagePrediction(prediction, reel)\n",
    "\n",
    "test_loss = model.evaluate(X_testNN_Abstentions, y_testNN_Abstentions)\n",
    "print(\"Perte de test :\", test_loss)\n",
    "\n",
    "correlation, p_value = pearsonr(np.squeeze(y_testNN_Abstentions),  np.squeeze(y_pred_NN))\n",
    "\n",
    "# Affichage de la corrélation et de la p-value\n",
    "print(\"Corrélation entre les valeurs réelles et prédites :\", correlation)\n",
    "print(\"P-value associée :\", p_value)\n",
    "\n",
    "print(\"R-value :\", r2_score(np.squeeze(y_testNN_Abstentions),  np.squeeze(y_pred_NN)))"
   ]
  },
  {
   "cell_type": "code",
   "execution_count": 38,
   "id": "b812b3e4",
   "metadata": {},
   "outputs": [
    {
     "data": {
      "image/png": "[encoded data removed]",
      "text/plain": [
       "<Figure size 640x480 with 1 Axes>"
      ]
     },
     "metadata": {},
     "output_type": "display_data"
    }
   ],
   "source": [
    "import matplotlib.pyplot as plt\n",
    "\n",
    "loss = history.history['loss']\n",
    "val_loss = history.history['val_loss']\n",
    "epochs = [*range(len(loss))]\n",
    "\n",
    "#------------------------------------------------\n",
    "# Plot training and validation accuracy per epoch\n",
    "#------------------------------------------------\n",
    "plt.plot(epochs, loss, 'r')\n",
    "plt.plot(epochs, val_loss, 'b')\n",
    "plt.title('Training and validation loss')\n",
    "plt.xlabel(\"Epochs\")\n",
    "plt.ylabel(\"loss\")\n",
    "plt.legend([\"loss\", \"Validation loss\"])\n",
    "plt.show()"
   ]
  },
  {
   "cell_type": "code",
   "execution_count": null,
   "id": "46ecd569",
   "metadata": {},
   "outputs": [],
   "source": []
  }
 ],
 "metadata": {
  "kernelspec": {
   "display_name": "Python 3 (ipykernel)",
   "language": "python",
   "name": "python3"
  },
  "language_info": {
   "codemirror_mode": {
    "name": "ipython",
    "version": 3
   },
   "file_extension": ".py",
   "mimetype": "text/x-python",
   "name": "python",
   "nbconvert_exporter": "python",
   "pygments_lexer": "ipython3",
   "version": "3.11.8"
  }
 },
 "nbformat": 4,
 "nbformat_minor": 5
}
