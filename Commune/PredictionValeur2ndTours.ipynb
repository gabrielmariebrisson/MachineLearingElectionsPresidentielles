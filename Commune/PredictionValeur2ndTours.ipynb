{
 "cells": [
  {
   "cell_type": "markdown",
   "id": "a3d35130",
   "metadata": {},
   "source": [
    "# Partie sur la prediction des données"
   ]
  },
  {
   "cell_type": "markdown",
   "id": "0fc97542",
   "metadata": {},
   "source": [
    "## Prédiction des scores des elections du second tour 2022 pour commune"
   ]
  },
  {
   "cell_type": "markdown",
   "id": "fd753c08",
   "metadata": {},
   "source": [
    "### Bibliotheque"
   ]
  },
  {
   "cell_type": "code",
   "execution_count": 1,
   "id": "1a296d10",
   "metadata": {},
   "outputs": [],
   "source": [
    "import pandas as pd\n",
    "import numpy as np\n",
    "import random\n",
    "import os\n",
    "import statsmodels.api as sm\n",
    "from sklearn.svm import SVC\n",
    "from sklearn.metrics import classification_report\n",
    "from sklearn.model_selection import train_test_split\n",
    "from sklearn.preprocessing import StandardScaler\n",
    "from sklearn.metrics import accuracy_score\n",
    "from scipy.stats import pearsonr\n",
    "from sklearn.metrics import r2_score"
   ]
  },
  {
   "cell_type": "markdown",
   "id": "7d5ffc2a",
   "metadata": {},
   "source": [
    "### Préparation des données"
   ]
  },
  {
   "cell_type": "code",
   "execution_count": 2,
   "id": "c0844174",
   "metadata": {},
   "outputs": [],
   "source": [
    "# Sélection des features\n",
    "df_concat = pd.read_excel('Commune.xlsx')\n",
    "\n",
    "features = df_concat.drop(['Abstentions','Macron', 'Lepen', 'COM'], axis=1)\n",
    "\n",
    "ScoreMacron =  df_concat['Macron'].values.reshape(-1, 1)\n",
    "\n",
    "ScoreLepen =  df_concat['Lepen'].values.reshape(-1, 1)\n",
    "\n",
    "ScoreAbstentions =  df_concat['Abstentions'].values.reshape(-1, 1)\n",
    "\n",
    "\n",
    "# Normalisation des données\n",
    "scalerX = StandardScaler()\n",
    "X_scaled = scalerX.fit_transform(features)\n",
    "\n",
    "scalerMacron = StandardScaler()\n",
    "ScoreMacron = scalerMacron.fit_transform(ScoreMacron)\n",
    "\n",
    "scalerLepen = StandardScaler()\n",
    "ScoreLepen = scalerLepen.fit_transform(ScoreLepen)\n",
    "\n",
    "scalerAbstentions = StandardScaler()\n",
    "ScoreAbstentions = scalerAbstentions.fit_transform(ScoreAbstentions)\n"
   ]
  },
  {
   "cell_type": "markdown",
   "id": "dadc7822",
   "metadata": {},
   "source": [
    "###  Selection des Colonnes intéressante"
   ]
  },
  {
   "cell_type": "code",
   "execution_count": 3,
   "id": "1d507764",
   "metadata": {},
   "outputs": [],
   "source": [
    "def Selection_Colonne_Pvalue(label):\n",
    "    # Création de l'analyse pour la p_value\n",
    "    p_values = {}\n",
    "    for i, column in enumerate(features.columns):\n",
    "        p_value = pearsonr(X_scaled[:, i], label.flatten())[1]\n",
    "        p_values[i] = p_value\n",
    "\n",
    "    # Sélectionnez les colonnes avec des p-values inférieures au seuil de significativité\n",
    "    significant_indices = [column for column, p_value in p_values.items() if p_value < 0.05]\n",
    "    #print(\"Affichage des colonnes selectionné : \",features.iloc[:, significant_indices].columns)\n",
    "    return X_scaled[:, significant_indices]\n",
    "\n",
    "X_Macron = Selection_Colonne_Pvalue(ScoreMacron)\n",
    "X_Lepen = Selection_Colonne_Pvalue(ScoreLepen)\n",
    "X_Abstentions = Selection_Colonne_Pvalue(ScoreAbstentions)\n",
    "\n",
    "#division des données\n",
    "split_index1 = int(df_concat.shape[0] * 0.8)\n",
    "split_index2 = int(df_concat.shape[0] * 0.9)\n",
    "\n",
    "X_train_Marcon, X_val_Marcon, X_test_Marcon = X_Macron[:split_index1, :], X_Macron[split_index1:split_index2, :], X_Macron[split_index2:, :]\n",
    "y_train_Marcon, y_val_Marcon, y_test_Marcon = ScoreMacron[:split_index1], ScoreMacron[split_index1:split_index2], ScoreMacron[split_index2:]\n",
    "\n",
    "X_train_Lepen, X_val_Lepen, X_test_Lepen = X_Lepen[:split_index1, :], X_Lepen[split_index1:split_index2, :], X_Lepen[split_index2:, :]\n",
    "y_train_Lepen, y_val_Lepen, y_test_Lepen = ScoreLepen[:split_index1], ScoreLepen[split_index1:split_index2], ScoreLepen[split_index2:]\n",
    "\n",
    "X_train_Abstentions, X_val_Abstentions, X_test_Abstentions = X_Abstentions[:split_index1, :], X_Abstentions[split_index1:split_index2, :], X_Abstentions[split_index2:, :]\n",
    "y_train_Abstentions, y_val_Abstentions, y_test_Abstentions = ScoreAbstentions[:split_index1], ScoreAbstentions[split_index1:split_index2], ScoreAbstentions[split_index2:]\n"
   ]
  },
  {
   "cell_type": "markdown",
   "id": "9b2dc0ad",
   "metadata": {},
   "source": [
    "### Application de Regression"
   ]
  },
  {
   "cell_type": "markdown",
   "id": "4ec82f58",
   "metadata": {},
   "source": [
    "<h1> Liear Regression </h1>"
   ]
  },
  {
   "cell_type": "code",
   "execution_count": 4,
   "id": "97de593a",
   "metadata": {},
   "outputs": [
    {
     "name": "stdout",
     "output_type": "stream",
     "text": [
      "Pour Macron:\n",
      "R-value pour Macron: 0.8991453092743774\n",
      "\n",
      "Pour Le Pen:\n",
      "R-value pour Le Pen: 0.8970865662306098\n",
      "\n",
      "Pour les Abstentions:\n",
      "R-value pour les Abstentions: 0.7771037438328549\n"
     ]
    }
   ],
   "source": [
    "from sklearn.linear_model import LinearRegression\n",
    "import numpy as np\n",
    "\n",
    "def linear_regression_r_value(X, y, print_values=False):\n",
    "    # Crée et ajuste le modèle de régression linéaire\n",
    "    linear_reg = LinearRegression()\n",
    "    linear_reg.fit(X, y)\n",
    "    \n",
    "    # Récupère le coefficient de corrélation (r-value)\n",
    "    r_value = linear_reg.score(X, y)\n",
    "    \n",
    "\n",
    "    # Affiche le résumé de la régression linéaire\n",
    "    if print_values:\n",
    "        # Affiche les p-values\n",
    "        p_values = np.append(linear_reg.intercept_, linear_reg.coef_)\n",
    "        print(\"P-values:\")\n",
    "        for i, p_value in enumerate(p_values):\n",
    "            print(f\"Feature {i}: {p_value}\")\n",
    "            \n",
    "    return r_value\n",
    "\n",
    "# Pour Macron\n",
    "print(\"Pour Macron:\")\n",
    "r_value_Macron = linear_regression_r_value(X_train_Marcon, y_train_Marcon, print_values=False)\n",
    "print(\"R-value pour Macron:\", r_value_Macron)\n",
    "\n",
    "# Pour Le Pen\n",
    "print(\"\\nPour Le Pen:\")\n",
    "r_value_Lepen = linear_regression_r_value(X_train_Lepen, y_train_Lepen, print_values=False)\n",
    "print(\"R-value pour Le Pen:\", r_value_Lepen)\n",
    "\n",
    "# Pour les Abstentions\n",
    "print(\"\\nPour les Abstentions:\")\n",
    "r_value_Abstentions = linear_regression_r_value(X_train_Abstentions, y_train_Abstentions, print_values=False)\n",
    "print(\"R-value pour les Abstentions:\", r_value_Abstentions)\n"
   ]
  },
  {
   "cell_type": "markdown",
   "id": "45b98ed9",
   "metadata": {},
   "source": [
    "<h1> Ridge </h1>"
   ]
  },
  {
   "cell_type": "code",
   "execution_count": 5,
   "id": "db165ea7",
   "metadata": {},
   "outputs": [
    {
     "name": "stdout",
     "output_type": "stream",
     "text": [
      "Pour Macron:\n",
      "R-value pour Macron: 0.8991453082173804\n",
      "\n",
      "Pour Le Pen:\n",
      "R-value pour Le Pen: 0.8970865651761667\n",
      "\n",
      "Pour les Abstentions:\n",
      "R-value pour les Abstentions: 0.7771037420855031\n"
     ]
    }
   ],
   "source": [
    "from sklearn.linear_model import Ridge\n",
    "import numpy as np\n",
    "\n",
    "def ridge_regression_r_value(X, y, print_values=False):\n",
    "    # Crée et ajuste le modèle de régression linéaire Ridge\n",
    "    ridge_reg = Ridge()\n",
    "    ridge_reg.fit(X, y)\n",
    "    \n",
    "    # Récupère le coefficient de corrélation (r-value)\n",
    "    r_value = ridge_reg.score(X, y)\n",
    "    \n",
    "    if print_values:\n",
    "        # Affiche les p-values\n",
    "        p_values = np.append(ridge_reg.intercept_, ridge_reg.coef_)\n",
    "        print(\"P-values:\")\n",
    "        for i, p_value in enumerate(p_values):\n",
    "            print(f\"Feature {i}: {p_value}\")\n",
    "    \n",
    "    return r_value\n",
    "\n",
    "# Pour Macron\n",
    "print(\"Pour Macron:\")\n",
    "r_value_Macron = ridge_regression_r_value(X_train_Marcon, y_train_Marcon, print_values=False)\n",
    "print(\"R-value pour Macron:\", r_value_Macron)\n",
    "\n",
    "# Pour Le Pen\n",
    "print(\"\\nPour Le Pen:\")\n",
    "r_value_Lepen = ridge_regression_r_value(X_train_Lepen, y_train_Lepen, print_values=False)\n",
    "print(\"R-value pour Le Pen:\", r_value_Lepen)\n",
    "\n",
    "# Pour les Abstentions\n",
    "print(\"\\nPour les Abstentions:\")\n",
    "r_value_Abstentions = ridge_regression_r_value(X_train_Abstentions, y_train_Abstentions, print_values=False)\n",
    "print(\"R-value pour les Abstentions:\", r_value_Abstentions)\n"
   ]
  },
  {
   "cell_type": "markdown",
   "id": "122358da",
   "metadata": {},
   "source": [
    "<h1> SGD </h1>"
   ]
  },
  {
   "cell_type": "code",
   "execution_count": 6,
   "id": "9644b7f3",
   "metadata": {},
   "outputs": [
    {
     "name": "stdout",
     "output_type": "stream",
     "text": [
      "Pour Macron:\n",
      "R-value pour Macron: 0.8977166443734662\n",
      "\n",
      "Pour Le Pen:\n",
      "R-value pour Le Pen: 0.8958036789654189\n",
      "\n",
      "Pour les Abstentions:\n",
      "R-value pour les Abstentions: 0.7744123155732483\n"
     ]
    },
    {
     "name": "stderr",
     "output_type": "stream",
     "text": [
      "/opt/anaconda3/lib/python3.11/site-packages/sklearn/utils/validation.py:1143: DataConversionWarning: A column-vector y was passed when a 1d array was expected. Please change the shape of y to (n_samples, ), for example using ravel().\n",
      "  y = column_or_1d(y, warn=True)\n",
      "/opt/anaconda3/lib/python3.11/site-packages/sklearn/utils/validation.py:1143: DataConversionWarning: A column-vector y was passed when a 1d array was expected. Please change the shape of y to (n_samples, ), for example using ravel().\n",
      "  y = column_or_1d(y, warn=True)\n",
      "/opt/anaconda3/lib/python3.11/site-packages/sklearn/utils/validation.py:1143: DataConversionWarning: A column-vector y was passed when a 1d array was expected. Please change the shape of y to (n_samples, ), for example using ravel().\n",
      "  y = column_or_1d(y, warn=True)\n"
     ]
    }
   ],
   "source": [
    "from sklearn.linear_model import SGDRegressor\n",
    "import numpy as np\n",
    "\n",
    "def sgd_regression_r_value(X, y, print_values=False):\n",
    "    # Crée et ajuste le modèle de régression linéaire avec la descente de gradient stochastique\n",
    "    sgd_reg = SGDRegressor()\n",
    "    sgd_reg.fit(X, y)\n",
    "    \n",
    "    # Récupère le coefficient de corrélation (r-value)\n",
    "    r_value = sgd_reg.score(X, y)\n",
    "    \n",
    "    if print_values:\n",
    "        # Affiche les p-values\n",
    "        p_values = np.append(sgd_reg.intercept_, sgd_reg.coef_)\n",
    "        print(\"P-values:\")\n",
    "        for i, p_value in enumerate(p_values):\n",
    "            print(f\"Feature {i}: {p_value}\")\n",
    "    \n",
    "    return r_value\n",
    "\n",
    "# Pour Macron\n",
    "print(\"Pour Macron:\")\n",
    "r_value_Macron = sgd_regression_r_value(X_train_Marcon, y_train_Marcon)\n",
    "print(\"R-value pour Macron:\", r_value_Macron)\n",
    "\n",
    "# Pour Le Pen\n",
    "print(\"\\nPour Le Pen:\")\n",
    "r_value_Lepen = sgd_regression_r_value(X_train_Lepen, y_train_Lepen)\n",
    "print(\"R-value pour Le Pen:\", r_value_Lepen)\n",
    "\n",
    "# Pour les Abstentions\n",
    "print(\"\\nPour les Abstentions:\")\n",
    "r_value_Abstentions = sgd_regression_r_value(X_train_Abstentions, y_train_Abstentions)\n",
    "print(\"R-value pour les Abstentions:\", r_value_Abstentions)\n"
   ]
  },
  {
   "cell_type": "markdown",
   "id": "b0db8e05",
   "metadata": {},
   "source": [
    "### Foret Aleatoire"
   ]
  },
  {
   "cell_type": "code",
   "execution_count": 7,
   "id": "647f215b",
   "metadata": {},
   "outputs": [
    {
     "name": "stdout",
     "output_type": "stream",
     "text": [
      "Corrélation entre les valeurs réelles et prédites : 0.9544138062366454\n",
      "P-value associée : 0.0\n",
      "R-value : 0.9107702829446106\n"
     ]
    }
   ],
   "source": [
    "from sklearn.ensemble import RandomForestRegressor\n",
    "\n",
    "#Macron\n",
    "rf_regressor = RandomForestRegressor(n_estimators=100) \n",
    "rf_regressor.fit(X_train_Marcon, y_train_Marcon.ravel())\n",
    "\n",
    "predictions_rf = rf_regressor.predict(X_test_Marcon)\n",
    "\n",
    "correlation, p_value = pearsonr(y_test_Marcon.ravel(), predictions_rf)\n",
    "print(\"Corrélation entre les valeurs réelles et prédites :\", correlation)\n",
    "print(\"P-value associée :\", p_value)\n",
    "print(\"R-value :\", r2_score(y_test_Marcon.ravel(), predictions_rf))\n"
   ]
  },
  {
   "cell_type": "code",
   "execution_count": 8,
   "id": "56b12d0f",
   "metadata": {},
   "outputs": [
    {
     "name": "stdout",
     "output_type": "stream",
     "text": [
      "Corrélation entre les valeurs réelles et prédites : 0.9539925903140452\n",
      "P-value associée : 0.0\n",
      "R-value : 0.9099783283749514\n"
     ]
    }
   ],
   "source": [
    "#Lepen\n",
    "rf_regressor = RandomForestRegressor(n_estimators=100) \n",
    "rf_regressor.fit(X_train_Lepen, y_train_Lepen.ravel())\n",
    "\n",
    "predictions_rf = rf_regressor.predict(X_test_Lepen)\n",
    "\n",
    "correlation, p_value = pearsonr(y_test_Lepen.ravel(), predictions_rf)\n",
    "\n",
    "print(\"Corrélation entre les valeurs réelles et prédites :\", correlation)\n",
    "print(\"P-value associée :\", p_value)\n",
    "print(\"R-value :\", r2_score(y_test_Lepen.ravel(), predictions_rf))"
   ]
  },
  {
   "cell_type": "code",
   "execution_count": 9,
   "id": "bd382824",
   "metadata": {},
   "outputs": [
    {
     "name": "stdout",
     "output_type": "stream",
     "text": [
      "Corrélation entre les valeurs réelles et prédites : 0.9070346337325595\n",
      "P-value associée : 0.0\n",
      "R-value : 0.816958673309469\n"
     ]
    }
   ],
   "source": [
    "#Abstention\n",
    "rf_regressor = RandomForestRegressor(n_estimators=100) \n",
    "rf_regressor.fit(X_train_Abstentions, y_train_Abstentions.ravel())\n",
    "\n",
    "predictions_rf = rf_regressor.predict(X_test_Abstentions)\n",
    "\n",
    "correlation, p_value = pearsonr(y_test_Abstentions.ravel(), predictions_rf)\n",
    "\n",
    "print(\"Corrélation entre les valeurs réelles et prédites :\", correlation)\n",
    "print(\"P-value associée :\", p_value)\n",
    "print(\"R-value :\", r2_score(y_test_Abstentions.ravel(), predictions_rf))"
   ]
  },
  {
   "cell_type": "markdown",
   "id": "a7697020",
   "metadata": {},
   "source": [
    "### SVM"
   ]
  },
  {
   "cell_type": "markdown",
   "id": "5b18471e",
   "metadata": {},
   "source": [
    "Macron"
   ]
  },
  {
   "cell_type": "code",
   "execution_count": 10,
   "id": "a711c65b",
   "metadata": {},
   "outputs": [
    {
     "name": "stdout",
     "output_type": "stream",
     "text": [
      "Corrélation entre les valeurs réelles et prédites : 0.9547836655345897\n",
      "P-value associée : 0.0\n",
      "R-value : 0.9114585183583332\n"
     ]
    }
   ],
   "source": [
    "from sklearn.svm import SVR\n",
    "\n",
    "svm_regressor = SVR(kernel='linear')\n",
    "svm_regressor.fit(X_train_Marcon, y_train_Marcon.ravel())\n",
    "\n",
    "y_pred_linear = svm_regressor.predict(X_test_Marcon)\n",
    "correlation, p_value = pearsonr(y_test_Marcon.ravel(), y_pred_linear)\n",
    "\n",
    "print(\"Corrélation entre les valeurs réelles et prédites :\", correlation)\n",
    "print(\"P-value associée :\", p_value)\n",
    "print(\"R-value :\", r2_score(y_test_Marcon.ravel(), y_pred_linear))"
   ]
  },
  {
   "cell_type": "code",
   "execution_count": 11,
   "id": "0a84ac3c",
   "metadata": {},
   "outputs": [
    {
     "name": "stdout",
     "output_type": "stream",
     "text": [
      "Corrélation entre les valeurs réelles et prédites : 0.32741952161662324\n",
      "P-value associée : 2.928919033071313e-79\n",
      "R-value : -6.876217956688898\n"
     ]
    }
   ],
   "source": [
    "svm_regressor = SVR(kernel='poly')\n",
    "svm_regressor.fit(X_train_Marcon, y_train_Marcon.ravel())\n",
    "\n",
    "y_pred_linear = svm_regressor.predict(X_test_Marcon)\n",
    "correlation, p_value = pearsonr(y_test_Marcon.ravel(), y_pred_linear)\n",
    "\n",
    "print(\"Corrélation entre les valeurs réelles et prédites :\", correlation)\n",
    "print(\"P-value associée :\", p_value)\n",
    "print(\"R-value :\", r2_score(y_test_Marcon.ravel(), y_pred_linear))"
   ]
  },
  {
   "cell_type": "markdown",
   "id": "5c15d016",
   "metadata": {},
   "source": [
    "Lepen"
   ]
  },
  {
   "cell_type": "code",
   "execution_count": 12,
   "id": "4f059e17",
   "metadata": {},
   "outputs": [
    {
     "name": "stdout",
     "output_type": "stream",
     "text": [
      "Corrélation entre les valeurs réelles et prédites : 0.9547486745998033\n",
      "P-value associée : 0.0\n",
      "R-value : 0.9113242770395424\n"
     ]
    }
   ],
   "source": [
    "svm_regressor = SVR(kernel='linear')\n",
    "svm_regressor.fit(X_train_Lepen, y_train_Lepen.ravel())\n",
    "\n",
    "y_pred_linear = svm_regressor.predict(X_test_Lepen)\n",
    "correlation, p_value = pearsonr(y_test_Lepen.ravel(), y_pred_linear)\n",
    "\n",
    "print(\"Corrélation entre les valeurs réelles et prédites :\", correlation)\n",
    "print(\"P-value associée :\", p_value)\n",
    "print(\"R-value :\", r2_score(y_test_Lepen.ravel(), y_pred_linear))"
   ]
  },
  {
   "cell_type": "code",
   "execution_count": 13,
   "id": "87b890e7",
   "metadata": {},
   "outputs": [
    {
     "name": "stdout",
     "output_type": "stream",
     "text": [
      "Corrélation entre les valeurs réelles et prédites : 0.34956357169567215\n",
      "P-value associée : 8.209659367437134e-91\n",
      "R-value : -5.833930711619141\n"
     ]
    }
   ],
   "source": [
    "svm_regressor = SVR(kernel='poly')\n",
    "svm_regressor.fit(X_train_Lepen, y_train_Lepen.ravel())\n",
    "\n",
    "y_pred_linear = svm_regressor.predict(X_test_Lepen)\n",
    "correlation, p_value = pearsonr(y_test_Lepen.ravel(), y_pred_linear)\n",
    "\n",
    "print(\"Corrélation entre les valeurs réelles et prédites :\", correlation)\n",
    "print(\"P-value associée :\", p_value)\n",
    "print(\"R-value :\", r2_score(y_test_Lepen.ravel(), y_pred_linear))"
   ]
  },
  {
   "cell_type": "markdown",
   "id": "11ea153e",
   "metadata": {},
   "source": [
    "Abstentions"
   ]
  },
  {
   "cell_type": "code",
   "execution_count": 14,
   "id": "049b35b9",
   "metadata": {},
   "outputs": [
    {
     "name": "stdout",
     "output_type": "stream",
     "text": [
      "Corrélation entre les valeurs réelles et prédites : 0.905304388119601\n",
      "P-value associée : 0.0\n",
      "R-value : 0.817337078730024\n"
     ]
    }
   ],
   "source": [
    "svm_regressor = SVR(kernel='linear')\n",
    "svm_regressor.fit(X_train_Abstentions, y_train_Abstentions.ravel())\n",
    "\n",
    "y_pred_linear = svm_regressor.predict(X_test_Abstentions)\n",
    "correlation, p_value = pearsonr(y_test_Abstentions.ravel(), y_pred_linear)\n",
    "\n",
    "print(\"Corrélation entre les valeurs réelles et prédites :\", correlation)\n",
    "print(\"P-value associée :\", p_value)\n",
    "print(\"R-value :\", r2_score(y_test_Abstentions.ravel(), y_pred_linear))"
   ]
  },
  {
   "cell_type": "code",
   "execution_count": 15,
   "id": "550b0992",
   "metadata": {},
   "outputs": [
    {
     "name": "stdout",
     "output_type": "stream",
     "text": [
      "Corrélation entre les valeurs réelles et prédites : 0.2288085430410613\n",
      "P-value associée : 1.5735153986419386e-38\n",
      "R-value : -9.041528857066169\n"
     ]
    }
   ],
   "source": [
    "svm_regressor = SVR(kernel='poly')\n",
    "svm_regressor.fit(X_train_Abstentions, y_train_Abstentions.ravel())\n",
    "\n",
    "y_pred_linear = svm_regressor.predict(X_test_Abstentions)\n",
    "correlation, p_value = pearsonr(y_test_Abstentions.ravel(), y_pred_linear)\n",
    "\n",
    "print(\"Corrélation entre les valeurs réelles et prédites :\", correlation)\n",
    "print(\"P-value associée :\", p_value)\n",
    "print(\"R-value :\", r2_score(y_test_Abstentions.ravel(), y_pred_linear))"
   ]
  },
  {
   "cell_type": "markdown",
   "id": "390e937f",
   "metadata": {},
   "source": [
    "### Reseau de neuronne"
   ]
  },
  {
   "cell_type": "code",
   "execution_count": 16,
   "id": "cc0e8547",
   "metadata": {},
   "outputs": [],
   "source": [
    "#conversion pandas -> numpy\n",
    "\n",
    "X_trainNN_Marcon = np.array(X_train_Marcon,dtype=float)\n",
    "X_trainNN_Lepen = np.array(X_train_Lepen,dtype=float)\n",
    "X_trainNN_Abstentions = np.array(X_train_Abstentions,dtype=float)\n",
    "\n",
    "y_trainNN_Lepen = np.array(y_train_Lepen,dtype=float)\n",
    "y_trainNN_Marcon = np.array(y_train_Marcon,dtype=float)\n",
    "y_trainNN_Abstentions = np.array(y_train_Abstentions,dtype=float)\n",
    "\n",
    "X_valNN_Marcon = np.array(X_val_Marcon,dtype=float)\n",
    "X_valNN_Lepen = np.array(X_val_Lepen,dtype=float)\n",
    "X_valNN_Abstentions = np.array(X_val_Abstentions,dtype=float)\n",
    "y_valNN_Lepen = np.array(y_val_Lepen,dtype=float)\n",
    "y_valNN_Marcon = np.array(y_val_Marcon,dtype=float)\n",
    "y_valNN_Abstentions = np.array(y_val_Abstentions,dtype=float)\n",
    "\n",
    "X_testNN_Marcon = np.array(X_test_Marcon,dtype=float)\n",
    "X_testNN_Lepen = np.array(X_test_Lepen,dtype=float)\n",
    "X_testNN_Abstentions = np.array(X_test_Abstentions,dtype=float)\n",
    "\n",
    "y_testNN_Lepen = np.array(y_test_Lepen,dtype=float)\n",
    "y_testNN_Marcon = np.array(y_test_Marcon,dtype=float)\n",
    "y_testNN_Abstentions = np.array(y_test_Abstentions,dtype=float)"
   ]
  },
  {
   "cell_type": "code",
   "execution_count": 17,
   "id": "9b381e23",
   "metadata": {},
   "outputs": [],
   "source": [
    "import tensorflow as tf\n",
    "from tensorflow.keras import optimizers, losses, callbacks\n",
    "import numpy as np\n",
    "\n",
    "\n",
    "CallBackSave = callbacks.ModelCheckpoint(\"best_model_Valeurs.keras\", \n",
    "                                                 monitor='val_loss', \n",
    "                                                 save_best_only=True, \n",
    "                                                 mode='min')\n",
    "\n",
    "callbackStop = callbacks.EarlyStopping(monitor='val_loss', \n",
    "                                                  patience=20)\n",
    "\n",
    "\"\"\"class myCallback(tf.keras.callbacks.Callback):\n",
    "    def on_epoch_end(self, epoch, logs={}):\n",
    "        if logs.get('val_loss') is not None and logs.get('val_loss') < 0.3:\n",
    "            print(\"\\nReached 99.9% accuracy so cancelling training!\")\n",
    "            self.model.stop_training = True\n",
    "\n",
    "callbackStop = myCallback()\"\"\"\n",
    "\n",
    "def createModel():\n",
    "    #model = tf.keras.Sequential([tf.keras.layers.Dense(units=1, input_shape=[features.shape[1]])])\n",
    "\n",
    "    model = tf.keras.models.Sequential([\n",
    "    tf.keras.layers.Dense(features.shape[1], activation='relu'),\n",
    "    tf.keras.layers.Dense(512, activation='relu'),\n",
    "    tf.keras.layers.Dense(256, activation='relu'),\n",
    "    tf.keras.layers.Dense(128, activation='relu'),\n",
    "    tf.keras.layers.Dense(64, activation='relu'),\n",
    "    tf.keras.layers.Dense(32, activation='relu'),\n",
    "    tf.keras.layers.Dense(1)\n",
    "    ])\n",
    "    model.compile(loss='mean_squared_error',\n",
    "                  optimizer=optimizers.Adam())\n",
    "    return model\n",
    "\n",
    "def affichagePrediction(prediction, reel):\n",
    "    for i in range(len(prediction)):\n",
    "        print(\"valeur prédite :\", prediction[i], \"valeur réelle :\", reel[i], \"écart :\", np.abs(prediction[i] - reel[i]))"
   ]
  },
  {
   "cell_type": "markdown",
   "id": "e50100b6",
   "metadata": {},
   "source": [
    "#### Entrainement pour Macron"
   ]
  },
  {
   "cell_type": "code",
   "execution_count": 18,
   "id": "70d334b4",
   "metadata": {},
   "outputs": [
    {
     "name": "stdout",
     "output_type": "stream",
     "text": [
      "Epoch 1/1000\n",
      "\u001b[1m784/784\u001b[0m \u001b[32m━━━━━━━━━━━━━━━━━━━━\u001b[0m\u001b[37m\u001b[0m \u001b[1m5s\u001b[0m 5ms/step - loss: 0.1852 - val_loss: 0.1001\n",
      "Epoch 2/1000\n",
      "\u001b[1m784/784\u001b[0m \u001b[32m━━━━━━━━━━━━━━━━━━━━\u001b[0m\u001b[37m\u001b[0m \u001b[1m3s\u001b[0m 4ms/step - loss: 0.1040 - val_loss: 0.0916\n",
      "Epoch 3/1000\n",
      "\u001b[1m784/784\u001b[0m \u001b[32m━━━━━━━━━━━━━━━━━━━━\u001b[0m\u001b[37m\u001b[0m \u001b[1m4s\u001b[0m 4ms/step - loss: 0.0972 - val_loss: 0.0904\n",
      "Epoch 4/1000\n",
      "\u001b[1m784/784\u001b[0m \u001b[32m━━━━━━━━━━━━━━━━━━━━\u001b[0m\u001b[37m\u001b[0m \u001b[1m4s\u001b[0m 5ms/step - loss: 0.0897 - val_loss: 0.0910\n",
      "Epoch 5/1000\n",
      "\u001b[1m784/784\u001b[0m \u001b[32m━━━━━━━━━━━━━━━━━━━━\u001b[0m\u001b[37m\u001b[0m \u001b[1m4s\u001b[0m 5ms/step - loss: 0.0947 - val_loss: 0.0969\n",
      "Epoch 6/1000\n",
      "\u001b[1m784/784\u001b[0m \u001b[32m━━━━━━━━━━━━━━━━━━━━\u001b[0m\u001b[37m\u001b[0m \u001b[1m4s\u001b[0m 6ms/step - loss: 0.0879 - val_loss: 0.0898\n",
      "Epoch 7/1000\n",
      "\u001b[1m784/784\u001b[0m \u001b[32m━━━━━━━━━━━━━━━━━━━━\u001b[0m\u001b[37m\u001b[0m \u001b[1m4s\u001b[0m 5ms/step - loss: 0.0828 - val_loss: 0.0949\n",
      "Epoch 8/1000\n",
      "\u001b[1m784/784\u001b[0m \u001b[32m━━━━━━━━━━━━━━━━━━━━\u001b[0m\u001b[37m\u001b[0m \u001b[1m3s\u001b[0m 4ms/step - loss: 0.0857 - val_loss: 0.0965\n",
      "Epoch 9/1000\n",
      "\u001b[1m784/784\u001b[0m \u001b[32m━━━━━━━━━━━━━━━━━━━━\u001b[0m\u001b[37m\u001b[0m \u001b[1m3s\u001b[0m 4ms/step - loss: 0.0844 - val_loss: 0.1020\n",
      "Epoch 10/1000\n",
      "\u001b[1m784/784\u001b[0m \u001b[32m━━━━━━━━━━━━━━━━━━━━\u001b[0m\u001b[37m\u001b[0m \u001b[1m3s\u001b[0m 4ms/step - loss: 0.0809 - val_loss: 0.0960\n",
      "Epoch 11/1000\n",
      "\u001b[1m784/784\u001b[0m \u001b[32m━━━━━━━━━━━━━━━━━━━━\u001b[0m\u001b[37m\u001b[0m \u001b[1m3s\u001b[0m 4ms/step - loss: 0.0783 - val_loss: 0.0968\n",
      "Epoch 12/1000\n",
      "\u001b[1m784/784\u001b[0m \u001b[32m━━━━━━━━━━━━━━━━━━━━\u001b[0m\u001b[37m\u001b[0m \u001b[1m3s\u001b[0m 4ms/step - loss: 0.0736 - val_loss: 0.0981\n",
      "Epoch 13/1000\n",
      "\u001b[1m784/784\u001b[0m \u001b[32m━━━━━━━━━━━━━━━━━━━━\u001b[0m\u001b[37m\u001b[0m \u001b[1m3s\u001b[0m 4ms/step - loss: 0.0641 - val_loss: 0.1072\n",
      "Epoch 14/1000\n",
      "\u001b[1m784/784\u001b[0m \u001b[32m━━━━━━━━━━━━━━━━━━━━\u001b[0m\u001b[37m\u001b[0m \u001b[1m4s\u001b[0m 5ms/step - loss: 0.0606 - val_loss: 0.1040\n",
      "Epoch 15/1000\n",
      "\u001b[1m784/784\u001b[0m \u001b[32m━━━━━━━━━━━━━━━━━━━━\u001b[0m\u001b[37m\u001b[0m \u001b[1m3s\u001b[0m 4ms/step - loss: 0.0650 - val_loss: 0.1009\n",
      "Epoch 16/1000\n",
      "\u001b[1m784/784\u001b[0m \u001b[32m━━━━━━━━━━━━━━━━━━━━\u001b[0m\u001b[37m\u001b[0m \u001b[1m4s\u001b[0m 4ms/step - loss: 0.0654 - val_loss: 0.1042\n",
      "Epoch 17/1000\n",
      "\u001b[1m784/784\u001b[0m \u001b[32m━━━━━━━━━━━━━━━━━━━━\u001b[0m\u001b[37m\u001b[0m \u001b[1m4s\u001b[0m 5ms/step - loss: 0.0561 - val_loss: 0.1149\n",
      "Epoch 18/1000\n",
      "\u001b[1m784/784\u001b[0m \u001b[32m━━━━━━━━━━━━━━━━━━━━\u001b[0m\u001b[37m\u001b[0m \u001b[1m3s\u001b[0m 4ms/step - loss: 0.0539 - val_loss: 0.1028\n",
      "Epoch 19/1000\n",
      "\u001b[1m784/784\u001b[0m \u001b[32m━━━━━━━━━━━━━━━━━━━━\u001b[0m\u001b[37m\u001b[0m \u001b[1m3s\u001b[0m 4ms/step - loss: 0.0492 - val_loss: 0.1128\n",
      "Epoch 20/1000\n",
      "\u001b[1m784/784\u001b[0m \u001b[32m━━━━━━━━━━━━━━━━━━━━\u001b[0m\u001b[37m\u001b[0m \u001b[1m3s\u001b[0m 4ms/step - loss: 0.0476 - val_loss: 0.1058\n",
      "Epoch 21/1000\n",
      "\u001b[1m784/784\u001b[0m \u001b[32m━━━━━━━━━━━━━━━━━━━━\u001b[0m\u001b[37m\u001b[0m \u001b[1m3s\u001b[0m 4ms/step - loss: 0.0419 - val_loss: 0.1122\n",
      "Epoch 22/1000\n",
      "\u001b[1m784/784\u001b[0m \u001b[32m━━━━━━━━━━━━━━━━━━━━\u001b[0m\u001b[37m\u001b[0m \u001b[1m3s\u001b[0m 4ms/step - loss: 0.0439 - val_loss: 0.1070\n",
      "Epoch 23/1000\n",
      "\u001b[1m784/784\u001b[0m \u001b[32m━━━━━━━━━━━━━━━━━━━━\u001b[0m\u001b[37m\u001b[0m \u001b[1m3s\u001b[0m 4ms/step - loss: 0.0384 - val_loss: 0.1072\n",
      "Epoch 24/1000\n",
      "\u001b[1m784/784\u001b[0m \u001b[32m━━━━━━━━━━━━━━━━━━━━\u001b[0m\u001b[37m\u001b[0m \u001b[1m3s\u001b[0m 4ms/step - loss: 0.0393 - val_loss: 0.1120\n",
      "Epoch 25/1000\n",
      "\u001b[1m784/784\u001b[0m \u001b[32m━━━━━━━━━━━━━━━━━━━━\u001b[0m\u001b[37m\u001b[0m \u001b[1m3s\u001b[0m 4ms/step - loss: 0.0389 - val_loss: 0.1187\n",
      "Epoch 26/1000\n",
      "\u001b[1m784/784\u001b[0m \u001b[32m━━━━━━━━━━━━━━━━━━━━\u001b[0m\u001b[37m\u001b[0m \u001b[1m3s\u001b[0m 4ms/step - loss: 0.0387 - val_loss: 0.1075\n"
     ]
    }
   ],
   "source": [
    "model = createModel()\n",
    "history = model.fit(X_trainNN_Marcon, y_trainNN_Marcon,\n",
    "                    epochs=1000,validation_data=(X_valNN_Marcon, y_valNN_Marcon),\n",
    "                    callbacks=[CallBackSave,callbackStop]\n",
    "                   )"
   ]
  },
  {
   "cell_type": "code",
   "execution_count": 19,
   "id": "7d051aa5",
   "metadata": {},
   "outputs": [
    {
     "name": "stdout",
     "output_type": "stream",
     "text": [
      "\u001b[1m1/1\u001b[0m \u001b[32m━━━━━━━━━━━━━━━━━━━━\u001b[0m\u001b[37m\u001b[0m \u001b[1m0s\u001b[0m 41ms/step\n",
      "Sur les entrainement la valeur reel :  [[52.67]] ; valeur predite :  [[53.06148]]\n",
      "\u001b[1m98/98\u001b[0m \u001b[32m━━━━━━━━━━━━━━━━━━━━\u001b[0m\u001b[37m\u001b[0m \u001b[1m0s\u001b[0m 1ms/step\n",
      "\u001b[1m98/98\u001b[0m \u001b[32m━━━━━━━━━━━━━━━━━━━━\u001b[0m\u001b[37m\u001b[0m \u001b[1m0s\u001b[0m 1ms/step - loss: 0.1202\n",
      "Perte de test : 0.10754148662090302\n",
      "Corrélation entre les valeurs réelles et prédites : 0.9576531016599328\n",
      "P-value associée : 0.0\n",
      "R-value : 0.9169225299987149\n"
     ]
    }
   ],
   "source": [
    "best_model = tf.keras.models.load_model(\"best_model_Valeurs.keras\")\n",
    "\n",
    "print(\"Sur les entrainement la valeur reel : \", scalerMacron.inverse_transform(y_trainNN_Marcon[0].reshape(-1, 1)), \"; valeur predite : \",scalerMacron.inverse_transform(best_model.predict(X_trainNN_Marcon[0:1]).reshape(-1, 1)))\n",
    "\n",
    "\n",
    "y_pred_NN = best_model.predict(X_testNN_Marcon)\n",
    "\n",
    "reel = scalerMacron.inverse_transform(y_testNN_Marcon)\n",
    "prediction = scalerMacron.inverse_transform(y_pred_NN.reshape(-1, 1)).flatten()\n",
    "\n",
    "#print(\"Affichage des predictions sur le test pour Macron\")\n",
    "#affichagePrediction(prediction, reel)\n",
    "\n",
    "test_loss = model.evaluate(X_testNN_Marcon, y_testNN_Marcon)\n",
    "print(\"Perte de test :\", test_loss)\n",
    "\n",
    "correlation, p_value = pearsonr(np.squeeze(y_testNN_Marcon),  np.squeeze(y_pred_NN))\n",
    "\n",
    "# Affichage de la corrélation et de la p-value\n",
    "print(\"Corrélation entre les valeurs réelles et prédites :\", correlation)\n",
    "print(\"P-value associée :\", p_value)\n",
    "\n",
    "print(\"R-value :\", r2_score(np.squeeze(y_testNN_Marcon),  np.squeeze(y_pred_NN)))"
   ]
  },
  {
   "cell_type": "code",
   "execution_count": 20,
   "id": "b985b247",
   "metadata": {},
   "outputs": [
    {
     "data": {
      "image/png": "[encoded data removed]",
      "text/plain": [
       "<Figure size 640x480 with 1 Axes>"
      ]
     },
     "metadata": {},
     "output_type": "display_data"
    }
   ],
   "source": [
    "import matplotlib.pyplot as plt\n",
    "\n",
    "loss = history.history['loss']\n",
    "val_loss = history.history['val_loss']\n",
    "epochs = [*range(len(loss))]\n",
    "\n",
    "#------------------------------------------------\n",
    "# Plot training and validation accuracy per epoch\n",
    "#------------------------------------------------\n",
    "plt.plot(epochs, loss, 'r')\n",
    "plt.plot(epochs, val_loss, 'b')\n",
    "plt.title('Training and validation loss')\n",
    "plt.xlabel(\"Epochs\")\n",
    "plt.ylabel(\"loss\")\n",
    "plt.legend([\"loss\", \"Validation loss\"])\n",
    "plt.show()"
   ]
  },
  {
   "cell_type": "markdown",
   "id": "5d47daaf",
   "metadata": {},
   "source": [
    "#### Entrainement pour Lepen"
   ]
  },
  {
   "cell_type": "code",
   "execution_count": 21,
   "id": "d73c320b",
   "metadata": {},
   "outputs": [
    {
     "name": "stdout",
     "output_type": "stream",
     "text": [
      "Epoch 1/1000\n",
      "\u001b[1m784/784\u001b[0m \u001b[32m━━━━━━━━━━━━━━━━━━━━\u001b[0m\u001b[37m\u001b[0m \u001b[1m4s\u001b[0m 4ms/step - loss: 0.1990 - val_loss: 0.1049\n",
      "Epoch 2/1000\n",
      "\u001b[1m784/784\u001b[0m \u001b[32m━━━━━━━━━━━━━━━━━━━━\u001b[0m\u001b[37m\u001b[0m \u001b[1m3s\u001b[0m 3ms/step - loss: 0.1070 - val_loss: 0.0949\n",
      "Epoch 3/1000\n",
      "\u001b[1m784/784\u001b[0m \u001b[32m━━━━━━━━━━━━━━━━━━━━\u001b[0m\u001b[37m\u001b[0m \u001b[1m3s\u001b[0m 3ms/step - loss: 0.1030 - val_loss: 0.0964\n",
      "Epoch 4/1000\n",
      "\u001b[1m784/784\u001b[0m \u001b[32m━━━━━━━━━━━━━━━━━━━━\u001b[0m\u001b[37m\u001b[0m \u001b[1m3s\u001b[0m 3ms/step - loss: 0.0976 - val_loss: 0.1055\n",
      "Epoch 5/1000\n",
      "\u001b[1m784/784\u001b[0m \u001b[32m━━━━━━━━━━━━━━━━━━━━\u001b[0m\u001b[37m\u001b[0m \u001b[1m3s\u001b[0m 4ms/step - loss: 0.0911 - val_loss: 0.0969\n",
      "Epoch 6/1000\n",
      "\u001b[1m784/784\u001b[0m \u001b[32m━━━━━━━━━━━━━━━━━━━━\u001b[0m\u001b[37m\u001b[0m \u001b[1m2s\u001b[0m 3ms/step - loss: 0.0947 - val_loss: 0.1005\n",
      "Epoch 7/1000\n",
      "\u001b[1m784/784\u001b[0m \u001b[32m━━━━━━━━━━━━━━━━━━━━\u001b[0m\u001b[37m\u001b[0m \u001b[1m3s\u001b[0m 4ms/step - loss: 0.0871 - val_loss: 0.0991\n",
      "Epoch 8/1000\n",
      "\u001b[1m784/784\u001b[0m \u001b[32m━━━━━━━━━━━━━━━━━━━━\u001b[0m\u001b[37m\u001b[0m \u001b[1m3s\u001b[0m 4ms/step - loss: 0.0818 - val_loss: 0.1064\n",
      "Epoch 9/1000\n",
      "\u001b[1m784/784\u001b[0m \u001b[32m━━━━━━━━━━━━━━━━━━━━\u001b[0m\u001b[37m\u001b[0m \u001b[1m3s\u001b[0m 4ms/step - loss: 0.0821 - val_loss: 0.0966\n",
      "Epoch 10/1000\n",
      "\u001b[1m784/784\u001b[0m \u001b[32m━━━━━━━━━━━━━━━━━━━━\u001b[0m\u001b[37m\u001b[0m \u001b[1m3s\u001b[0m 4ms/step - loss: 0.0738 - val_loss: 0.1074\n",
      "Epoch 11/1000\n",
      "\u001b[1m784/784\u001b[0m \u001b[32m━━━━━━━━━━━━━━━━━━━━\u001b[0m\u001b[37m\u001b[0m \u001b[1m3s\u001b[0m 3ms/step - loss: 0.0772 - val_loss: 0.1057\n",
      "Epoch 12/1000\n",
      "\u001b[1m784/784\u001b[0m \u001b[32m━━━━━━━━━━━━━━━━━━━━\u001b[0m\u001b[37m\u001b[0m \u001b[1m3s\u001b[0m 4ms/step - loss: 0.0736 - val_loss: 0.1045\n",
      "Epoch 13/1000\n",
      "\u001b[1m784/784\u001b[0m \u001b[32m━━━━━━━━━━━━━━━━━━━━\u001b[0m\u001b[37m\u001b[0m \u001b[1m3s\u001b[0m 3ms/step - loss: 0.0690 - val_loss: 0.1012\n",
      "Epoch 14/1000\n",
      "\u001b[1m784/784\u001b[0m \u001b[32m━━━━━━━━━━━━━━━━━━━━\u001b[0m\u001b[37m\u001b[0m \u001b[1m3s\u001b[0m 4ms/step - loss: 0.0615 - val_loss: 0.0997\n",
      "Epoch 15/1000\n",
      "\u001b[1m784/784\u001b[0m \u001b[32m━━━━━━━━━━━━━━━━━━━━\u001b[0m\u001b[37m\u001b[0m \u001b[1m3s\u001b[0m 4ms/step - loss: 0.0632 - val_loss: 0.1081\n",
      "Epoch 16/1000\n",
      "\u001b[1m784/784\u001b[0m \u001b[32m━━━━━━━━━━━━━━━━━━━━\u001b[0m\u001b[37m\u001b[0m \u001b[1m3s\u001b[0m 3ms/step - loss: 0.0647 - val_loss: 0.1038\n",
      "Epoch 17/1000\n",
      "\u001b[1m784/784\u001b[0m \u001b[32m━━━━━━━━━━━━━━━━━━━━\u001b[0m\u001b[37m\u001b[0m \u001b[1m3s\u001b[0m 3ms/step - loss: 0.0571 - val_loss: 0.1108\n",
      "Epoch 18/1000\n",
      "\u001b[1m784/784\u001b[0m \u001b[32m━━━━━━━━━━━━━━━━━━━━\u001b[0m\u001b[37m\u001b[0m \u001b[1m3s\u001b[0m 3ms/step - loss: 0.0539 - val_loss: 0.1100\n",
      "Epoch 19/1000\n",
      "\u001b[1m784/784\u001b[0m \u001b[32m━━━━━━━━━━━━━━━━━━━━\u001b[0m\u001b[37m\u001b[0m \u001b[1m3s\u001b[0m 4ms/step - loss: 0.0511 - val_loss: 0.1120\n",
      "Epoch 20/1000\n",
      "\u001b[1m784/784\u001b[0m \u001b[32m━━━━━━━━━━━━━━━━━━━━\u001b[0m\u001b[37m\u001b[0m \u001b[1m3s\u001b[0m 4ms/step - loss: 0.0567 - val_loss: 0.1131\n"
     ]
    }
   ],
   "source": [
    "model = createModel()\n",
    "history = model.fit(X_trainNN_Lepen, y_trainNN_Lepen,\n",
    "                    epochs=1000,validation_data=(X_valNN_Lepen, y_valNN_Lepen),\n",
    "                    callbacks=[CallBackSave,callbackStop]\n",
    "                   )"
   ]
  },
  {
   "cell_type": "code",
   "execution_count": 22,
   "id": "cef5fda4",
   "metadata": {},
   "outputs": [
    {
     "name": "stdout",
     "output_type": "stream",
     "text": [
      "\u001b[1m1/1\u001b[0m \u001b[32m━━━━━━━━━━━━━━━━━━━━\u001b[0m\u001b[37m\u001b[0m \u001b[1m0s\u001b[0m 52ms/step\n",
      "Sur les entrainement la valeur reel :  [[47.33]] ; valeur predite :  [[53.389904]]\n",
      "\u001b[1m98/98\u001b[0m \u001b[32m━━━━━━━━━━━━━━━━━━━━\u001b[0m\u001b[37m\u001b[0m \u001b[1m0s\u001b[0m 953us/step\n",
      "\u001b[1m98/98\u001b[0m \u001b[32m━━━━━━━━━━━━━━━━━━━━\u001b[0m\u001b[37m\u001b[0m \u001b[1m0s\u001b[0m 930us/step - loss: 0.1349\n",
      "Perte de test : 0.10896150767803192\n",
      "Corrélation entre les valeurs réelles et prédites : -0.9576925181927105\n",
      "P-value associée : 0.0\n",
      "R-value : -2.7346468463560014\n"
     ]
    }
   ],
   "source": [
    "best_model = tf.keras.models.load_model(\"best_model_Valeurs.keras\")\n",
    "\n",
    "print(\"Sur les entrainement la valeur reel : \", scalerLepen.inverse_transform(y_trainNN_Lepen[0].reshape(-1, 1)), \"; valeur predite : \",scalerLepen.inverse_transform(best_model.predict(X_trainNN_Lepen[0:1]).reshape(-1, 1)))\n",
    "\n",
    "y_pred_NN = best_model.predict(X_testNN_Lepen)\n",
    "\n",
    "reel = scalerLepen.inverse_transform(y_testNN_Lepen)\n",
    "prediction = scalerLepen.inverse_transform(y_pred_NN.reshape(-1, 1)).flatten()\n",
    "\n",
    "#print(\"Affichage des predictions sur le test pour Lepen\")\n",
    "#affichagePrediction(prediction, reel)\n",
    "\n",
    "test_loss = model.evaluate(X_testNN_Lepen, y_testNN_Lepen)\n",
    "print(\"Perte de test :\", test_loss)\n",
    "\n",
    "correlation, p_value = pearsonr(np.squeeze(y_testNN_Lepen),  np.squeeze(y_pred_NN))\n",
    "\n",
    "# Affichage de la corrélation et de la p-value\n",
    "print(\"Corrélation entre les valeurs réelles et prédites :\", correlation)\n",
    "print(\"P-value associée :\", p_value)\n",
    "print(\"R-value :\", r2_score(np.squeeze(y_testNN_Lepen),  np.squeeze(y_pred_NN)))"
   ]
  },
  {
   "cell_type": "code",
   "execution_count": 23,
   "id": "9494e7bd",
   "metadata": {},
   "outputs": [
    {
     "data": {
      "image/png": "[encoded data removed]",
      "text/plain": [
       "<Figure size 640x480 with 1 Axes>"
      ]
     },
     "metadata": {},
     "output_type": "display_data"
    }
   ],
   "source": [
    "import matplotlib.pyplot as plt\n",
    "\n",
    "loss = history.history['loss']\n",
    "val_loss = history.history['val_loss']\n",
    "epochs = [*range(len(loss))]\n",
    "\n",
    "#------------------------------------------------\n",
    "# Plot training and validation accuracy per epoch\n",
    "#------------------------------------------------\n",
    "plt.plot(epochs, loss, 'r')\n",
    "plt.plot(epochs, val_loss, 'b')\n",
    "plt.title('Training and validation loss')\n",
    "plt.xlabel(\"Epochs\")\n",
    "plt.ylabel(\"loss\")\n",
    "plt.legend([\"loss\", \"Validation loss\"])\n",
    "plt.show()"
   ]
  },
  {
   "cell_type": "markdown",
   "id": "018b5002",
   "metadata": {},
   "source": [
    "#### Entrainement pour l'abstention"
   ]
  },
  {
   "cell_type": "code",
   "execution_count": 24,
   "id": "243364dd",
   "metadata": {},
   "outputs": [
    {
     "name": "stdout",
     "output_type": "stream",
     "text": [
      "Epoch 1/1000\n",
      "\u001b[1m784/784\u001b[0m \u001b[32m━━━━━━━━━━━━━━━━━━━━\u001b[0m\u001b[37m\u001b[0m \u001b[1m4s\u001b[0m 4ms/step - loss: 0.3658 - val_loss: 0.2855\n",
      "Epoch 2/1000\n",
      "\u001b[1m784/784\u001b[0m \u001b[32m━━━━━━━━━━━━━━━━━━━━\u001b[0m\u001b[37m\u001b[0m \u001b[1m3s\u001b[0m 4ms/step - loss: 0.2305 - val_loss: 0.2294\n",
      "Epoch 3/1000\n",
      "\u001b[1m784/784\u001b[0m \u001b[32m━━━━━━━━━━━━━━━━━━━━\u001b[0m\u001b[37m\u001b[0m \u001b[1m3s\u001b[0m 3ms/step - loss: 0.2161 - val_loss: 0.2351\n",
      "Epoch 4/1000\n",
      "\u001b[1m784/784\u001b[0m \u001b[32m━━━━━━━━━━━━━━━━━━━━\u001b[0m\u001b[37m\u001b[0m \u001b[1m2s\u001b[0m 3ms/step - loss: 0.2142 - val_loss: 0.2333\n",
      "Epoch 5/1000\n",
      "\u001b[1m784/784\u001b[0m \u001b[32m━━━━━━━━━━━━━━━━━━━━\u001b[0m\u001b[37m\u001b[0m \u001b[1m2s\u001b[0m 3ms/step - loss: 0.2055 - val_loss: 0.2239\n",
      "Epoch 6/1000\n",
      "\u001b[1m784/784\u001b[0m \u001b[32m━━━━━━━━━━━━━━━━━━━━\u001b[0m\u001b[37m\u001b[0m \u001b[1m2s\u001b[0m 3ms/step - loss: 0.2021 - val_loss: 0.2368\n",
      "Epoch 7/1000\n",
      "\u001b[1m784/784\u001b[0m \u001b[32m━━━━━━━━━━━━━━━━━━━━\u001b[0m\u001b[37m\u001b[0m \u001b[1m2s\u001b[0m 3ms/step - loss: 0.1986 - val_loss: 0.2325\n",
      "Epoch 8/1000\n",
      "\u001b[1m784/784\u001b[0m \u001b[32m━━━━━━━━━━━━━━━━━━━━\u001b[0m\u001b[37m\u001b[0m \u001b[1m2s\u001b[0m 3ms/step - loss: 0.1925 - val_loss: 0.2414\n",
      "Epoch 9/1000\n",
      "\u001b[1m784/784\u001b[0m \u001b[32m━━━━━━━━━━━━━━━━━━━━\u001b[0m\u001b[37m\u001b[0m \u001b[1m2s\u001b[0m 3ms/step - loss: 0.1863 - val_loss: 0.2410\n",
      "Epoch 10/1000\n",
      "\u001b[1m784/784\u001b[0m \u001b[32m━━━━━━━━━━━━━━━━━━━━\u001b[0m\u001b[37m\u001b[0m \u001b[1m3s\u001b[0m 3ms/step - loss: 0.1742 - val_loss: 0.2398\n",
      "Epoch 11/1000\n",
      "\u001b[1m784/784\u001b[0m \u001b[32m━━━━━━━━━━━━━━━━━━━━\u001b[0m\u001b[37m\u001b[0m \u001b[1m3s\u001b[0m 4ms/step - loss: 0.1668 - val_loss: 0.2526\n",
      "Epoch 12/1000\n",
      "\u001b[1m784/784\u001b[0m \u001b[32m━━━━━━━━━━━━━━━━━━━━\u001b[0m\u001b[37m\u001b[0m \u001b[1m3s\u001b[0m 3ms/step - loss: 0.1601 - val_loss: 0.2398\n",
      "Epoch 13/1000\n",
      "\u001b[1m784/784\u001b[0m \u001b[32m━━━━━━━━━━━━━━━━━━━━\u001b[0m\u001b[37m\u001b[0m \u001b[1m2s\u001b[0m 3ms/step - loss: 0.1472 - val_loss: 0.2564\n",
      "Epoch 14/1000\n",
      "\u001b[1m784/784\u001b[0m \u001b[32m━━━━━━━━━━━━━━━━━━━━\u001b[0m\u001b[37m\u001b[0m \u001b[1m2s\u001b[0m 3ms/step - loss: 0.1381 - val_loss: 0.2563\n",
      "Epoch 15/1000\n",
      "\u001b[1m784/784\u001b[0m \u001b[32m━━━━━━━━━━━━━━━━━━━━\u001b[0m\u001b[37m\u001b[0m \u001b[1m2s\u001b[0m 3ms/step - loss: 0.1287 - val_loss: 0.2731\n",
      "Epoch 16/1000\n",
      "\u001b[1m784/784\u001b[0m \u001b[32m━━━━━━━━━━━━━━━━━━━━\u001b[0m\u001b[37m\u001b[0m \u001b[1m3s\u001b[0m 3ms/step - loss: 0.1195 - val_loss: 0.2801\n",
      "Epoch 17/1000\n",
      "\u001b[1m784/784\u001b[0m \u001b[32m━━━━━━━━━━━━━━━━━━━━\u001b[0m\u001b[37m\u001b[0m \u001b[1m3s\u001b[0m 3ms/step - loss: 0.1099 - val_loss: 0.2842\n",
      "Epoch 18/1000\n",
      "\u001b[1m784/784\u001b[0m \u001b[32m━━━━━━━━━━━━━━━━━━━━\u001b[0m\u001b[37m\u001b[0m \u001b[1m3s\u001b[0m 4ms/step - loss: 0.1059 - val_loss: 0.3036\n",
      "Epoch 19/1000\n",
      "\u001b[1m784/784\u001b[0m \u001b[32m━━━━━━━━━━━━━━━━━━━━\u001b[0m\u001b[37m\u001b[0m \u001b[1m3s\u001b[0m 4ms/step - loss: 0.0943 - val_loss: 0.2832\n",
      "Epoch 20/1000\n",
      "\u001b[1m784/784\u001b[0m \u001b[32m━━━━━━━━━━━━━━━━━━━━\u001b[0m\u001b[37m\u001b[0m \u001b[1m2s\u001b[0m 3ms/step - loss: 0.0878 - val_loss: 0.2785\n"
     ]
    }
   ],
   "source": [
    "model = createModel()\n",
    "history = model.fit(X_trainNN_Abstentions, y_trainNN_Abstentions,\n",
    "                    epochs=1000,validation_data=(X_valNN_Abstentions, y_valNN_Abstentions),\n",
    "                    callbacks=[CallBackSave,callbackStop]\n",
    "                   )"
   ]
  },
  {
   "cell_type": "code",
   "execution_count": 25,
   "id": "642a31c1",
   "metadata": {},
   "outputs": [
    {
     "name": "stdout",
     "output_type": "stream",
     "text": [
      "\u001b[1m1/1\u001b[0m \u001b[32m━━━━━━━━━━━━━━━━━━━━\u001b[0m\u001b[37m\u001b[0m \u001b[1m0s\u001b[0m 43ms/step\n",
      "Sur les entrainement la valeur reel :  [[19.93009084]] ; valeur predite :  [[21.703524]]\n",
      "\u001b[1m98/98\u001b[0m \u001b[32m━━━━━━━━━━━━━━━━━━━━\u001b[0m\u001b[37m\u001b[0m \u001b[1m0s\u001b[0m 1ms/step\n",
      "\u001b[1m98/98\u001b[0m \u001b[32m━━━━━━━━━━━━━━━━━━━━\u001b[0m\u001b[37m\u001b[0m \u001b[1m0s\u001b[0m 987us/step - loss: 0.2847\n",
      "Perte de test : 0.2573554813861847\n",
      "Corrélation entre les valeurs réelles et prédites : -0.41490572080006544\n",
      "P-value associée : 9.292857709259566e-131\n",
      "R-value : -0.9617386183022976\n"
     ]
    }
   ],
   "source": [
    "best_model = tf.keras.models.load_model(\"best_model_Valeurs.keras\")\n",
    "\n",
    "print(\"Sur les entrainement la valeur reel : \", scalerAbstentions.inverse_transform(y_trainNN_Lepen[0].reshape(-1, 1)), \"; valeur predite : \",scalerAbstentions.inverse_transform(best_model.predict(X_trainNN_Abstentions[0:1]).reshape(-1, 1)))\n",
    "\n",
    "y_pred_NN = best_model.predict(X_testNN_Abstentions)\n",
    "\n",
    "reel = scalerAbstentions.inverse_transform(y_testNN_Abstentions)\n",
    "prediction = scalerAbstentions.inverse_transform(y_pred_NN.reshape(-1, 1)).flatten()\n",
    "\n",
    "#print(\"Affichage des predictions sur le test pourl' Abstentions\")\n",
    "#affichagePrediction(prediction, reel)\n",
    "\n",
    "test_loss = model.evaluate(X_testNN_Abstentions, y_testNN_Abstentions)\n",
    "print(\"Perte de test :\", test_loss)\n",
    "\n",
    "correlation, p_value = pearsonr(np.squeeze(y_testNN_Abstentions),  np.squeeze(y_pred_NN))\n",
    "\n",
    "# Affichage de la corrélation et de la p-value\n",
    "print(\"Corrélation entre les valeurs réelles et prédites :\", correlation)\n",
    "print(\"P-value associée :\", p_value)\n",
    "\n",
    "print(\"R-value :\", r2_score(np.squeeze(y_testNN_Abstentions),  np.squeeze(y_pred_NN)))"
   ]
  },
  {
   "cell_type": "code",
   "execution_count": 26,
   "id": "b812b3e4",
   "metadata": {},
   "outputs": [
    {
     "data": {
      "image/png": "[encoded data removed]",
      "text/plain": [
       "<Figure size 640x480 with 1 Axes>"
      ]
     },
     "metadata": {},
     "output_type": "display_data"
    }
   ],
   "source": [
    "import matplotlib.pyplot as plt\n",
    "\n",
    "loss = history.history['loss']\n",
    "val_loss = history.history['val_loss']\n",
    "epochs = [*range(len(loss))]\n",
    "\n",
    "#------------------------------------------------\n",
    "# Plot training and validation accuracy per epoch\n",
    "#------------------------------------------------\n",
    "plt.plot(epochs, loss, 'r')\n",
    "plt.plot(epochs, val_loss, 'b')\n",
    "plt.title('Training and validation loss')\n",
    "plt.xlabel(\"Epochs\")\n",
    "plt.ylabel(\"loss\")\n",
    "plt.legend([\"loss\", \"Validation loss\"])\n",
    "plt.show()"
   ]
  },
  {
   "cell_type": "code",
   "execution_count": null,
   "id": "46ecd569",
   "metadata": {},
   "outputs": [],
   "source": []
  }
 ],
 "metadata": {
  "kernelspec": {
   "display_name": "Python 3 (ipykernel)",
   "language": "python",
   "name": "python3"
  },
  "language_info": {
   "codemirror_mode": {
    "name": "ipython",
    "version": 3
   },
   "file_extension": ".py",
   "mimetype": "text/x-python",
   "name": "python",
   "nbconvert_exporter": "python",
   "pygments_lexer": "ipython3",
   "version": "3.11.8"
  }
 },
 "nbformat": 4,
 "nbformat_minor": 5
}
