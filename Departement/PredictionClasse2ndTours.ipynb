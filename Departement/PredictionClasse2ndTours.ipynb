{
 "cells": [
  {
   "cell_type": "markdown",
   "id": "a3d35130",
   "metadata": {},
   "source": [
    "# Partie sur la prediction des données"
   ]
  },
  {
   "cell_type": "markdown",
   "id": "0fc97542",
   "metadata": {},
   "source": [
    "## Classification des elections du second tour 2022"
   ]
  },
  {
   "cell_type": "markdown",
   "id": "b24567f5",
   "metadata": {},
   "source": [
    "### Préparation des données"
   ]
  },
  {
   "cell_type": "code",
   "execution_count": 1,
   "id": "1a296d10",
   "metadata": {},
   "outputs": [],
   "source": [
    "import pandas as pd\n",
    "from sklearn.svm import SVC\n",
    "from sklearn.metrics import classification_report\n",
    "from sklearn.model_selection import train_test_split\n",
    "from sklearn.preprocessing import StandardScaler"
   ]
  },
  {
   "cell_type": "code",
   "execution_count": 2,
   "id": "d55e820d",
   "metadata": {},
   "outputs": [
    {
     "name": "stdout",
     "output_type": "stream",
     "text": [
      "                Departement nbPersonne     Macron      Lepen niveauEtude  \\\n",
      "0                       Ain     671937  50.982366  49.017659        41.4   \n",
      "1                     Aisne     522791  38.089161  61.910914        29.7   \n",
      "2                    Allier     332443  48.201987  51.798013        33.4   \n",
      "3   Alpes-de-Haute-Provence     166654  47.890556  52.109697        37.2   \n",
      "4              Hautes-Alpes     139942  53.414383  46.585802        41.7   \n",
      "..                      ...        ...        ...        ...         ...   \n",
      "89    Territoire de Belfort     136891  45.499208  54.500792        43.3   \n",
      "90                  Essonne    1316053  58.871340  41.128711        47.5   \n",
      "91           Hauts-de-Seine    1642002  80.148611  19.851389        71.1   \n",
      "92             Val-de-Marne    1426748  71.616596  28.383404        56.1   \n",
      "93               Val-d'Oise    1274374  58.109402  41.890707        45.2   \n",
      "\n",
      "    tauxChomage Proximité   Immigré  \n",
      "0           5.5      1.66   79312.0  \n",
      "1          10.5      0.83   25515.0  \n",
      "2           7.7      2.39   17601.0  \n",
      "3           8.2      0.96   13762.0  \n",
      "4           6.9      5.43    8019.0  \n",
      "..          ...       ...       ...  \n",
      "89          8.3      6.09   13875.0  \n",
      "90          6.4      3.34  224344.0  \n",
      "91          5.9      4.19  307362.0  \n",
      "92          7.1      2.92  311186.0  \n",
      "93          8.0      1.53  253856.0  \n",
      "\n",
      "[94 rows x 8 columns]\n"
     ]
    }
   ],
   "source": [
    "#creation du dataset\n",
    "df_pourcent_chomage = pd.read_excel('../AutreDataDepartement/tauxChomage.xlsx').dropna()\n",
    "df_pourcent_chomage = df_pourcent_chomage.iloc[:, [1, 2]]\n",
    "df_pourcent_chomage.columns = ['Departement', 'tauxChomage']\n",
    "\n",
    "df_niveauEtude = pd.read_excel('../AutreDataDepartement/NiveauEtudeJeune2017.xlsx', sheet_name='Figure 1a').dropna()\n",
    "df_niveauEtude = df_niveauEtude.iloc[:, [1, 2]]\n",
    "df_niveauEtude.columns = ['Departement', 'niveauEtude']\n",
    "\n",
    "df_densitePop = pd.read_excel('../AutreDataDepartement/NbPopDepartement2023.xls', sheet_name='2023').dropna()\n",
    "df_densitePop = df_densitePop.iloc[:, [1, 7]]\n",
    "df_densitePop.columns = ['Departement', 'nbPersonne']\n",
    "\n",
    "df_magasinBIO = pd.read_excel('../AutreDataDepartement/MagasinBio2016.xls', sheet_name='Figure 2').dropna()\n",
    "df_magasinBIO.columns = ['Departement', 'Proximité']\n",
    "\n",
    "df_PopImmigre = pd.read_excel('../AutreDataDepartement/PopImmigré.xlsx').dropna()\n",
    "df_PopImmigre = df_PopImmigre.iloc[:, [1, 2]]\n",
    "df_PopImmigre.columns = ['Departement', 'Immigré']\n",
    "\n",
    "# Charger les données des résultats présidentiels\n",
    "df_resultatPresidentielle = pd.read_excel('../resultats-par-niveau-subcom-t2-france-entiere.xlsx').dropna()\n",
    "df_resultatPresidentielle = df_resultatPresidentielle.iloc[:, [1, 25, 32]]\n",
    "df_resultatPresidentielle.columns = [ 'Departement', 'Macron', 'Lepen']\n",
    "df_resultatPresidentielle = df_resultatPresidentielle.groupby('Departement')[['Macron', 'Lepen']].mean().reset_index()\n",
    "\n",
    "df_concat = pd.merge(df_densitePop, df_resultatPresidentielle, on='Departement')\n",
    "df_concat = pd.merge(df_concat, df_niveauEtude, on='Departement')\n",
    "df_concat = pd.merge(df_concat, df_pourcent_chomage, on='Departement')\n",
    "df_concat = pd.merge(df_concat, df_magasinBIO, on='Departement')\n",
    "df_concat = pd.merge(df_concat, df_PopImmigre, on='Departement')\n",
    "print(df_concat)"
   ]
  },
  {
   "cell_type": "code",
   "execution_count": 3,
   "id": "c0844174",
   "metadata": {},
   "outputs": [],
   "source": [
    "# Sélection des features\n",
    "features = df_concat.drop(['Departement','Macron', 'Lepen'], axis=1)\n",
    "y = [0 if x <= 50 else 1 for x in df_concat['Macron']]\n",
    "\n",
    "# Normalisation des données\n",
    "scaler = StandardScaler()\n",
    "X_scaled = scaler.fit_transform(features)\n",
    "\n",
    "#division des données\n",
    "X_train, X_test, y_train, y_test = train_test_split(X_scaled, y, test_size=0.2, random_state=42)\n",
    "\n",
    "#definition des labels\n",
    "target_names = ['Lepen', 'Macron']"
   ]
  },
  {
   "cell_type": "markdown",
   "id": "c6e09540",
   "metadata": {},
   "source": [
    "### Application de SVM, en faisant du copier coller du tp8"
   ]
  },
  {
   "cell_type": "code",
   "execution_count": 4,
   "id": "942aaf12",
   "metadata": {},
   "outputs": [
    {
     "name": "stdout",
     "output_type": "stream",
     "text": [
      "Performance du SVM avec un noyau linéaire :\n",
      "              precision    recall  f1-score   support\n",
      "\n",
      "       Lepen       1.00      0.67      0.80         9\n",
      "      Macron       0.77      1.00      0.87        10\n",
      "\n",
      "    accuracy                           0.84        19\n",
      "   macro avg       0.88      0.83      0.83        19\n",
      "weighted avg       0.88      0.84      0.84        19\n",
      "\n"
     ]
    }
   ],
   "source": [
    "svm_linear = SVC(kernel='linear')\n",
    "svm_linear.fit(X_train, y_train)\n",
    "\n",
    "# Prédire sur les données de test et évaluer les performances\n",
    "y_pred_linear = svm_linear.predict(X_test)\n",
    "print(\"Performance du SVM avec un noyau linéaire :\")\n",
    "print(classification_report(y_test, y_pred_linear, target_names=target_names))"
   ]
  },
  {
   "cell_type": "code",
   "execution_count": 5,
   "id": "65989fba",
   "metadata": {},
   "outputs": [
    {
     "name": "stdout",
     "output_type": "stream",
     "text": [
      "Performance du SVM avec un noyau linéaire :\n",
      "              precision    recall  f1-score   support\n",
      "\n",
      "       Lepen       0.56      1.00      0.72         9\n",
      "      Macron       1.00      0.30      0.46        10\n",
      "\n",
      "    accuracy                           0.63        19\n",
      "   macro avg       0.78      0.65      0.59        19\n",
      "weighted avg       0.79      0.63      0.58        19\n",
      "\n"
     ]
    }
   ],
   "source": [
    "svm_linear = SVC(kernel='poly')\n",
    "svm_linear.fit(X_train, y_train)\n",
    "\n",
    "# Prédire sur les données de test et évaluer les performances\n",
    "y_pred_linear = svm_linear.predict(X_test)\n",
    "print(\"Performance du SVM avec un noyau linéaire :\")\n",
    "print(classification_report(y_test, y_pred_linear, target_names=target_names))"
   ]
  },
  {
   "cell_type": "code",
   "execution_count": 6,
   "id": "a0077c3d",
   "metadata": {},
   "outputs": [
    {
     "name": "stdout",
     "output_type": "stream",
     "text": [
      "Meilleurs paramètres pour SVM: {'C': 10, 'gamma': 0.1}\n",
      "Performance du SVM avec les meilleurs paramètres :\n",
      "              precision    recall  f1-score   support\n",
      "\n",
      "       Lepen       0.86      0.67      0.75         9\n",
      "      Macron       0.75      0.90      0.82        10\n",
      "\n",
      "    accuracy                           0.79        19\n",
      "   macro avg       0.80      0.78      0.78        19\n",
      "weighted avg       0.80      0.79      0.79        19\n",
      "\n"
     ]
    }
   ],
   "source": [
    "from sklearn.model_selection import GridSearchCV\n",
    "\n",
    "param_grid = {'C': [0.1, 1, 10, 100], 'gamma': [0.001, 0.01, 0.1, 1]}\n",
    "grid_search = GridSearchCV(SVC(), param_grid, cv=5)\n",
    "grid_search.fit(X_train, y_train)\n",
    "best_svm = grid_search.best_estimator_\n",
    "y_pred_best = best_svm.predict(X_test)\n",
    "print(\"Meilleurs paramètres pour SVM:\", grid_search.best_params_)\n",
    "print(\"Performance du SVM avec les meilleurs paramètres :\")\n",
    "print(classification_report(y_test, y_pred_best, target_names=target_names))"
   ]
  },
  {
   "cell_type": "markdown",
   "id": "9b2dc0ad",
   "metadata": {},
   "source": [
    "### Application de Regression"
   ]
  },
  {
   "cell_type": "code",
   "execution_count": 7,
   "id": "e9139f70",
   "metadata": {},
   "outputs": [
    {
     "name": "stdout",
     "output_type": "stream",
     "text": [
      "              precision    recall  f1-score   support\n",
      "\n",
      "       Lepen       0.86      0.67      0.75         9\n",
      "      Macron       0.75      0.90      0.82        10\n",
      "\n",
      "    accuracy                           0.79        19\n",
      "   macro avg       0.80      0.78      0.78        19\n",
      "weighted avg       0.80      0.79      0.79        19\n",
      "\n"
     ]
    }
   ],
   "source": [
    "# régression logistique\n",
    "from sklearn.linear_model import LogisticRegression\n",
    "\n",
    "logReg = LogisticRegression()\n",
    "logReg.fit(X_train, y_train)\n",
    "\n",
    "y_pred = logReg.predict(X_test)\n",
    "print(classification_report(y_test, y_pred, target_names=target_names))"
   ]
  },
  {
   "cell_type": "code",
   "execution_count": 8,
   "id": "bfaddedf",
   "metadata": {},
   "outputs": [
    {
     "name": "stdout",
     "output_type": "stream",
     "text": [
      "              precision    recall  f1-score   support\n",
      "\n",
      "       Lepen       0.88      0.78      0.82         9\n",
      "      Macron       0.82      0.90      0.86        10\n",
      "\n",
      "    accuracy                           0.84        19\n",
      "   macro avg       0.85      0.84      0.84        19\n",
      "weighted avg       0.85      0.84      0.84        19\n",
      "\n"
     ]
    }
   ],
   "source": [
    "# Classifier using Ridge regression\n",
    "from sklearn.linear_model import RidgeClassifier\n",
    "\n",
    "ridgeClf = RidgeClassifier()\n",
    "ridgeClf.fit(X_train, y_train)\n",
    "\n",
    "y_pred = ridgeClf.predict(X_test)\n",
    "print(classification_report(y_test, y_pred, target_names=target_names))"
   ]
  },
  {
   "cell_type": "code",
   "execution_count": 9,
   "id": "5daaa51e",
   "metadata": {},
   "outputs": [
    {
     "name": "stdout",
     "output_type": "stream",
     "text": [
      "              precision    recall  f1-score   support\n",
      "\n",
      "       Lepen       0.70      0.78      0.74         9\n",
      "      Macron       0.78      0.70      0.74        10\n",
      "\n",
      "    accuracy                           0.74        19\n",
      "   macro avg       0.74      0.74      0.74        19\n",
      "weighted avg       0.74      0.74      0.74        19\n",
      "\n"
     ]
    }
   ],
   "source": [
    "from sklearn.linear_model import SGDClassifier\n",
    "#Linear classifiers (SVM, logistic regression, etc.) with SGD training.\n",
    "\n",
    "sgdClf = SGDClassifier()\n",
    "sgdClf.fit(X_train, y_train)\n",
    "\n",
    "y_pred = sgdClf.predict(X_test)\n",
    "print(classification_report(y_test, y_pred, target_names=target_names))"
   ]
  },
  {
   "cell_type": "markdown",
   "id": "5820b6fc",
   "metadata": {},
   "source": [
    "### Application de Foret aléatoire"
   ]
  },
  {
   "cell_type": "code",
   "execution_count": 10,
   "id": "47f80437",
   "metadata": {},
   "outputs": [
    {
     "name": "stdout",
     "output_type": "stream",
     "text": [
      "              precision    recall  f1-score   support\n",
      "\n",
      "       Lepen       1.00      0.78      0.88         9\n",
      "      Macron       0.83      1.00      0.91        10\n",
      "\n",
      "    accuracy                           0.89        19\n",
      "   macro avg       0.92      0.89      0.89        19\n",
      "weighted avg       0.91      0.89      0.89        19\n",
      "\n"
     ]
    }
   ],
   "source": [
    "from sklearn.ensemble import RandomForestClassifier\n",
    "\n",
    "# Entraînement d'une forêt aléatoire\n",
    "forest_model = RandomForestClassifier(n_estimators=1000, random_state=42)\n",
    "forest_model.fit(X_train, y_train)\n",
    "\n",
    "# Prédiction sur l'ensemble de test\n",
    "y_pred_forest = forest_model.predict(X_test)\n",
    "\n",
    "print(classification_report(y_test, y_pred_forest, target_names=target_names))"
   ]
  },
  {
   "cell_type": "markdown",
   "id": "390e937f",
   "metadata": {},
   "source": [
    "### Reseau de neuronne"
   ]
  },
  {
   "cell_type": "code",
   "execution_count": 11,
   "id": "9b381e23",
   "metadata": {},
   "outputs": [
    {
     "name": "stderr",
     "output_type": "stream",
     "text": [
      "WARNING:absl:At this time, the v2.11+ optimizer `tf.keras.optimizers.Adam` runs slowly on M1/M2 Macs, please use the legacy Keras optimizer instead, located at `tf.keras.optimizers.legacy.Adam`.\n",
      "WARNING:absl:There is a known slowdown when using v2.11+ Keras optimizers on M1/M2 Macs. Falling back to the legacy Keras optimizer, i.e., `tf.keras.optimizers.legacy.Adam`.\n"
     ]
    },
    {
     "name": "stdout",
     "output_type": "stream",
     "text": [
      "Epoch 1/1000\n"
     ]
    },
    {
     "name": "stderr",
     "output_type": "stream",
     "text": [
      "2024-04-20 14:56:59.700988: W tensorflow/tsl/platform/profile_utils/cpu_utils.cc:128] Failed to get CPU frequency: 0 Hz\n"
     ]
    },
    {
     "name": "stdout",
     "output_type": "stream",
     "text": [
      "3/3 [==============================] - 0s 44ms/step - loss: 0.6696 - accuracy: 0.4933 - val_loss: 0.7599 - val_accuracy: 0.4444\n",
      "Epoch 2/1000\n",
      "3/3 [==============================] - 0s 11ms/step - loss: 0.6684 - accuracy: 0.5600 - val_loss: 0.7572 - val_accuracy: 0.3333\n",
      "Epoch 3/1000\n",
      "3/3 [==============================] - 0s 10ms/step - loss: 0.6671 - accuracy: 0.5600 - val_loss: 0.7545 - val_accuracy: 0.3333\n",
      "Epoch 4/1000\n",
      "3/3 [==============================] - 0s 11ms/step - loss: 0.6661 - accuracy: 0.5600 - val_loss: 0.7519 - val_accuracy: 0.2222\n",
      "Epoch 5/1000\n",
      "3/3 [==============================] - 0s 11ms/step - loss: 0.6654 - accuracy: 0.5600 - val_loss: 0.7481 - val_accuracy: 0.2222\n",
      "Epoch 6/1000\n",
      "3/3 [==============================] - 0s 11ms/step - loss: 0.6642 - accuracy: 0.5867 - val_loss: 0.7448 - val_accuracy: 0.2222\n",
      "Epoch 7/1000\n",
      "3/3 [==============================] - 0s 11ms/step - loss: 0.6634 - accuracy: 0.5867 - val_loss: 0.7414 - val_accuracy: 0.2222\n",
      "Epoch 8/1000\n",
      "3/3 [==============================] - 0s 11ms/step - loss: 0.6623 - accuracy: 0.5733 - val_loss: 0.7392 - val_accuracy: 0.2222\n",
      "Epoch 9/1000\n",
      "3/3 [==============================] - 0s 11ms/step - loss: 0.6615 - accuracy: 0.5867 - val_loss: 0.7367 - val_accuracy: 0.3333\n",
      "Epoch 10/1000\n",
      "3/3 [==============================] - 0s 11ms/step - loss: 0.6607 - accuracy: 0.6133 - val_loss: 0.7343 - val_accuracy: 0.3333\n",
      "Epoch 11/1000\n",
      "3/3 [==============================] - 0s 11ms/step - loss: 0.6603 - accuracy: 0.6133 - val_loss: 0.7321 - val_accuracy: 0.3333\n",
      "Epoch 12/1000\n",
      "3/3 [==============================] - 0s 11ms/step - loss: 0.6598 - accuracy: 0.6267 - val_loss: 0.7309 - val_accuracy: 0.3333\n",
      "Epoch 13/1000\n",
      "3/3 [==============================] - 0s 10ms/step - loss: 0.6593 - accuracy: 0.6400 - val_loss: 0.7299 - val_accuracy: 0.3333\n",
      "Epoch 14/1000\n",
      "3/3 [==============================] - 0s 11ms/step - loss: 0.6588 - accuracy: 0.6400 - val_loss: 0.7291 - val_accuracy: 0.3333\n",
      "Epoch 15/1000\n",
      "3/3 [==============================] - 0s 11ms/step - loss: 0.6585 - accuracy: 0.6400 - val_loss: 0.7280 - val_accuracy: 0.2222\n",
      "Epoch 16/1000\n",
      "3/3 [==============================] - 0s 11ms/step - loss: 0.6579 - accuracy: 0.6267 - val_loss: 0.7276 - val_accuracy: 0.2222\n",
      "Epoch 17/1000\n",
      "3/3 [==============================] - 0s 7ms/step - loss: 0.6574 - accuracy: 0.6533 - val_loss: 0.7279 - val_accuracy: 0.1111\n",
      "Epoch 18/1000\n",
      "3/3 [==============================] - 0s 7ms/step - loss: 0.6569 - accuracy: 0.6400 - val_loss: 0.7281 - val_accuracy: 0.1111\n",
      "Epoch 19/1000\n",
      "3/3 [==============================] - 0s 7ms/step - loss: 0.6565 - accuracy: 0.6267 - val_loss: 0.7283 - val_accuracy: 0.1111\n",
      "Epoch 20/1000\n",
      "3/3 [==============================] - 0s 7ms/step - loss: 0.6561 - accuracy: 0.6267 - val_loss: 0.7285 - val_accuracy: 0.1111\n",
      "Epoch 21/1000\n",
      "3/3 [==============================] - 0s 7ms/step - loss: 0.6558 - accuracy: 0.6400 - val_loss: 0.7285 - val_accuracy: 0.1111\n",
      "Epoch 22/1000\n",
      "3/3 [==============================] - 0s 7ms/step - loss: 0.6554 - accuracy: 0.6400 - val_loss: 0.7281 - val_accuracy: 0.1111\n",
      "Epoch 23/1000\n",
      "3/3 [==============================] - 0s 7ms/step - loss: 0.6550 - accuracy: 0.6267 - val_loss: 0.7282 - val_accuracy: 0.2222\n",
      "Epoch 24/1000\n",
      "3/3 [==============================] - 0s 6ms/step - loss: 0.6546 - accuracy: 0.6267 - val_loss: 0.7284 - val_accuracy: 0.2222\n",
      "Epoch 25/1000\n",
      "3/3 [==============================] - 0s 7ms/step - loss: 0.6543 - accuracy: 0.6133 - val_loss: 0.7282 - val_accuracy: 0.2222\n",
      "Epoch 26/1000\n",
      "3/3 [==============================] - 0s 7ms/step - loss: 0.6539 - accuracy: 0.6267 - val_loss: 0.7278 - val_accuracy: 0.2222\n",
      "Epoch 27/1000\n",
      "3/3 [==============================] - 0s 11ms/step - loss: 0.6536 - accuracy: 0.6400 - val_loss: 0.7269 - val_accuracy: 0.2222\n",
      "Epoch 28/1000\n",
      "3/3 [==============================] - 0s 11ms/step - loss: 0.6532 - accuracy: 0.6400 - val_loss: 0.7260 - val_accuracy: 0.2222\n",
      "Epoch 29/1000\n",
      "3/3 [==============================] - 0s 12ms/step - loss: 0.6528 - accuracy: 0.6400 - val_loss: 0.7253 - val_accuracy: 0.2222\n",
      "Epoch 30/1000\n",
      "3/3 [==============================] - 0s 12ms/step - loss: 0.6525 - accuracy: 0.6400 - val_loss: 0.7249 - val_accuracy: 0.2222\n",
      "Epoch 31/1000\n",
      "3/3 [==============================] - 0s 11ms/step - loss: 0.6522 - accuracy: 0.6400 - val_loss: 0.7245 - val_accuracy: 0.2222\n",
      "Epoch 32/1000\n",
      "3/3 [==============================] - 0s 11ms/step - loss: 0.6519 - accuracy: 0.6400 - val_loss: 0.7236 - val_accuracy: 0.2222\n",
      "Epoch 33/1000\n",
      "3/3 [==============================] - 0s 11ms/step - loss: 0.6515 - accuracy: 0.6400 - val_loss: 0.7228 - val_accuracy: 0.2222\n",
      "Epoch 34/1000\n",
      "3/3 [==============================] - 0s 11ms/step - loss: 0.6511 - accuracy: 0.6400 - val_loss: 0.7217 - val_accuracy: 0.2222\n",
      "Epoch 35/1000\n",
      "3/3 [==============================] - 0s 11ms/step - loss: 0.6509 - accuracy: 0.6400 - val_loss: 0.7203 - val_accuracy: 0.2222\n",
      "Epoch 36/1000\n",
      "3/3 [==============================] - 0s 10ms/step - loss: 0.6506 - accuracy: 0.6400 - val_loss: 0.7192 - val_accuracy: 0.2222\n",
      "Epoch 37/1000\n",
      "3/3 [==============================] - 0s 10ms/step - loss: 0.6502 - accuracy: 0.6400 - val_loss: 0.7187 - val_accuracy: 0.2222\n",
      "Epoch 38/1000\n",
      "3/3 [==============================] - 0s 10ms/step - loss: 0.6499 - accuracy: 0.6400 - val_loss: 0.7181 - val_accuracy: 0.2222\n",
      "Epoch 39/1000\n",
      "3/3 [==============================] - 0s 6ms/step - loss: 0.6495 - accuracy: 0.6267 - val_loss: 0.7183 - val_accuracy: 0.2222\n",
      "Epoch 40/1000\n",
      "3/3 [==============================] - 0s 6ms/step - loss: 0.6491 - accuracy: 0.6267 - val_loss: 0.7186 - val_accuracy: 0.2222\n",
      "Epoch 41/1000\n",
      "3/3 [==============================] - 0s 5ms/step - loss: 0.6487 - accuracy: 0.6267 - val_loss: 0.7194 - val_accuracy: 0.2222\n",
      "Epoch 42/1000\n",
      "3/3 [==============================] - 0s 6ms/step - loss: 0.6484 - accuracy: 0.6267 - val_loss: 0.7201 - val_accuracy: 0.2222\n",
      "Epoch 43/1000\n",
      "3/3 [==============================] - 0s 6ms/step - loss: 0.6480 - accuracy: 0.6267 - val_loss: 0.7198 - val_accuracy: 0.2222\n",
      "Epoch 44/1000\n",
      "3/3 [==============================] - 0s 6ms/step - loss: 0.6477 - accuracy: 0.6267 - val_loss: 0.7197 - val_accuracy: 0.2222\n",
      "Epoch 45/1000\n",
      "3/3 [==============================] - 0s 6ms/step - loss: 0.6473 - accuracy: 0.6267 - val_loss: 0.7199 - val_accuracy: 0.2222\n",
      "Epoch 46/1000\n",
      "3/3 [==============================] - 0s 5ms/step - loss: 0.6469 - accuracy: 0.6267 - val_loss: 0.7199 - val_accuracy: 0.2222\n",
      "Epoch 47/1000\n",
      "3/3 [==============================] - 0s 6ms/step - loss: 0.6466 - accuracy: 0.6267 - val_loss: 0.7197 - val_accuracy: 0.2222\n",
      "Epoch 48/1000\n",
      "3/3 [==============================] - 0s 6ms/step - loss: 0.6463 - accuracy: 0.6267 - val_loss: 0.7193 - val_accuracy: 0.2222\n",
      "Epoch 49/1000\n",
      "3/3 [==============================] - 0s 6ms/step - loss: 0.6459 - accuracy: 0.6267 - val_loss: 0.7189 - val_accuracy: 0.2222\n",
      "Epoch 50/1000\n",
      "3/3 [==============================] - 0s 6ms/step - loss: 0.6455 - accuracy: 0.6267 - val_loss: 0.7188 - val_accuracy: 0.2222\n",
      "Epoch 51/1000\n",
      "3/3 [==============================] - 0s 10ms/step - loss: 0.6451 - accuracy: 0.6267 - val_loss: 0.7180 - val_accuracy: 0.3333\n",
      "Epoch 52/1000\n",
      "3/3 [==============================] - 0s 10ms/step - loss: 0.6447 - accuracy: 0.6267 - val_loss: 0.7167 - val_accuracy: 0.3333\n",
      "Epoch 53/1000\n",
      "3/3 [==============================] - 0s 10ms/step - loss: 0.6443 - accuracy: 0.6267 - val_loss: 0.7165 - val_accuracy: 0.3333\n",
      "Epoch 54/1000\n",
      "3/3 [==============================] - 0s 6ms/step - loss: 0.6440 - accuracy: 0.6267 - val_loss: 0.7167 - val_accuracy: 0.3333\n",
      "Epoch 55/1000\n",
      "3/3 [==============================] - 0s 6ms/step - loss: 0.6436 - accuracy: 0.6267 - val_loss: 0.7168 - val_accuracy: 0.4444\n",
      "Epoch 56/1000\n",
      "3/3 [==============================] - 0s 7ms/step - loss: 0.6432 - accuracy: 0.6267 - val_loss: 0.7169 - val_accuracy: 0.4444\n",
      "Epoch 57/1000\n",
      "3/3 [==============================] - 0s 7ms/step - loss: 0.6428 - accuracy: 0.6267 - val_loss: 0.7170 - val_accuracy: 0.4444\n",
      "Epoch 58/1000\n",
      "3/3 [==============================] - 0s 7ms/step - loss: 0.6425 - accuracy: 0.6267 - val_loss: 0.7170 - val_accuracy: 0.4444\n",
      "Epoch 59/1000\n"
     ]
    },
    {
     "name": "stdout",
     "output_type": "stream",
     "text": [
      "3/3 [==============================] - 0s 7ms/step - loss: 0.6422 - accuracy: 0.6267 - val_loss: 0.7171 - val_accuracy: 0.4444\n",
      "Epoch 60/1000\n",
      "3/3 [==============================] - 0s 6ms/step - loss: 0.6419 - accuracy: 0.6267 - val_loss: 0.7171 - val_accuracy: 0.4444\n",
      "Epoch 61/1000\n",
      "3/3 [==============================] - 0s 6ms/step - loss: 0.6416 - accuracy: 0.6267 - val_loss: 0.7172 - val_accuracy: 0.4444\n",
      "Epoch 62/1000\n",
      "3/3 [==============================] - 0s 7ms/step - loss: 0.6412 - accuracy: 0.6267 - val_loss: 0.7173 - val_accuracy: 0.4444\n",
      "Epoch 63/1000\n",
      "3/3 [==============================] - 0s 7ms/step - loss: 0.6409 - accuracy: 0.6267 - val_loss: 0.7173 - val_accuracy: 0.4444\n",
      "Epoch 64/1000\n",
      "3/3 [==============================] - 0s 7ms/step - loss: 0.6406 - accuracy: 0.6400 - val_loss: 0.7174 - val_accuracy: 0.4444\n",
      "Epoch 65/1000\n",
      "3/3 [==============================] - 0s 6ms/step - loss: 0.6403 - accuracy: 0.6400 - val_loss: 0.7175 - val_accuracy: 0.4444\n",
      "Epoch 66/1000\n",
      "3/3 [==============================] - 0s 6ms/step - loss: 0.6399 - accuracy: 0.6400 - val_loss: 0.7178 - val_accuracy: 0.4444\n",
      "Epoch 67/1000\n",
      "3/3 [==============================] - 0s 7ms/step - loss: 0.6395 - accuracy: 0.6400 - val_loss: 0.7181 - val_accuracy: 0.4444\n",
      "Epoch 68/1000\n",
      "3/3 [==============================] - 0s 6ms/step - loss: 0.6391 - accuracy: 0.6400 - val_loss: 0.7183 - val_accuracy: 0.4444\n",
      "Epoch 69/1000\n",
      "3/3 [==============================] - 0s 6ms/step - loss: 0.6387 - accuracy: 0.6400 - val_loss: 0.7184 - val_accuracy: 0.4444\n",
      "Epoch 70/1000\n",
      "3/3 [==============================] - 0s 6ms/step - loss: 0.6383 - accuracy: 0.6267 - val_loss: 0.7185 - val_accuracy: 0.4444\n",
      "Epoch 71/1000\n",
      "3/3 [==============================] - 0s 6ms/step - loss: 0.6379 - accuracy: 0.6400 - val_loss: 0.7187 - val_accuracy: 0.4444\n",
      "Epoch 72/1000\n",
      "3/3 [==============================] - 0s 6ms/step - loss: 0.6374 - accuracy: 0.6533 - val_loss: 0.7189 - val_accuracy: 0.3333\n",
      "Epoch 73/1000\n",
      "3/3 [==============================] - 0s 6ms/step - loss: 0.6369 - accuracy: 0.6533 - val_loss: 0.7191 - val_accuracy: 0.3333\n",
      "Epoch 74/1000\n",
      "3/3 [==============================] - 0s 6ms/step - loss: 0.6365 - accuracy: 0.6533 - val_loss: 0.7194 - val_accuracy: 0.3333\n",
      "Epoch 75/1000\n",
      "3/3 [==============================] - 0s 6ms/step - loss: 0.6359 - accuracy: 0.6533 - val_loss: 0.7196 - val_accuracy: 0.3333\n",
      "Epoch 76/1000\n",
      "3/3 [==============================] - 0s 6ms/step - loss: 0.6355 - accuracy: 0.6533 - val_loss: 0.7198 - val_accuracy: 0.3333\n",
      "Epoch 77/1000\n",
      "3/3 [==============================] - 0s 6ms/step - loss: 0.6350 - accuracy: 0.6533 - val_loss: 0.7199 - val_accuracy: 0.3333\n",
      "Epoch 78/1000\n",
      "3/3 [==============================] - 0s 6ms/step - loss: 0.6345 - accuracy: 0.6533 - val_loss: 0.7200 - val_accuracy: 0.3333\n",
      "Epoch 79/1000\n",
      "3/3 [==============================] - 0s 6ms/step - loss: 0.6339 - accuracy: 0.6533 - val_loss: 0.7201 - val_accuracy: 0.4444\n",
      "Epoch 80/1000\n",
      "3/3 [==============================] - 0s 7ms/step - loss: 0.6333 - accuracy: 0.6533 - val_loss: 0.7202 - val_accuracy: 0.4444\n",
      "Epoch 81/1000\n",
      "3/3 [==============================] - 0s 7ms/step - loss: 0.6328 - accuracy: 0.6667 - val_loss: 0.7201 - val_accuracy: 0.4444\n",
      "Epoch 82/1000\n",
      "3/3 [==============================] - 0s 7ms/step - loss: 0.6324 - accuracy: 0.6800 - val_loss: 0.7200 - val_accuracy: 0.4444\n",
      "Epoch 83/1000\n",
      "3/3 [==============================] - 0s 6ms/step - loss: 0.6318 - accuracy: 0.6933 - val_loss: 0.7199 - val_accuracy: 0.4444\n",
      "Epoch 84/1000\n",
      "3/3 [==============================] - 0s 7ms/step - loss: 0.6313 - accuracy: 0.6933 - val_loss: 0.7199 - val_accuracy: 0.4444\n",
      "Epoch 85/1000\n",
      "3/3 [==============================] - 0s 7ms/step - loss: 0.6308 - accuracy: 0.6800 - val_loss: 0.7201 - val_accuracy: 0.4444\n",
      "Epoch 86/1000\n",
      "3/3 [==============================] - 0s 6ms/step - loss: 0.6302 - accuracy: 0.6800 - val_loss: 0.7202 - val_accuracy: 0.3333\n",
      "Epoch 87/1000\n",
      "3/3 [==============================] - 0s 6ms/step - loss: 0.6297 - accuracy: 0.7067 - val_loss: 0.7205 - val_accuracy: 0.3333\n",
      "Epoch 88/1000\n",
      "3/3 [==============================] - 0s 6ms/step - loss: 0.6291 - accuracy: 0.7200 - val_loss: 0.7208 - val_accuracy: 0.3333\n",
      "Epoch 89/1000\n",
      "3/3 [==============================] - 0s 6ms/step - loss: 0.6285 - accuracy: 0.7200 - val_loss: 0.7206 - val_accuracy: 0.3333\n",
      "Epoch 90/1000\n",
      "3/3 [==============================] - 0s 6ms/step - loss: 0.6281 - accuracy: 0.7200 - val_loss: 0.7211 - val_accuracy: 0.3333\n",
      "Epoch 91/1000\n",
      "3/3 [==============================] - 0s 6ms/step - loss: 0.6276 - accuracy: 0.7200 - val_loss: 0.7220 - val_accuracy: 0.3333\n",
      "Epoch 92/1000\n",
      "3/3 [==============================] - 0s 6ms/step - loss: 0.6269 - accuracy: 0.7200 - val_loss: 0.7228 - val_accuracy: 0.3333\n",
      "Epoch 93/1000\n",
      "3/3 [==============================] - 0s 6ms/step - loss: 0.6265 - accuracy: 0.7200 - val_loss: 0.7235 - val_accuracy: 0.3333\n",
      "Epoch 94/1000\n",
      "3/3 [==============================] - 0s 6ms/step - loss: 0.6258 - accuracy: 0.7200 - val_loss: 0.7239 - val_accuracy: 0.3333\n",
      "Epoch 95/1000\n",
      "3/3 [==============================] - 0s 6ms/step - loss: 0.6253 - accuracy: 0.7200 - val_loss: 0.7244 - val_accuracy: 0.3333\n",
      "Epoch 96/1000\n",
      "3/3 [==============================] - 0s 6ms/step - loss: 0.6247 - accuracy: 0.7333 - val_loss: 0.7245 - val_accuracy: 0.3333\n",
      "Epoch 97/1000\n",
      "3/3 [==============================] - 0s 6ms/step - loss: 0.6241 - accuracy: 0.7333 - val_loss: 0.7246 - val_accuracy: 0.3333\n",
      "Epoch 98/1000\n",
      "3/3 [==============================] - 0s 6ms/step - loss: 0.6234 - accuracy: 0.7333 - val_loss: 0.7246 - val_accuracy: 0.3333\n",
      "Epoch 99/1000\n",
      "3/3 [==============================] - 0s 6ms/step - loss: 0.6227 - accuracy: 0.7200 - val_loss: 0.7243 - val_accuracy: 0.3333\n",
      "Epoch 100/1000\n",
      "3/3 [==============================] - 0s 6ms/step - loss: 0.6220 - accuracy: 0.7333 - val_loss: 0.7241 - val_accuracy: 0.3333\n",
      "Epoch 101/1000\n",
      "3/3 [==============================] - 0s 6ms/step - loss: 0.6214 - accuracy: 0.7333 - val_loss: 0.7242 - val_accuracy: 0.3333\n",
      "Epoch 102/1000\n",
      "3/3 [==============================] - 0s 6ms/step - loss: 0.6208 - accuracy: 0.7333 - val_loss: 0.7244 - val_accuracy: 0.3333\n",
      "Epoch 103/1000\n",
      "3/3 [==============================] - 0s 6ms/step - loss: 0.6201 - accuracy: 0.7333 - val_loss: 0.7249 - val_accuracy: 0.3333\n",
      "Epoch 104/1000\n",
      "3/3 [==============================] - 0s 6ms/step - loss: 0.6195 - accuracy: 0.7333 - val_loss: 0.7252 - val_accuracy: 0.3333\n",
      "Epoch 105/1000\n",
      "3/3 [==============================] - 0s 6ms/step - loss: 0.6189 - accuracy: 0.7200 - val_loss: 0.7254 - val_accuracy: 0.3333\n",
      "Epoch 106/1000\n",
      "3/3 [==============================] - 0s 6ms/step - loss: 0.6182 - accuracy: 0.7333 - val_loss: 0.7257 - val_accuracy: 0.3333\n",
      "Epoch 107/1000\n",
      "3/3 [==============================] - 0s 6ms/step - loss: 0.6173 - accuracy: 0.7333 - val_loss: 0.7259 - val_accuracy: 0.3333\n",
      "Epoch 108/1000\n",
      "3/3 [==============================] - 0s 6ms/step - loss: 0.6166 - accuracy: 0.7200 - val_loss: 0.7260 - val_accuracy: 0.3333\n",
      "Epoch 109/1000\n",
      "3/3 [==============================] - 0s 6ms/step - loss: 0.6159 - accuracy: 0.7333 - val_loss: 0.7262 - val_accuracy: 0.3333\n",
      "Epoch 110/1000\n",
      "3/3 [==============================] - 0s 6ms/step - loss: 0.6152 - accuracy: 0.7333 - val_loss: 0.7263 - val_accuracy: 0.3333\n",
      "Epoch 111/1000\n",
      "3/3 [==============================] - 0s 6ms/step - loss: 0.6144 - accuracy: 0.7067 - val_loss: 0.7261 - val_accuracy: 0.3333\n",
      "Epoch 112/1000\n",
      "3/3 [==============================] - 0s 6ms/step - loss: 0.6138 - accuracy: 0.7067 - val_loss: 0.7259 - val_accuracy: 0.3333\n",
      "Epoch 113/1000\n",
      "3/3 [==============================] - 0s 6ms/step - loss: 0.6132 - accuracy: 0.7067 - val_loss: 0.7261 - val_accuracy: 0.3333\n",
      "Epoch 114/1000\n",
      "3/3 [==============================] - 0s 6ms/step - loss: 0.6126 - accuracy: 0.7067 - val_loss: 0.7262 - val_accuracy: 0.3333\n",
      "Epoch 115/1000\n",
      "3/3 [==============================] - 0s 6ms/step - loss: 0.6118 - accuracy: 0.7067 - val_loss: 0.7261 - val_accuracy: 0.3333\n",
      "Epoch 116/1000\n",
      "3/3 [==============================] - 0s 6ms/step - loss: 0.6112 - accuracy: 0.7067 - val_loss: 0.7257 - val_accuracy: 0.3333\n",
      "Epoch 117/1000\n"
     ]
    },
    {
     "name": "stdout",
     "output_type": "stream",
     "text": [
      "3/3 [==============================] - 0s 6ms/step - loss: 0.6107 - accuracy: 0.7067 - val_loss: 0.7249 - val_accuracy: 0.3333\n",
      "Epoch 118/1000\n",
      "3/3 [==============================] - 0s 6ms/step - loss: 0.6100 - accuracy: 0.7067 - val_loss: 0.7240 - val_accuracy: 0.3333\n",
      "Epoch 119/1000\n",
      "3/3 [==============================] - 0s 7ms/step - loss: 0.6094 - accuracy: 0.7067 - val_loss: 0.7237 - val_accuracy: 0.3333\n",
      "Epoch 120/1000\n",
      "3/3 [==============================] - 0s 6ms/step - loss: 0.6090 - accuracy: 0.6933 - val_loss: 0.7238 - val_accuracy: 0.3333\n",
      "Epoch 121/1000\n",
      "3/3 [==============================] - 0s 7ms/step - loss: 0.6083 - accuracy: 0.6933 - val_loss: 0.7240 - val_accuracy: 0.3333\n",
      "Epoch 122/1000\n",
      "3/3 [==============================] - 0s 6ms/step - loss: 0.6078 - accuracy: 0.6933 - val_loss: 0.7240 - val_accuracy: 0.3333\n",
      "Epoch 123/1000\n",
      "3/3 [==============================] - 0s 6ms/step - loss: 0.6072 - accuracy: 0.7067 - val_loss: 0.7241 - val_accuracy: 0.3333\n"
     ]
    }
   ],
   "source": [
    "import tensorflow as tf\n",
    "from tensorflow.keras import optimizers, losses, callbacks\n",
    "import numpy as np\n",
    "\n",
    "X_trainNN = np.array(X_train)\n",
    "y_trainNN = np.array(y_train)\n",
    "X_valNN, X_testNN = train_test_split(X_test, test_size=0.5, random_state=42)\n",
    "y_valNN, y_testNN = train_test_split(y_test, test_size=0.5, random_state=42)\n",
    "\n",
    "X_valNN = np.array(X_valNN)\n",
    "y_valNN = np.array(y_valNN)\n",
    "\n",
    "X_testNN = np.array(X_testNN)\n",
    "y_testNN = np.array(y_testNN)\n",
    "\n",
    "CallBackSave = callbacks.ModelCheckpoint(\"best_model_classe.h5\", \n",
    "                                                 monitor='val_loss', \n",
    "                                                 save_best_only=True, \n",
    "                                                 mode='min')\n",
    "\n",
    "callbackStop = callbacks.EarlyStopping(monitor='val_loss', \n",
    "                                                  patience=70)\n",
    "\n",
    "model = tf.keras.models.Sequential([\n",
    "    tf.keras.layers.Dense(features.shape[1], activation='relu'),\n",
    "    tf.keras.layers.Dense(int(features.shape[1]*3/4), activation='relu'),\n",
    "    tf.keras.layers.Dense(int(features.shape[1]/2), activation='relu'),\n",
    "    tf.keras.layers.Dense(1, activation='sigmoid')\n",
    "])\n",
    "\n",
    "model.compile(loss=losses.binary_crossentropy,\n",
    "              optimizer=optimizers.Adam(),\n",
    "              metrics=['accuracy'])     \n",
    "\n",
    "history = model.fit(X_trainNN, y_trainNN,\n",
    "                    epochs=1000,validation_data=(X_valNN, y_valNN),\n",
    "                    callbacks=[CallBackSave,callbackStop]\n",
    "                   )\n"
   ]
  },
  {
   "cell_type": "code",
   "execution_count": 12,
   "id": "70d334b4",
   "metadata": {},
   "outputs": [
    {
     "name": "stdout",
     "output_type": "stream",
     "text": [
      "1/1 [==============================] - 0s 34ms/step\n",
      "              precision    recall  f1-score   support\n",
      "\n",
      "       Lepen       0.56      1.00      0.71         5\n",
      "      Macron       1.00      0.20      0.33         5\n",
      "\n",
      "    accuracy                           0.60        10\n",
      "   macro avg       0.78      0.60      0.52        10\n",
      "weighted avg       0.78      0.60      0.52        10\n",
      "\n"
     ]
    }
   ],
   "source": [
    "best_model = tf.keras.models.load_model(\"best_model_classe.h5\")\n",
    "\n",
    "y_pred_NN = best_model.predict(X_testNN)\n",
    "y_pred_binary = (y_pred_NN > 0.5).astype(int)\n",
    "print(classification_report(y_testNN, y_pred_binary, target_names=target_names))"
   ]
  },
  {
   "cell_type": "code",
   "execution_count": 13,
   "id": "3506468c",
   "metadata": {},
   "outputs": [
    {
     "data": {
      "image/png": "[encoded data removed]",
      "text/plain": [
       "<Figure size 640x480 with 1 Axes>"
      ]
     },
     "metadata": {},
     "output_type": "display_data"
    }
   ],
   "source": [
    "import matplotlib.pyplot as plt\n",
    "\n",
    "acc = history.history['accuracy']\n",
    "val_acc = history.history['val_accuracy']\n",
    "epochs = [*range(len(acc))]\n",
    "\n",
    "#------------------------------------------------\n",
    "# Plot training and validation accuracy per epoch\n",
    "#------------------------------------------------\n",
    "plt.plot(epochs, acc, 'r')\n",
    "plt.plot(epochs, val_acc, 'b')\n",
    "plt.title('Training and validation accuracy')\n",
    "plt.xlabel(\"Epochs\")\n",
    "plt.ylabel(\"Accuracy\")\n",
    "plt.legend([\"Accuracy\", \"Validation Accuracy\"])\n",
    "plt.show()"
   ]
  },
  {
   "cell_type": "code",
   "execution_count": 14,
   "id": "b985b247",
   "metadata": {},
   "outputs": [
    {
     "data": {
      "image/png": "[encoded data removed]",
      "text/plain": [
       "<Figure size 640x480 with 1 Axes>"
      ]
     },
     "metadata": {},
     "output_type": "display_data"
    }
   ],
   "source": [
    "import matplotlib.pyplot as plt\n",
    "\n",
    "loss = history.history['loss']\n",
    "val_loss = history.history['val_loss']\n",
    "epochs = [*range(len(loss))]\n",
    "\n",
    "#------------------------------------------------\n",
    "# Plot training and validation accuracy per epoch\n",
    "#------------------------------------------------\n",
    "plt.plot(epochs, loss, 'r')\n",
    "plt.plot(epochs, val_loss, 'b')\n",
    "plt.title('Training and validation loss')\n",
    "plt.xlabel(\"Epochs\")\n",
    "plt.ylabel(\"Accuracy\")\n",
    "plt.legend([\"loss\", \"Validation loss\"])\n",
    "plt.show()"
   ]
  },
  {
   "cell_type": "markdown",
   "id": "e0bf60f5",
   "metadata": {},
   "source": [
    "### KNN voisin"
   ]
  },
  {
   "cell_type": "code",
   "execution_count": 15,
   "id": "efec63e6",
   "metadata": {},
   "outputs": [
    {
     "name": "stdout",
     "output_type": "stream",
     "text": [
      "              precision    recall  f1-score   support\n",
      "\n",
      "       Lepen       0.80      0.80      0.80         5\n",
      "      Macron       0.80      0.80      0.80         5\n",
      "\n",
      "    accuracy                           0.80        10\n",
      "   macro avg       0.80      0.80      0.80        10\n",
      "weighted avg       0.80      0.80      0.80        10\n",
      "\n"
     ]
    }
   ],
   "source": [
    "from sklearn.neighbors import KNeighborsClassifier\n",
    "\n",
    "acc=0\n",
    "bestN_neighbors=1\n",
    "\n",
    "X_valKNN, X_testKNN = train_test_split(X_test, test_size=0.5, random_state=42)\n",
    "y_valKNN, y_testKNN = train_test_split(y_test, test_size=0.5, random_state=42)\n",
    "\n",
    "\n",
    "for i in range (1,X_testKNN.shape[0]+1):\n",
    "    knn_model = KNeighborsClassifier(n_neighbors=i)\n",
    "    knn_model.fit(X_train, y_train)\n",
    "    \n",
    "    y_pred = knn_model.predict(X_valKNN)\n",
    "    matriceConfusion = classification_report(y_valKNN, y_pred, output_dict=True)\n",
    "    \n",
    "    precision_class_0 = matriceConfusion['0']['precision']\n",
    "    precision_class_1 = matriceConfusion['1']['precision']\n",
    "    \n",
    "    avg_precision = (precision_class_0 + precision_class_1) / 2\n",
    "    \n",
    "    if avg_precision > acc:\n",
    "        bestN_neighbors = i\n",
    "        acc = avg_precision\n",
    "        \n",
    "knn_model = KNeighborsClassifier(n_neighbors=bestN_neighbors)\n",
    "knn_model.fit(X_train, y_train)\n",
    "    \n",
    "y_pred = knn_model.predict(X_testKNN)\n",
    "print(classification_report(y_testKNN, y_pred, target_names=target_names))"
   ]
  },
  {
   "cell_type": "code",
   "execution_count": null,
   "id": "93258fec",
   "metadata": {},
   "outputs": [],
   "source": []
  }
 ],
 "metadata": {
  "kernelspec": {
   "display_name": "Python 3 (ipykernel)",
   "language": "python",
   "name": "python3"
  },
  "language_info": {
   "codemirror_mode": {
    "name": "ipython",
    "version": 3
   },
   "file_extension": ".py",
   "mimetype": "text/x-python",
   "name": "python",
   "nbconvert_exporter": "python",
   "pygments_lexer": "ipython3",
   "version": "3.11.0"
  }
 },
 "nbformat": 4,
 "nbformat_minor": 5
}
