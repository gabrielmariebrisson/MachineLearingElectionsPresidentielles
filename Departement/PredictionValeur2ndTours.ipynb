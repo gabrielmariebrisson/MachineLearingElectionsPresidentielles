{
 "cells": [
  {
   "cell_type": "markdown",
   "id": "a3d35130",
   "metadata": {},
   "source": [
    "# Partie sur la prediction des données"
   ]
  },
  {
   "cell_type": "markdown",
   "id": "0fc97542",
   "metadata": {},
   "source": [
    "## Prédiction des scores des elections du second tour 2022"
   ]
  },
  {
   "cell_type": "markdown",
   "id": "fd753c08",
   "metadata": {},
   "source": [
    "### Préparation des données"
   ]
  },
  {
   "cell_type": "code",
   "execution_count": 1,
   "id": "1a296d10",
   "metadata": {},
   "outputs": [],
   "source": [
    "import pandas as pd\n",
    "from sklearn.svm import SVC\n",
    "from sklearn.metrics import classification_report\n",
    "from sklearn.model_selection import train_test_split\n",
    "from sklearn.preprocessing import StandardScaler\n",
    "import numpy as np\n",
    "from sklearn.metrics import accuracy_score"
   ]
  },
  {
   "cell_type": "code",
   "execution_count": 2,
   "id": "d55e820d",
   "metadata": {},
   "outputs": [
    {
     "name": "stdout",
     "output_type": "stream",
     "text": [
      "                Departement nbPersonne     Macron      Lepen niveauEtude  \\\n",
      "0                       Ain     671937  50.982366  49.017659        41.4   \n",
      "1                     Aisne     522791  38.089161  61.910914        29.7   \n",
      "2                    Allier     332443  48.201987  51.798013        33.4   \n",
      "3   Alpes-de-Haute-Provence     166654  47.890556  52.109697        37.2   \n",
      "4              Hautes-Alpes     139942  53.414383  46.585802        41.7   \n",
      "..                      ...        ...        ...        ...         ...   \n",
      "89    Territoire de Belfort     136891  45.499208  54.500792        43.3   \n",
      "90                  Essonne    1316053  58.871340  41.128711        47.5   \n",
      "91           Hauts-de-Seine    1642002  80.148611  19.851389        71.1   \n",
      "92             Val-de-Marne    1426748  71.616596  28.383404        56.1   \n",
      "93               Val-d'Oise    1274374  58.109402  41.890707        45.2   \n",
      "\n",
      "    tauxChomage Proximité   Immigré  \n",
      "0           5.5      1.66   79312.0  \n",
      "1          10.5      0.83   25515.0  \n",
      "2           7.7      2.39   17601.0  \n",
      "3           8.2      0.96   13762.0  \n",
      "4           6.9      5.43    8019.0  \n",
      "..          ...       ...       ...  \n",
      "89          8.3      6.09   13875.0  \n",
      "90          6.4      3.34  224344.0  \n",
      "91          5.9      4.19  307362.0  \n",
      "92          7.1      2.92  311186.0  \n",
      "93          8.0      1.53  253856.0  \n",
      "\n",
      "[94 rows x 8 columns]\n"
     ]
    }
   ],
   "source": [
    "#creation du dataset\n",
    "df_pourcent_chomage = pd.read_excel('../AutreDataDepartement/tauxChomage.xlsx').dropna()\n",
    "df_pourcent_chomage = df_pourcent_chomage.iloc[:, [1, 2]]\n",
    "df_pourcent_chomage.columns = ['Departement', 'tauxChomage']\n",
    "\n",
    "df_niveauEtude = pd.read_excel('../AutreDataDepartement/NiveauEtudeJeune2017.xlsx', sheet_name='Figure 1a').dropna()\n",
    "df_niveauEtude = df_niveauEtude.iloc[:, [1, 2]]\n",
    "df_niveauEtude.columns = ['Departement', 'niveauEtude']\n",
    "\n",
    "df_densitePop = pd.read_excel('../AutreDataDepartement/NbPopDepartement2023.xls', sheet_name='2023').dropna()\n",
    "df_densitePop = df_densitePop.iloc[:, [1, 7]]\n",
    "df_densitePop.columns = ['Departement', 'nbPersonne']\n",
    "\n",
    "df_magasinBIO = pd.read_excel('../AutreDataDepartement/MagasinBio2016.xls', sheet_name='Figure 2').dropna()\n",
    "df_magasinBIO.columns = ['Departement', 'Proximité']\n",
    "\n",
    "df_PopImmigre = pd.read_excel('../AutreDataDepartement/PopImmigré.xlsx').dropna()\n",
    "df_PopImmigre = df_PopImmigre.iloc[:, [1, 2]]\n",
    "df_PopImmigre.columns = ['Departement', 'Immigré']\n",
    "\n",
    "# Charger les données des résultats présidentiels\n",
    "df_resultatPresidentielle = pd.read_excel('../resultats-par-niveau-subcom-t2-france-entiere.xlsx').dropna()\n",
    "df_resultatPresidentielle = df_resultatPresidentielle.iloc[:, [1, 25, 32]]\n",
    "df_resultatPresidentielle.columns = [ 'Departement', 'Macron', 'Lepen']\n",
    "df_resultatPresidentielle = df_resultatPresidentielle.groupby('Departement')[['Macron', 'Lepen']].mean().reset_index()\n",
    "\n",
    "df_concat = pd.merge(df_densitePop, df_resultatPresidentielle, on='Departement')\n",
    "df_concat = pd.merge(df_concat, df_niveauEtude, on='Departement')\n",
    "df_concat = pd.merge(df_concat, df_pourcent_chomage, on='Departement')\n",
    "df_concat = pd.merge(df_concat, df_magasinBIO, on='Departement')\n",
    "df_concat = pd.merge(df_concat, df_PopImmigre, on='Departement')\n",
    "print(df_concat)"
   ]
  },
  {
   "cell_type": "code",
   "execution_count": 3,
   "id": "c0844174",
   "metadata": {},
   "outputs": [],
   "source": [
    "# Sélection des features\n",
    "df_concat = df_concat.sample(frac=1)\n",
    "features = df_concat.drop(['Departement','Macron', 'Lepen'], axis=1).values\n",
    "ScoreMacron =  df_concat['Macron'].values.reshape(-1, 1)\n",
    "ScoreLepen =  df_concat['Lepen'].values.reshape(-1, 1)\n",
    "\n",
    "# Normalisation des données\n",
    "scalerX = StandardScaler()\n",
    "X_scaled = scalerX.fit_transform(features)\n",
    "scalerMacron = StandardScaler()\n",
    "ScoreMacron = scalerMacron.fit_transform(ScoreMacron)\n",
    "scalerLepen = StandardScaler()\n",
    "ScoreLepen = scalerLepen.fit_transform(ScoreLepen)\n",
    "\n",
    "#division des données\n",
    "split_index1 = int(df_concat.shape[0] * 0.8)\n",
    "split_index2 = int(df_concat.shape[0] * 0.9)\n",
    "\n",
    "X_train, X_val, X_test = X_scaled[:split_index1, :], X_scaled[split_index1:split_index2, :], X_scaled[split_index2:, :]\n",
    "y_train_Lepen, y_val_Lepen, y_test_Lepen = ScoreLepen[:split_index1], ScoreLepen[split_index1:split_index2], ScoreLepen[split_index2:]\n",
    "y_train_Marcon, y_val_Marcon, y_test_Marcon = ScoreMacron[:split_index1], ScoreMacron[split_index1:split_index2], ScoreMacron[split_index2:]"
   ]
  },
  {
   "cell_type": "markdown",
   "id": "9b2dc0ad",
   "metadata": {},
   "source": [
    "### Application de Regression"
   ]
  },
  {
   "cell_type": "markdown",
   "id": "390e937f",
   "metadata": {},
   "source": [
    "### Reseau de neuronne"
   ]
  },
  {
   "cell_type": "code",
   "execution_count": 4,
   "id": "9b381e23",
   "metadata": {},
   "outputs": [],
   "source": [
    "import tensorflow as tf\n",
    "from tensorflow.keras import optimizers, losses, callbacks\n",
    "import numpy as np\n",
    "\n",
    "X_trainNN = np.array(X_train,dtype=float)\n",
    "y_trainNN_Lepen = np.array(y_train_Lepen,dtype=float)\n",
    "y_trainNN_Marcon = np.array(y_train_Marcon,dtype=float)\n",
    "\n",
    "X_valNN = np.array(X_val,dtype=float)\n",
    "y_valNN_Lepen = np.array(y_val_Lepen,dtype=float)\n",
    "y_valNN_Marcon = np.array(y_val_Marcon,dtype=float)\n",
    "\n",
    "X_testNN = np.array(X_test,dtype=float)\n",
    "y_testNN_Lepen = np.array(y_test_Lepen,dtype=float)\n",
    "y_testNN_Marcon = np.array(y_test_Marcon,dtype=float)\n",
    "\n",
    "\n",
    "CallBackSave = callbacks.ModelCheckpoint(\"best_model_valeur.h5\", \n",
    "                                                 monitor='val_loss', \n",
    "                                                 save_best_only=True, \n",
    "                                                 mode='min')\n",
    "\n",
    "callbackStop = callbacks.EarlyStopping(monitor='val_loss', \n",
    "                                                  patience=20)\n",
    "\n",
    "\"\"\"class myCallback(tf.keras.callbacks.Callback):\n",
    "    def on_epoch_end(self, epoch, logs={}):\n",
    "        if logs.get('val_loss') is not None and logs.get('val_loss') < 0.3:\n",
    "            print(\"\\nReached 99.9% accuracy so cancelling training!\")\n",
    "            self.model.stop_training = True\n",
    "\n",
    "callbackStop = myCallback()\"\"\"\n",
    "\n",
    "def createModel():\n",
    "    #model = tf.keras.Sequential([tf.keras.layers.Dense(units=1, input_shape=[features.shape[1]])])\n",
    "\n",
    "    model = tf.keras.models.Sequential([\n",
    "    tf.keras.layers.Dense(features.shape[1], activation='relu'),\n",
    "    tf.keras.layers.Dense(512, activation='relu'),\n",
    "    tf.keras.layers.Dense(256, activation='relu'),\n",
    "    tf.keras.layers.Dense(128, activation='relu'),\n",
    "    tf.keras.layers.Dense(64, activation='relu'),\n",
    "    tf.keras.layers.Dense(32, activation='relu'),\n",
    "    tf.keras.layers.Dense(1)\n",
    "    ])\n",
    "    model.compile(loss='mean_squared_error',\n",
    "                  optimizer=optimizers.Adam())\n",
    "    return model\n",
    "\n",
    "def affichagePrediction(prediction, reel):\n",
    "    for i in range(len(prediction)):\n",
    "        print(\"valeur prédite :\", prediction[i], \"valeur réelle :\", reel[i], \"écart :\", np.abs(prediction[i] - reel[i]))"
   ]
  },
  {
   "cell_type": "markdown",
   "id": "e50100b6",
   "metadata": {},
   "source": [
    "#### Entrainement pour Macron"
   ]
  },
  {
   "cell_type": "code",
   "execution_count": 5,
   "id": "70d334b4",
   "metadata": {},
   "outputs": [
    {
     "name": "stderr",
     "output_type": "stream",
     "text": [
      "WARNING:absl:At this time, the v2.11+ optimizer `tf.keras.optimizers.Adam` runs slowly on M1/M2 Macs, please use the legacy Keras optimizer instead, located at `tf.keras.optimizers.legacy.Adam`.\n",
      "WARNING:absl:There is a known slowdown when using v2.11+ Keras optimizers on M1/M2 Macs. Falling back to the legacy Keras optimizer, i.e., `tf.keras.optimizers.legacy.Adam`.\n"
     ]
    },
    {
     "name": "stdout",
     "output_type": "stream",
     "text": [
      "Epoch 1/1000\n"
     ]
    },
    {
     "name": "stderr",
     "output_type": "stream",
     "text": [
      "2024-04-20 14:54:13.035572: W tensorflow/tsl/platform/profile_utils/cpu_utils.cc:128] Failed to get CPU frequency: 0 Hz\n"
     ]
    },
    {
     "name": "stdout",
     "output_type": "stream",
     "text": [
      "3/3 [==============================] - 0s 44ms/step - loss: 1.0368 - val_loss: 0.1857\n",
      "Epoch 2/1000\n",
      "3/3 [==============================] - 0s 6ms/step - loss: 0.8101 - val_loss: 0.2053\n",
      "Epoch 3/1000\n",
      "3/3 [==============================] - 0s 7ms/step - loss: 0.5960 - val_loss: 0.2981\n",
      "Epoch 4/1000\n",
      "3/3 [==============================] - 0s 7ms/step - loss: 0.4433 - val_loss: 0.3096\n",
      "Epoch 5/1000\n",
      "3/3 [==============================] - 0s 7ms/step - loss: 0.3925 - val_loss: 0.2329\n",
      "Epoch 6/1000\n",
      "3/3 [==============================] - 0s 14ms/step - loss: 0.3646 - val_loss: 0.1686\n",
      "Epoch 7/1000\n",
      "3/3 [==============================] - 0s 14ms/step - loss: 0.3577 - val_loss: 0.1287\n",
      "Epoch 8/1000\n",
      "3/3 [==============================] - 0s 7ms/step - loss: 0.3379 - val_loss: 0.1442\n",
      "Epoch 9/1000\n",
      "3/3 [==============================] - 0s 7ms/step - loss: 0.3231 - val_loss: 0.2278\n",
      "Epoch 10/1000\n",
      "3/3 [==============================] - 0s 7ms/step - loss: 0.3218 - val_loss: 0.1946\n",
      "Epoch 11/1000\n",
      "3/3 [==============================] - 0s 7ms/step - loss: 0.3029 - val_loss: 0.1863\n",
      "Epoch 12/1000\n",
      "3/3 [==============================] - 0s 7ms/step - loss: 0.3035 - val_loss: 0.1904\n",
      "Epoch 13/1000\n",
      "3/3 [==============================] - 0s 7ms/step - loss: 0.3093 - val_loss: 0.1625\n",
      "Epoch 14/1000\n",
      "3/3 [==============================] - 0s 7ms/step - loss: 0.2946 - val_loss: 0.1339\n",
      "Epoch 15/1000\n",
      "3/3 [==============================] - 0s 7ms/step - loss: 0.2893 - val_loss: 0.1513\n",
      "Epoch 16/1000\n",
      "3/3 [==============================] - 0s 7ms/step - loss: 0.2903 - val_loss: 0.1416\n",
      "Epoch 17/1000\n",
      "3/3 [==============================] - 0s 7ms/step - loss: 0.2823 - val_loss: 0.1385\n",
      "Epoch 18/1000\n",
      "3/3 [==============================] - 0s 8ms/step - loss: 0.2710 - val_loss: 0.1416\n",
      "Epoch 19/1000\n",
      "3/3 [==============================] - 0s 7ms/step - loss: 0.2704 - val_loss: 0.1524\n",
      "Epoch 20/1000\n",
      "3/3 [==============================] - 0s 7ms/step - loss: 0.2643 - val_loss: 0.1425\n",
      "Epoch 21/1000\n",
      "3/3 [==============================] - 0s 7ms/step - loss: 0.2595 - val_loss: 0.1533\n",
      "Epoch 22/1000\n",
      "3/3 [==============================] - 0s 7ms/step - loss: 0.2573 - val_loss: 0.1541\n",
      "Epoch 23/1000\n",
      "3/3 [==============================] - 0s 14ms/step - loss: 0.2526 - val_loss: 0.1189\n",
      "Epoch 24/1000\n",
      "3/3 [==============================] - 0s 7ms/step - loss: 0.2637 - val_loss: 0.1199\n",
      "Epoch 25/1000\n",
      "3/3 [==============================] - 0s 7ms/step - loss: 0.2843 - val_loss: 0.1372\n",
      "Epoch 26/1000\n",
      "3/3 [==============================] - 0s 7ms/step - loss: 0.2448 - val_loss: 0.1456\n",
      "Epoch 27/1000\n",
      "3/3 [==============================] - 0s 7ms/step - loss: 0.2903 - val_loss: 0.1292\n",
      "Epoch 28/1000\n",
      "3/3 [==============================] - 0s 7ms/step - loss: 0.2442 - val_loss: 0.1291\n",
      "Epoch 29/1000\n",
      "3/3 [==============================] - 0s 7ms/step - loss: 0.2509 - val_loss: 0.1400\n",
      "Epoch 30/1000\n",
      "3/3 [==============================] - 0s 7ms/step - loss: 0.2414 - val_loss: 0.1390\n",
      "Epoch 31/1000\n",
      "3/3 [==============================] - 0s 7ms/step - loss: 0.2285 - val_loss: 0.1401\n",
      "Epoch 32/1000\n",
      "3/3 [==============================] - 0s 7ms/step - loss: 0.2210 - val_loss: 0.1343\n",
      "Epoch 33/1000\n",
      "3/3 [==============================] - 0s 7ms/step - loss: 0.2251 - val_loss: 0.1511\n",
      "Epoch 34/1000\n",
      "3/3 [==============================] - 0s 7ms/step - loss: 0.2255 - val_loss: 0.1685\n",
      "Epoch 35/1000\n",
      "3/3 [==============================] - 0s 7ms/step - loss: 0.2177 - val_loss: 0.1635\n",
      "Epoch 36/1000\n",
      "3/3 [==============================] - 0s 7ms/step - loss: 0.2075 - val_loss: 0.1724\n",
      "Epoch 37/1000\n",
      "3/3 [==============================] - 0s 7ms/step - loss: 0.2229 - val_loss: 0.1709\n",
      "Epoch 38/1000\n",
      "3/3 [==============================] - 0s 7ms/step - loss: 0.2024 - val_loss: 0.1785\n",
      "Epoch 39/1000\n",
      "3/3 [==============================] - 0s 8ms/step - loss: 0.2167 - val_loss: 0.1573\n",
      "Epoch 40/1000\n",
      "3/3 [==============================] - 0s 7ms/step - loss: 0.1992 - val_loss: 0.1780\n",
      "Epoch 41/1000\n",
      "3/3 [==============================] - 0s 7ms/step - loss: 0.1993 - val_loss: 0.1945\n",
      "Epoch 42/1000\n",
      "3/3 [==============================] - 0s 7ms/step - loss: 0.1869 - val_loss: 0.2135\n",
      "Epoch 43/1000\n",
      "3/3 [==============================] - 0s 8ms/step - loss: 0.2063 - val_loss: 0.2035\n"
     ]
    }
   ],
   "source": [
    "model = createModel()\n",
    "history = model.fit(X_trainNN, y_trainNN_Marcon,\n",
    "                    epochs=1000,validation_data=(X_valNN, y_valNN_Marcon),\n",
    "                    callbacks=[CallBackSave,callbackStop]\n",
    "                   )"
   ]
  },
  {
   "cell_type": "code",
   "execution_count": 6,
   "id": "7d051aa5",
   "metadata": {},
   "outputs": [
    {
     "name": "stdout",
     "output_type": "stream",
     "text": [
      "1/1 [==============================] - 0s 40ms/step\n",
      "Sur les entrainement la valeur reel :  [[54.67305461]] ; valeur predite :  [[55.285538]]\n",
      "1/1 [==============================] - 0s 8ms/step\n",
      "Affichage des predictions sur le test pour Macron\n",
      "valeur prédite : 48.43971 valeur réelle : [51.83148052] écart : [3.39177181]\n",
      "valeur prédite : 46.286304 valeur réelle : [55.85539446] écart : [9.56908998]\n",
      "valeur prédite : 48.882656 valeur réelle : [49.00937365] écart : [0.12671755]\n",
      "valeur prédite : 52.203876 valeur réelle : [58.59172691] écart : [6.38785041]\n",
      "valeur prédite : 56.161835 valeur réelle : [47.63812623] écart : [8.52370848]\n",
      "valeur prédite : 46.57788 valeur réelle : [42.95285996] écart : [3.6250209]\n",
      "valeur prédite : 52.34004 valeur réelle : [56.41792969] écart : [4.07789139]\n",
      "valeur prédite : 52.43754 valeur réelle : [58.48520147] écart : [6.04766332]\n",
      "valeur prédite : 55.784096 valeur réelle : [58.10940217] écart : [2.32530641]\n",
      "valeur prédite : 48.76509 valeur réelle : [41.11838028] écart : [7.64671066]\n",
      "1/1 [==============================] - 0s 11ms/step - loss: 0.5990\n",
      "Perte de test : 0.599037766456604\n"
     ]
    }
   ],
   "source": [
    "best_model = tf.keras.models.load_model(\"best_model_valeur.h5\")\n",
    "\n",
    "print(\"Sur les entrainement la valeur reel : \", scalerMacron.inverse_transform(y_trainNN_Marcon[0].reshape(-1, 1)), \"; valeur predite : \",scalerMacron.inverse_transform(best_model.predict(X_trainNN[0:1]).reshape(-1, 1)))\n",
    "\n",
    "\n",
    "y_pred_NN = best_model.predict(X_testNN)\n",
    "\n",
    "reel = scalerMacron.inverse_transform(y_testNN_Marcon)\n",
    "prediction = scalerMacron.inverse_transform(y_pred_NN.reshape(-1, 1)).flatten()\n",
    "\n",
    "print(\"Affichage des predictions sur le test pour Macron\")\n",
    "affichagePrediction(prediction, reel)\n",
    "\n",
    "test_loss = model.evaluate(X_testNN, y_testNN_Marcon)\n",
    "print(\"Perte de test :\", test_loss)"
   ]
  },
  {
   "cell_type": "code",
   "execution_count": 7,
   "id": "b985b247",
   "metadata": {},
   "outputs": [
    {
     "data": {
      "image/png": "[encoded data removed]",
      "text/plain": [
       "<Figure size 640x480 with 1 Axes>"
      ]
     },
     "metadata": {},
     "output_type": "display_data"
    }
   ],
   "source": [
    "import matplotlib.pyplot as plt\n",
    "\n",
    "loss = history.history['loss']\n",
    "val_loss = history.history['val_loss']\n",
    "epochs = [*range(len(loss))]\n",
    "\n",
    "#------------------------------------------------\n",
    "# Plot training and validation accuracy per epoch\n",
    "#------------------------------------------------\n",
    "plt.plot(epochs, loss, 'r')\n",
    "plt.plot(epochs, val_loss, 'b')\n",
    "plt.title('Training and validation loss')\n",
    "plt.xlabel(\"Epochs\")\n",
    "plt.ylabel(\"loss\")\n",
    "plt.legend([\"loss\", \"Validation loss\"])\n",
    "plt.show()"
   ]
  },
  {
   "cell_type": "markdown",
   "id": "5d47daaf",
   "metadata": {},
   "source": [
    "#### Entrainement pour Lepen"
   ]
  },
  {
   "cell_type": "code",
   "execution_count": 8,
   "id": "d73c320b",
   "metadata": {},
   "outputs": [
    {
     "name": "stderr",
     "output_type": "stream",
     "text": [
      "WARNING:absl:At this time, the v2.11+ optimizer `tf.keras.optimizers.Adam` runs slowly on M1/M2 Macs, please use the legacy Keras optimizer instead, located at `tf.keras.optimizers.legacy.Adam`.\n",
      "WARNING:absl:There is a known slowdown when using v2.11+ Keras optimizers on M1/M2 Macs. Falling back to the legacy Keras optimizer, i.e., `tf.keras.optimizers.legacy.Adam`.\n"
     ]
    },
    {
     "name": "stdout",
     "output_type": "stream",
     "text": [
      "Epoch 1/1000\n",
      "3/3 [==============================] - 0s 29ms/step - loss: 1.1129 - val_loss: 0.2851\n",
      "Epoch 2/1000\n",
      "3/3 [==============================] - 0s 6ms/step - loss: 0.9018 - val_loss: 0.3094\n",
      "Epoch 3/1000\n",
      "3/3 [==============================] - 0s 7ms/step - loss: 0.7706 - val_loss: 0.3565\n",
      "Epoch 4/1000\n",
      "3/3 [==============================] - 0s 7ms/step - loss: 0.6904 - val_loss: 0.3812\n",
      "Epoch 5/1000\n",
      "3/3 [==============================] - 0s 7ms/step - loss: 0.6541 - val_loss: 0.3640\n",
      "Epoch 6/1000\n",
      "3/3 [==============================] - 0s 7ms/step - loss: 0.6120 - val_loss: 0.3402\n",
      "Epoch 7/1000\n",
      "3/3 [==============================] - 0s 7ms/step - loss: 0.5966 - val_loss: 0.3299\n",
      "Epoch 8/1000\n",
      "3/3 [==============================] - 0s 7ms/step - loss: 0.5758 - val_loss: 0.3308\n",
      "Epoch 9/1000\n",
      "3/3 [==============================] - 0s 7ms/step - loss: 0.4758 - val_loss: 0.3644\n",
      "Epoch 10/1000\n",
      "3/3 [==============================] - 0s 7ms/step - loss: 0.5845 - val_loss: 0.3484\n",
      "Epoch 11/1000\n",
      "3/3 [==============================] - 0s 7ms/step - loss: 0.4190 - val_loss: 0.3470\n",
      "Epoch 12/1000\n",
      "3/3 [==============================] - 0s 7ms/step - loss: 0.3818 - val_loss: 0.3904\n",
      "Epoch 13/1000\n",
      "3/3 [==============================] - 0s 7ms/step - loss: 0.3284 - val_loss: 0.4109\n",
      "Epoch 14/1000\n",
      "3/3 [==============================] - 0s 7ms/step - loss: 0.3226 - val_loss: 0.3779\n",
      "Epoch 15/1000\n",
      "3/3 [==============================] - 0s 7ms/step - loss: 0.3064 - val_loss: 0.3521\n",
      "Epoch 16/1000\n",
      "3/3 [==============================] - 0s 7ms/step - loss: 0.2963 - val_loss: 0.3333\n",
      "Epoch 17/1000\n",
      "3/3 [==============================] - 0s 7ms/step - loss: 0.3111 - val_loss: 0.3481\n",
      "Epoch 18/1000\n",
      "3/3 [==============================] - 0s 7ms/step - loss: 0.3036 - val_loss: 0.3206\n",
      "Epoch 19/1000\n",
      "3/3 [==============================] - 0s 7ms/step - loss: 0.2977 - val_loss: 0.3361\n",
      "Epoch 20/1000\n",
      "3/3 [==============================] - 0s 7ms/step - loss: 0.2788 - val_loss: 0.3739\n",
      "Epoch 21/1000\n",
      "3/3 [==============================] - 0s 7ms/step - loss: 0.2941 - val_loss: 0.4039\n"
     ]
    }
   ],
   "source": [
    "model = createModel()\n",
    "history = model.fit(X_trainNN, y_trainNN_Lepen,\n",
    "                    epochs=1000,validation_data=(X_valNN, y_valNN_Lepen),\n",
    "                    callbacks=[CallBackSave,callbackStop]\n",
    "                   )"
   ]
  },
  {
   "cell_type": "code",
   "execution_count": 10,
   "id": "cef5fda4",
   "metadata": {},
   "outputs": [
    {
     "name": "stdout",
     "output_type": "stream",
     "text": [
      "1/1 [==============================] - 0s 29ms/step\n",
      "Sur les entrainement la valeur reel :  [[45.32699659]] ; valeur predite :  [[52.485577]]\n",
      "1/1 [==============================] - 0s 10ms/step\n",
      "Affichage des predictions sur le test pour Lepen\n",
      "valeur prédite : 45.65823 valeur réelle : [48.1685974] écart : [2.51036757]\n",
      "valeur prédite : 43.51064 valeur réelle : [44.14469083] écart : [0.63405164]\n",
      "valeur prédite : 46.099983 valeur réelle : [50.99064795] écart : [4.89066473]\n",
      "valeur prédite : 49.412235 valeur réelle : [41.40827309] écart : [8.00396217]\n",
      "valeur prédite : 53.35951 valeur réelle : [51.96739645] écart : [1.39211206]\n",
      "valeur prédite : 43.801426 valeur réelle : [57.04721893] écart : [13.245793]\n",
      "valeur prédite : 49.54803 valeur réelle : [43.58210938] écart : [5.96592148]\n",
      "valeur prédite : 49.645267 valeur réelle : [41.33164835] écart : [8.31361913]\n",
      "valeur prédite : 52.982788 valeur réelle : [41.89070652] écart : [11.09208156]\n",
      "valeur prédite : 45.98273 valeur réelle : [58.88169014] écart : [12.89895928]\n",
      "1/1 [==============================] - 0s 9ms/step - loss: 0.7115\n",
      "Perte de test : 0.7114633321762085\n"
     ]
    }
   ],
   "source": [
    "best_model = tf.keras.models.load_model(\"best_model_valeur.h5\")\n",
    "\n",
    "print(\"Sur les entrainement la valeur reel : \", scalerLepen.inverse_transform(y_trainNN_Lepen[0].reshape(-1, 1)), \"; valeur predite : \",scalerLepen.inverse_transform(best_model.predict(X_trainNN[0:1]).reshape(-1, 1)))\n",
    "\n",
    "y_pred_NN = best_model.predict(X_testNN)\n",
    "\n",
    "reel = scalerLepen.inverse_transform(y_testNN_Lepen)\n",
    "prediction = scalerLepen.inverse_transform(y_pred_NN.reshape(-1, 1)).flatten()\n",
    "\n",
    "print(\"Affichage des predictions sur le test pour Lepen\")\n",
    "affichagePrediction(prediction, reel)\n",
    "\n",
    "test_loss = model.evaluate(X_testNN, y_testNN_Lepen)\n",
    "print(\"Perte de test :\", test_loss)"
   ]
  },
  {
   "cell_type": "code",
   "execution_count": 11,
   "id": "9494e7bd",
   "metadata": {},
   "outputs": [
    {
     "data": {
      "image/png": "[encoded data removed]",
      "text/plain": [
       "<Figure size 640x480 with 1 Axes>"
      ]
     },
     "metadata": {},
     "output_type": "display_data"
    }
   ],
   "source": [
    "import matplotlib.pyplot as plt\n",
    "\n",
    "loss = history.history['loss']\n",
    "val_loss = history.history['val_loss']\n",
    "epochs = [*range(len(loss))]\n",
    "\n",
    "#------------------------------------------------\n",
    "# Plot training and validation accuracy per epoch\n",
    "#------------------------------------------------\n",
    "plt.plot(epochs, loss, 'r')\n",
    "plt.plot(epochs, val_loss, 'b')\n",
    "plt.title('Training and validation loss')\n",
    "plt.xlabel(\"Epochs\")\n",
    "plt.ylabel(\"loss\")\n",
    "plt.legend([\"loss\", \"Validation loss\"])\n",
    "plt.show()"
   ]
  },
  {
   "cell_type": "code",
   "execution_count": null,
   "id": "89a5188b",
   "metadata": {},
   "outputs": [],
   "source": []
  },
  {
   "cell_type": "code",
   "execution_count": null,
   "id": "243364dd",
   "metadata": {},
   "outputs": [],
   "source": []
  },
  {
   "cell_type": "code",
   "execution_count": null,
   "id": "642a31c1",
   "metadata": {},
   "outputs": [],
   "source": []
  },
  {
   "cell_type": "code",
   "execution_count": null,
   "id": "b812b3e4",
   "metadata": {},
   "outputs": [],
   "source": []
  }
 ],
 "metadata": {
  "kernelspec": {
   "display_name": "Python 3 (ipykernel)",
   "language": "python",
   "name": "python3"
  },
  "language_info": {
   "codemirror_mode": {
    "name": "ipython",
    "version": 3
   },
   "file_extension": ".py",
   "mimetype": "text/x-python",
   "name": "python",
   "nbconvert_exporter": "python",
   "pygments_lexer": "ipython3",
   "version": "3.11.0"
  }
 },
 "nbformat": 4,
 "nbformat_minor": 5
}
