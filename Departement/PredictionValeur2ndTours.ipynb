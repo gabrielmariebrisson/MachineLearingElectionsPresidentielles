{
 "cells": [
  {
   "cell_type": "markdown",
   "id": "a3d35130",
   "metadata": {},
   "source": [
    "# Partie sur la prediction des données"
   ]
  },
  {
   "cell_type": "markdown",
   "id": "0fc97542",
   "metadata": {},
   "source": [
    "## Prédiction des scores des elections du second tour 2022 par Departement"
   ]
  },
  {
   "cell_type": "markdown",
   "id": "fd753c08",
   "metadata": {},
   "source": [
    "### Bibliothèque utilisée"
   ]
  },
  {
   "cell_type": "code",
   "execution_count": 1,
   "id": "1a296d10",
   "metadata": {},
   "outputs": [],
   "source": [
    "import pandas as pd\n",
    "from sklearn.svm import SVC\n",
    "from sklearn.metrics import classification_report\n",
    "from sklearn.model_selection import train_test_split\n",
    "from sklearn.preprocessing import StandardScaler\n",
    "import numpy as np\n",
    "from sklearn.metrics import accuracy_score\n",
    "from scipy.stats import pearsonr\n",
    "from sklearn.metrics import r2_score"
   ]
  },
  {
   "cell_type": "markdown",
   "id": "396fb436",
   "metadata": {},
   "source": [
    "### Chargement du dataset"
   ]
  },
  {
   "cell_type": "code",
   "execution_count": 2,
   "id": "d55e820d",
   "metadata": {},
   "outputs": [
    {
     "name": "stdout",
     "output_type": "stream",
     "text": [
      "                Departement  nbPersonne     Macron      Lepen  niveauEtude  \\\n",
      "0                       Ain      671937  50.982366  49.017659         41.4   \n",
      "1                     Aisne      522791  38.089161  61.910914         29.7   \n",
      "2                    Allier      332443  48.201987  51.798013         33.4   \n",
      "3   Alpes-de-Haute-Provence      166654  47.890556  52.109697         37.2   \n",
      "4              Hautes-Alpes      139942  53.414383  46.585802         41.7   \n",
      "..                      ...         ...        ...        ...          ...   \n",
      "89    Territoire de Belfort      136891  45.499208  54.500792         43.3   \n",
      "90                  Essonne     1316053  58.871340  41.128711         47.5   \n",
      "91           Hauts-de-Seine     1642002  80.148611  19.851389         71.1   \n",
      "92             Val-de-Marne     1426748  71.616596  28.383404         56.1   \n",
      "93               Val-d'Oise     1274374  58.109402  41.890707         45.2   \n",
      "\n",
      "    tauxChomage  Proximité    Immigré  \n",
      "0           5.5       1.66  11.803488  \n",
      "1          10.5       0.83   4.880535  \n",
      "2           7.7       2.39   5.294441  \n",
      "3           8.2       0.96   8.257828  \n",
      "4           6.9       5.43   5.730231  \n",
      "..          ...        ...        ...  \n",
      "89          8.3       6.09  10.135801  \n",
      "90          6.4       3.34  17.046730  \n",
      "91          5.9       4.19  18.718735  \n",
      "92          7.1       2.92  21.810859  \n",
      "93          8.0       1.53  19.920055  \n",
      "\n",
      "[94 rows x 8 columns]\n"
     ]
    }
   ],
   "source": [
    "df_concat = pd.read_excel('Departement.xlsx')\n",
    "print(df_concat)"
   ]
  },
  {
   "cell_type": "markdown",
   "id": "006cb6d7",
   "metadata": {},
   "source": [
    "### Normalisation des données"
   ]
  },
  {
   "cell_type": "code",
   "execution_count": 3,
   "id": "c0844174",
   "metadata": {},
   "outputs": [],
   "source": [
    "# Sélection des features\n",
    "df_concat = df_concat.sample(frac=1)\n",
    "X = df_concat.drop(['Departement','Macron', 'Lepen'], axis=1)\n",
    "features = X.values\n",
    "ScoreMacron =  df_concat['Macron'].values.reshape(-1, 1)\n",
    "ScoreLepen =  df_concat['Lepen'].values.reshape(-1, 1)\n",
    "\n",
    "# Normalisation des données\n",
    "scalerX = StandardScaler()\n",
    "X_scaled = scalerX.fit_transform(features)\n",
    "scalerMacron = StandardScaler()\n",
    "ScoreMacron = scalerMacron.fit_transform(ScoreMacron)\n",
    "scalerLepen = StandardScaler()\n",
    "ScoreLepen = scalerLepen.fit_transform(ScoreLepen)"
   ]
  },
  {
   "cell_type": "markdown",
   "id": "8a2716fa",
   "metadata": {},
   "source": [
    "### Selection des colonnes pertinantes"
   ]
  },
  {
   "cell_type": "code",
   "execution_count": 4,
   "id": "2e9ae1fd",
   "metadata": {},
   "outputs": [],
   "source": [
    "def Selection_Colonne_Pvalue(label):\n",
    "    # Création de l'analyse pour la p_value\n",
    "    p_values = {}\n",
    "    for i, column in enumerate(X.columns):\n",
    "        p_value = pearsonr(X_scaled[:, i], label.flatten())[1]\n",
    "        p_values[i] = p_value\n",
    "\n",
    "    # Sélectionnez les colonnes avec des p-values inférieures au seuil de significativité\n",
    "    significant_indices = [column for column, p_value in p_values.items() if p_value < 0.05]\n",
    "    #print(\"Affichage des colonnes selectionné : \",features.iloc[:, significant_indices].columns)\n",
    "    return X_scaled[:, significant_indices]\n",
    "\n",
    "X_Macron = Selection_Colonne_Pvalue(ScoreMacron)\n",
    "X_Lepen = Selection_Colonne_Pvalue(ScoreLepen)\n",
    "\n",
    "#division des données\n",
    "split_index1 = int(df_concat.shape[0] * 0.8)\n",
    "split_index2 = int(df_concat.shape[0] * 0.9)\n",
    "\n",
    "X_train_Marcon, X_val_Marcon, X_test_Marcon = X_Macron[:split_index1, :], X_Macron[split_index1:split_index2, :], X_Macron[split_index2:, :]\n",
    "y_train_Marcon, y_val_Marcon, y_test_Marcon = ScoreMacron[:split_index1], ScoreMacron[split_index1:split_index2], ScoreMacron[split_index2:]\n",
    "\n",
    "X_train_Lepen, X_val_Lepen, X_test_Lepen = X_Lepen[:split_index1, :], X_Lepen[split_index1:split_index2, :], X_Lepen[split_index2:, :]\n",
    "y_train_Lepen, y_val_Lepen, y_test_Lepen = ScoreLepen[:split_index1], ScoreLepen[split_index1:split_index2], ScoreLepen[split_index2:]"
   ]
  },
  {
   "cell_type": "markdown",
   "id": "c7e99368",
   "metadata": {},
   "source": [
    "### division des données"
   ]
  },
  {
   "cell_type": "code",
   "execution_count": 5,
   "id": "46775ea6",
   "metadata": {},
   "outputs": [],
   "source": [
    "split_index1 = int(df_concat.shape[0] * 0.8)\n",
    "split_index2 = int(df_concat.shape[0] * 0.9)\n",
    "\n",
    "X_train, X_val, X_test = X_scaled[:split_index1, :], X_scaled[split_index1:split_index2, :], X_scaled[split_index2:, :]\n",
    "y_train_Lepen, y_val_Lepen, y_test_Lepen = ScoreLepen[:split_index1], ScoreLepen[split_index1:split_index2], ScoreLepen[split_index2:]\n",
    "y_train_Marcon, y_val_Marcon, y_test_Marcon = ScoreMacron[:split_index1], ScoreMacron[split_index1:split_index2], ScoreMacron[split_index2:]"
   ]
  },
  {
   "cell_type": "markdown",
   "id": "9b2dc0ad",
   "metadata": {},
   "source": [
    "### Application de Regression"
   ]
  },
  {
   "cell_type": "markdown",
   "id": "a8a30908",
   "metadata": {},
   "source": [
    "<h1> Liear Regression </h1>"
   ]
  },
  {
   "cell_type": "code",
   "execution_count": 6,
   "id": "7a26daa3",
   "metadata": {},
   "outputs": [
    {
     "name": "stdout",
     "output_type": "stream",
     "text": [
      "Pour Macron:\n",
      "R-value pour Macron: 0.7024851790122131\n",
      "\n",
      "Pour Le Pen:\n",
      "R-value pour Le Pen: 0.7054358790847198\n"
     ]
    }
   ],
   "source": [
    "from sklearn.linear_model import LinearRegression\n",
    "import numpy as np\n",
    "\n",
    "def linear_regression_r_value(X, y, print_values=False):\n",
    "    # Crée et ajuste le modèle de régression linéaire\n",
    "    linear_reg = LinearRegression()\n",
    "    linear_reg.fit(X, y)\n",
    "    \n",
    "    # Récupère le coefficient de corrélation (r-value)\n",
    "    r_value = linear_reg.score(X, y)\n",
    "    \n",
    "\n",
    "    # Affiche le résumé de la régression linéaire\n",
    "    if print_values:\n",
    "        # Affiche les p-values\n",
    "        p_values = np.append(linear_reg.intercept_, linear_reg.coef_)\n",
    "        print(\"P-values:\")\n",
    "        for i, p_value in enumerate(p_values):\n",
    "            print(f\"Feature {i}: {p_value}\")\n",
    "            \n",
    "    return r_value\n",
    "\n",
    "# Pour Macron\n",
    "print(\"Pour Macron:\")\n",
    "r_value_Macron = linear_regression_r_value(X_train_Marcon, y_train_Marcon, print_values=False)\n",
    "print(\"R-value pour Macron:\", r_value_Macron)\n",
    "\n",
    "# Pour Le Pen\n",
    "print(\"\\nPour Le Pen:\")\n",
    "r_value_Lepen = linear_regression_r_value(X_train_Lepen, y_train_Lepen, print_values=False)\n",
    "print(\"R-value pour Le Pen:\", r_value_Lepen)\n"
   ]
  },
  {
   "cell_type": "markdown",
   "id": "1f4d9e19",
   "metadata": {},
   "source": [
    "<h1> Ridge </h1>"
   ]
  },
  {
   "cell_type": "code",
   "execution_count": 7,
   "id": "c4afc6b0",
   "metadata": {},
   "outputs": [
    {
     "name": "stdout",
     "output_type": "stream",
     "text": [
      "Pour Macron:\n",
      "R-value pour Macron: 0.7018095172451714\n",
      "\n",
      "Pour Le Pen:\n",
      "R-value pour Le Pen: 0.7047729919625582\n"
     ]
    }
   ],
   "source": [
    "from sklearn.linear_model import Ridge\n",
    "import numpy as np\n",
    "\n",
    "def ridge_regression_r_value(X, y, print_values=False):\n",
    "    # Crée et ajuste le modèle de régression linéaire Ridge\n",
    "    ridge_reg = Ridge()\n",
    "    ridge_reg.fit(X, y)\n",
    "    \n",
    "    # Récupère le coefficient de corrélation (r-value)\n",
    "    r_value = ridge_reg.score(X, y)\n",
    "    \n",
    "    if print_values:\n",
    "        # Affiche les p-values\n",
    "        p_values = np.append(ridge_reg.intercept_, ridge_reg.coef_)\n",
    "        print(\"P-values:\")\n",
    "        for i, p_value in enumerate(p_values):\n",
    "            print(f\"Feature {i}: {p_value}\")\n",
    "    \n",
    "    return r_value\n",
    "\n",
    "# Pour Macron\n",
    "print(\"Pour Macron:\")\n",
    "r_value_Macron = ridge_regression_r_value(X_train_Marcon, y_train_Marcon, print_values=False)\n",
    "print(\"R-value pour Macron:\", r_value_Macron)\n",
    "\n",
    "# Pour Le Pen\n",
    "print(\"\\nPour Le Pen:\")\n",
    "r_value_Lepen = ridge_regression_r_value(X_train_Lepen, y_train_Lepen, print_values=False)\n",
    "print(\"R-value pour Le Pen:\", r_value_Lepen)"
   ]
  },
  {
   "cell_type": "markdown",
   "id": "cca85000",
   "metadata": {},
   "source": [
    "<h1> SGD </h1>"
   ]
  },
  {
   "cell_type": "code",
   "execution_count": 8,
   "id": "44893c0f",
   "metadata": {},
   "outputs": [
    {
     "name": "stdout",
     "output_type": "stream",
     "text": [
      "Pour Macron:\n",
      "R-value pour Macron: 0.6702741520135629\n",
      "\n",
      "Pour Le Pen:\n",
      "R-value pour Le Pen: 0.6729188385955873\n"
     ]
    },
    {
     "name": "stderr",
     "output_type": "stream",
     "text": [
      "/opt/anaconda3/lib/python3.11/site-packages/sklearn/utils/validation.py:1143: DataConversionWarning: A column-vector y was passed when a 1d array was expected. Please change the shape of y to (n_samples, ), for example using ravel().\n",
      "  y = column_or_1d(y, warn=True)\n",
      "/opt/anaconda3/lib/python3.11/site-packages/sklearn/utils/validation.py:1143: DataConversionWarning: A column-vector y was passed when a 1d array was expected. Please change the shape of y to (n_samples, ), for example using ravel().\n",
      "  y = column_or_1d(y, warn=True)\n"
     ]
    }
   ],
   "source": [
    "from sklearn.linear_model import SGDRegressor\n",
    "import numpy as np\n",
    "\n",
    "def sgd_regression_r_value(X, y, print_values=False):\n",
    "    # Crée et ajuste le modèle de régression linéaire avec la descente de gradient stochastique\n",
    "    sgd_reg = SGDRegressor()\n",
    "    sgd_reg.fit(X, y)\n",
    "    \n",
    "    # Récupère le coefficient de corrélation (r-value)\n",
    "    r_value = sgd_reg.score(X, y)\n",
    "    \n",
    "    if print_values:\n",
    "        # Affiche les p-values\n",
    "        p_values = np.append(sgd_reg.intercept_, sgd_reg.coef_)\n",
    "        print(\"P-values:\")\n",
    "        for i, p_value in enumerate(p_values):\n",
    "            print(f\"Feature {i}: {p_value}\")\n",
    "    \n",
    "    return r_value\n",
    "\n",
    "# Pour Macron\n",
    "print(\"Pour Macron:\")\n",
    "r_value_Macron = sgd_regression_r_value(X_train_Marcon, y_train_Marcon)\n",
    "print(\"R-value pour Macron:\", r_value_Macron)\n",
    "\n",
    "# Pour Le Pen\n",
    "print(\"\\nPour Le Pen:\")\n",
    "r_value_Lepen = sgd_regression_r_value(X_train_Lepen, y_train_Lepen)\n",
    "print(\"R-value pour Le Pen:\", r_value_Lepen)\n"
   ]
  },
  {
   "cell_type": "markdown",
   "id": "abb7dd95",
   "metadata": {},
   "source": [
    "### Foret Aleatoire"
   ]
  },
  {
   "cell_type": "code",
   "execution_count": 9,
   "id": "c299b1ab",
   "metadata": {},
   "outputs": [
    {
     "name": "stdout",
     "output_type": "stream",
     "text": [
      "Corrélation entre les valeurs réelles et prédites : 0.674663500079006\n",
      "P-value associée : 0.0323512925217241\n",
      "R-value : 0.4214155772917294\n"
     ]
    }
   ],
   "source": [
    "from sklearn.ensemble import RandomForestRegressor\n",
    "\n",
    "#Macron\n",
    "rf_regressor = RandomForestRegressor(n_estimators=100) \n",
    "rf_regressor.fit(X_train_Marcon, y_train_Marcon.ravel())\n",
    "\n",
    "predictions_rf = rf_regressor.predict(X_test_Marcon)\n",
    "\n",
    "correlation, p_value = pearsonr(y_test_Marcon.ravel(), predictions_rf)\n",
    "print(\"Corrélation entre les valeurs réelles et prédites :\", correlation)\n",
    "print(\"P-value associée :\", p_value)\n",
    "print(\"R-value :\", r2_score(y_test_Marcon.ravel(), predictions_rf))"
   ]
  },
  {
   "cell_type": "code",
   "execution_count": 10,
   "id": "dff597f0",
   "metadata": {},
   "outputs": [
    {
     "name": "stdout",
     "output_type": "stream",
     "text": [
      "Corrélation entre les valeurs réelles et prédites : 0.6727867142325544\n",
      "P-value associée : 0.03301989467238373\n",
      "R-value : 0.435787499283917\n"
     ]
    }
   ],
   "source": [
    "#Lepen\n",
    "rf_regressor = RandomForestRegressor(n_estimators=100) \n",
    "rf_regressor.fit(X_train_Lepen, y_train_Lepen.ravel())\n",
    "\n",
    "predictions_rf = rf_regressor.predict(X_test_Lepen)\n",
    "\n",
    "correlation, p_value = pearsonr(y_test_Lepen.ravel(), predictions_rf)\n",
    "\n",
    "print(\"Corrélation entre les valeurs réelles et prédites :\", correlation)\n",
    "print(\"P-value associée :\", p_value)\n",
    "print(\"R-value :\", r2_score(y_test_Lepen.ravel(), predictions_rf))"
   ]
  },
  {
   "cell_type": "markdown",
   "id": "c6abc5fa",
   "metadata": {},
   "source": [
    "### SVM"
   ]
  },
  {
   "cell_type": "code",
   "execution_count": 11,
   "id": "1315c31f",
   "metadata": {},
   "outputs": [
    {
     "name": "stdout",
     "output_type": "stream",
     "text": [
      "Corrélation entre les valeurs réelles et prédites : 0.6765777527437352\n",
      "P-value associée : 0.031678879934565904\n",
      "R-value : 0.400656489649295\n",
      "Corrélation entre les valeurs réelles et prédites : 0.5789656701419764\n",
      "P-value associée : 0.07947360898272887\n",
      "R-value : 0.12573496304850607\n"
     ]
    }
   ],
   "source": [
    "from sklearn.svm import SVR\n",
    "\n",
    "svm_regressor = SVR(kernel='linear')\n",
    "svm_regressor.fit(X_train_Marcon, y_train_Marcon.ravel())\n",
    "\n",
    "y_pred_linear = svm_regressor.predict(X_test_Marcon)\n",
    "correlation, p_value = pearsonr(y_test_Marcon.ravel(), y_pred_linear)\n",
    "\n",
    "print(\"Corrélation entre les valeurs réelles et prédites :\", correlation)\n",
    "print(\"P-value associée :\", p_value)\n",
    "print(\"R-value :\", r2_score(y_test_Marcon.ravel(), y_pred_linear))\n",
    "\n",
    "svm_regressor = SVR(kernel='poly')\n",
    "svm_regressor.fit(X_train_Marcon, y_train_Marcon.ravel())\n",
    "\n",
    "y_pred_linear = svm_regressor.predict(X_test_Marcon)\n",
    "correlation, p_value = pearsonr(y_test_Marcon.ravel(), y_pred_linear)\n",
    "\n",
    "print(\"Corrélation entre les valeurs réelles et prédites :\", correlation)\n",
    "print(\"P-value associée :\", p_value)\n",
    "print(\"R-value :\", r2_score(y_test_Marcon.ravel(), y_pred_linear))"
   ]
  },
  {
   "cell_type": "code",
   "execution_count": 12,
   "id": "56a01aba",
   "metadata": {},
   "outputs": [
    {
     "name": "stdout",
     "output_type": "stream",
     "text": [
      "Corrélation entre les valeurs réelles et prédites : 0.6721621958613686\n",
      "P-value associée : 0.03324444178311134\n",
      "R-value : 0.40953666663030763\n"
     ]
    }
   ],
   "source": [
    "svm_regressor = SVR(kernel='linear')\n",
    "svm_regressor.fit(X_train_Lepen, y_train_Lepen.ravel())\n",
    "\n",
    "y_pred_linear = svm_regressor.predict(X_test_Lepen)\n",
    "correlation, p_value = pearsonr(y_test_Lepen.ravel(), y_pred_linear)\n",
    "\n",
    "print(\"Corrélation entre les valeurs réelles et prédites :\", correlation)\n",
    "print(\"P-value associée :\", p_value)\n",
    "print(\"R-value :\", r2_score(y_test_Lepen.ravel(), y_pred_linear))"
   ]
  },
  {
   "cell_type": "code",
   "execution_count": 13,
   "id": "b6a9e74a",
   "metadata": {},
   "outputs": [
    {
     "name": "stdout",
     "output_type": "stream",
     "text": [
      "Corrélation entre les valeurs réelles et prédites : 0.574381284742464\n",
      "P-value associée : 0.0824554487365488\n",
      "R-value : 0.08906352671120654\n"
     ]
    }
   ],
   "source": [
    "svm_regressor = SVR(kernel='poly')\n",
    "svm_regressor.fit(X_train_Lepen, y_train_Lepen.ravel())\n",
    "\n",
    "y_pred_linear = svm_regressor.predict(X_test_Lepen)\n",
    "correlation, p_value = pearsonr(y_test_Lepen.ravel(), y_pred_linear)\n",
    "\n",
    "print(\"Corrélation entre les valeurs réelles et prédites :\", correlation)\n",
    "print(\"P-value associée :\", p_value)\n",
    "print(\"R-value :\", r2_score(y_test_Lepen.ravel(), y_pred_linear))"
   ]
  },
  {
   "cell_type": "markdown",
   "id": "390e937f",
   "metadata": {},
   "source": [
    "### Reseau de neuronne"
   ]
  },
  {
   "cell_type": "code",
   "execution_count": 14,
   "id": "9b381e23",
   "metadata": {},
   "outputs": [],
   "source": [
    "import tensorflow as tf\n",
    "from tensorflow.keras import optimizers, losses, callbacks\n",
    "import numpy as np\n",
    "\n",
    "X_trainNN = np.array(X_train,dtype=float)\n",
    "y_trainNN_Lepen = np.array(y_train_Lepen,dtype=float)\n",
    "y_trainNN_Marcon = np.array(y_train_Marcon,dtype=float)\n",
    "\n",
    "X_valNN = np.array(X_val,dtype=float)\n",
    "y_valNN_Lepen = np.array(y_val_Lepen,dtype=float)\n",
    "y_valNN_Marcon = np.array(y_val_Marcon,dtype=float)\n",
    "\n",
    "X_testNN = np.array(X_test,dtype=float)\n",
    "y_testNN_Lepen = np.array(y_test_Lepen,dtype=float)\n",
    "y_testNN_Marcon = np.array(y_test_Marcon,dtype=float)\n",
    "\n",
    "\n",
    "CallBackSave = callbacks.ModelCheckpoint(\"best_model_valeur.keras\", \n",
    "                                                 monitor='val_loss', \n",
    "                                                 save_best_only=True, \n",
    "                                                 mode='min')\n",
    "\n",
    "callbackStop = callbacks.EarlyStopping(monitor='val_loss', \n",
    "                                                  patience=20)\n",
    "\n",
    "\"\"\"class myCallback(tf.keras.callbacks.Callback):\n",
    "    def on_epoch_end(self, epoch, logs={}):\n",
    "        if logs.get('val_loss') is not None and logs.get('val_loss') < 0.3:\n",
    "            print(\"\\nReached 99.9% accuracy so cancelling training!\")\n",
    "            self.model.stop_training = True\n",
    "\n",
    "callbackStop = myCallback()\"\"\"\n",
    "\n",
    "def createModel():\n",
    "    #model = tf.keras.Sequential([tf.keras.layers.Dense(units=1, input_shape=[features.shape[1]])])\n",
    "\n",
    "    model = tf.keras.models.Sequential([\n",
    "    tf.keras.layers.Dense(features.shape[1], activation='relu'),\n",
    "    tf.keras.layers.Dense(512, activation='relu'),\n",
    "    tf.keras.layers.Dense(256, activation='relu'),\n",
    "    tf.keras.layers.Dense(128, activation='relu'),\n",
    "    tf.keras.layers.Dense(64, activation='relu'),\n",
    "    tf.keras.layers.Dense(32, activation='relu'),\n",
    "    tf.keras.layers.Dense(1)\n",
    "    ])\n",
    "    model.compile(loss='mean_squared_error',\n",
    "                  optimizer=optimizers.Adam())\n",
    "    return model\n",
    "\n",
    "def affichagePrediction(prediction, reel):\n",
    "    for i in range(len(prediction)):\n",
    "        print(\"valeur prédite :\", prediction[i], \"valeur réelle :\", reel[i], \"écart :\", np.abs(prediction[i] - reel[i]))"
   ]
  },
  {
   "cell_type": "markdown",
   "id": "e50100b6",
   "metadata": {},
   "source": [
    "#### Entrainement pour Macron"
   ]
  },
  {
   "cell_type": "code",
   "execution_count": 15,
   "id": "70d334b4",
   "metadata": {},
   "outputs": [
    {
     "name": "stdout",
     "output_type": "stream",
     "text": [
      "Epoch 1/1000\n",
      "\u001b[1m3/3\u001b[0m \u001b[32m━━━━━━━━━━━━━━━━━━━━\u001b[0m\u001b[37m\u001b[0m \u001b[1m2s\u001b[0m 71ms/step - loss: 0.9782 - val_loss: 0.5785\n",
      "Epoch 2/1000\n",
      "\u001b[1m3/3\u001b[0m \u001b[32m━━━━━━━━━━━━━━━━━━━━\u001b[0m\u001b[37m\u001b[0m \u001b[1m0s\u001b[0m 19ms/step - loss: 0.8433 - val_loss: 0.4660\n",
      "Epoch 3/1000\n",
      "\u001b[1m3/3\u001b[0m \u001b[32m━━━━━━━━━━━━━━━━━━━━\u001b[0m\u001b[37m\u001b[0m \u001b[1m0s\u001b[0m 18ms/step - loss: 0.6112 - val_loss: 0.3158\n",
      "Epoch 4/1000\n",
      "\u001b[1m3/3\u001b[0m \u001b[32m━━━━━━━━━━━━━━━━━━━━\u001b[0m\u001b[37m\u001b[0m \u001b[1m0s\u001b[0m 19ms/step - loss: 0.4953 - val_loss: 0.1838\n",
      "Epoch 5/1000\n",
      "\u001b[1m3/3\u001b[0m \u001b[32m━━━━━━━━━━━━━━━━━━━━\u001b[0m\u001b[37m\u001b[0m \u001b[1m0s\u001b[0m 17ms/step - loss: 0.4563 - val_loss: 0.1778\n",
      "Epoch 6/1000\n",
      "\u001b[1m3/3\u001b[0m \u001b[32m━━━━━━━━━━━━━━━━━━━━\u001b[0m\u001b[37m\u001b[0m \u001b[1m0s\u001b[0m 18ms/step - loss: 0.4718 - val_loss: 0.1602\n",
      "Epoch 7/1000\n",
      "\u001b[1m3/3\u001b[0m \u001b[32m━━━━━━━━━━━━━━━━━━━━\u001b[0m\u001b[37m\u001b[0m \u001b[1m0s\u001b[0m 17ms/step - loss: 0.3819 - val_loss: 0.1282\n",
      "Epoch 8/1000\n",
      "\u001b[1m3/3\u001b[0m \u001b[32m━━━━━━━━━━━━━━━━━━━━\u001b[0m\u001b[37m\u001b[0m \u001b[1m0s\u001b[0m 9ms/step - loss: 0.4428 - val_loss: 0.1334\n",
      "Epoch 9/1000\n",
      "\u001b[1m3/3\u001b[0m \u001b[32m━━━━━━━━━━━━━━━━━━━━\u001b[0m\u001b[37m\u001b[0m \u001b[1m0s\u001b[0m 9ms/step - loss: 0.4125 - val_loss: 0.1959\n",
      "Epoch 10/1000\n",
      "\u001b[1m3/3\u001b[0m \u001b[32m━━━━━━━━━━━━━━━━━━━━\u001b[0m\u001b[37m\u001b[0m \u001b[1m0s\u001b[0m 9ms/step - loss: 0.3947 - val_loss: 0.2070\n",
      "Epoch 11/1000\n",
      "\u001b[1m3/3\u001b[0m \u001b[32m━━━━━━━━━━━━━━━━━━━━\u001b[0m\u001b[37m\u001b[0m \u001b[1m0s\u001b[0m 9ms/step - loss: 0.3960 - val_loss: 0.1414\n",
      "Epoch 12/1000\n",
      "\u001b[1m3/3\u001b[0m \u001b[32m━━━━━━━━━━━━━━━━━━━━\u001b[0m\u001b[37m\u001b[0m \u001b[1m0s\u001b[0m 17ms/step - loss: 0.3279 - val_loss: 0.1157\n",
      "Epoch 13/1000\n",
      "\u001b[1m3/3\u001b[0m \u001b[32m━━━━━━━━━━━━━━━━━━━━\u001b[0m\u001b[37m\u001b[0m \u001b[1m0s\u001b[0m 9ms/step - loss: 0.3403 - val_loss: 0.1342\n",
      "Epoch 14/1000\n",
      "\u001b[1m3/3\u001b[0m \u001b[32m━━━━━━━━━━━━━━━━━━━━\u001b[0m\u001b[37m\u001b[0m \u001b[1m0s\u001b[0m 9ms/step - loss: 0.2912 - val_loss: 0.1341\n",
      "Epoch 15/1000\n",
      "\u001b[1m3/3\u001b[0m \u001b[32m━━━━━━━━━━━━━━━━━━━━\u001b[0m\u001b[37m\u001b[0m \u001b[1m0s\u001b[0m 16ms/step - loss: 0.3057 - val_loss: 0.1018\n",
      "Epoch 16/1000\n",
      "\u001b[1m3/3\u001b[0m \u001b[32m━━━━━━━━━━━━━━━━━━━━\u001b[0m\u001b[37m\u001b[0m \u001b[1m0s\u001b[0m 9ms/step - loss: 0.2486 - val_loss: 0.1157\n",
      "Epoch 17/1000\n",
      "\u001b[1m3/3\u001b[0m \u001b[32m━━━━━━━━━━━━━━━━━━━━\u001b[0m\u001b[37m\u001b[0m \u001b[1m0s\u001b[0m 9ms/step - loss: 0.2685 - val_loss: 0.2370\n",
      "Epoch 18/1000\n",
      "\u001b[1m3/3\u001b[0m \u001b[32m━━━━━━━━━━━━━━━━━━━━\u001b[0m\u001b[37m\u001b[0m \u001b[1m0s\u001b[0m 9ms/step - loss: 0.2981 - val_loss: 0.2258\n",
      "Epoch 19/1000\n",
      "\u001b[1m3/3\u001b[0m \u001b[32m━━━━━━━━━━━━━━━━━━━━\u001b[0m\u001b[37m\u001b[0m \u001b[1m0s\u001b[0m 9ms/step - loss: 0.2255 - val_loss: 0.2296\n",
      "Epoch 20/1000\n",
      "\u001b[1m3/3\u001b[0m \u001b[32m━━━━━━━━━━━━━━━━━━━━\u001b[0m\u001b[37m\u001b[0m \u001b[1m0s\u001b[0m 9ms/step - loss: 0.2868 - val_loss: 0.2383\n",
      "Epoch 21/1000\n",
      "\u001b[1m3/3\u001b[0m \u001b[32m━━━━━━━━━━━━━━━━━━━━\u001b[0m\u001b[37m\u001b[0m \u001b[1m0s\u001b[0m 9ms/step - loss: 0.2252 - val_loss: 0.3142\n",
      "Epoch 22/1000\n",
      "\u001b[1m3/3\u001b[0m \u001b[32m━━━━━━━━━━━━━━━━━━━━\u001b[0m\u001b[37m\u001b[0m \u001b[1m0s\u001b[0m 9ms/step - loss: 0.2490 - val_loss: 0.2309\n",
      "Epoch 23/1000\n",
      "\u001b[1m3/3\u001b[0m \u001b[32m━━━━━━━━━━━━━━━━━━━━\u001b[0m\u001b[37m\u001b[0m \u001b[1m0s\u001b[0m 9ms/step - loss: 0.2032 - val_loss: 0.1824\n",
      "Epoch 24/1000\n",
      "\u001b[1m3/3\u001b[0m \u001b[32m━━━━━━━━━━━━━━━━━━━━\u001b[0m\u001b[37m\u001b[0m \u001b[1m0s\u001b[0m 9ms/step - loss: 0.2219 - val_loss: 0.1973\n",
      "Epoch 25/1000\n",
      "\u001b[1m3/3\u001b[0m \u001b[32m━━━━━━━━━━━━━━━━━━━━\u001b[0m\u001b[37m\u001b[0m \u001b[1m0s\u001b[0m 9ms/step - loss: 0.1945 - val_loss: 0.2495\n",
      "Epoch 26/1000\n",
      "\u001b[1m3/3\u001b[0m \u001b[32m━━━━━━━━━━━━━━━━━━━━\u001b[0m\u001b[37m\u001b[0m \u001b[1m0s\u001b[0m 9ms/step - loss: 0.2486 - val_loss: 0.2314\n",
      "Epoch 27/1000\n",
      "\u001b[1m3/3\u001b[0m \u001b[32m━━━━━━━━━━━━━━━━━━━━\u001b[0m\u001b[37m\u001b[0m \u001b[1m0s\u001b[0m 9ms/step - loss: 0.2325 - val_loss: 0.1779\n",
      "Epoch 28/1000\n",
      "\u001b[1m3/3\u001b[0m \u001b[32m━━━━━━━━━━━━━━━━━━━━\u001b[0m\u001b[37m\u001b[0m \u001b[1m0s\u001b[0m 9ms/step - loss: 0.1886 - val_loss: 0.1488\n",
      "Epoch 29/1000\n",
      "\u001b[1m3/3\u001b[0m \u001b[32m━━━━━━━━━━━━━━━━━━━━\u001b[0m\u001b[37m\u001b[0m \u001b[1m0s\u001b[0m 9ms/step - loss: 0.2165 - val_loss: 0.1888\n",
      "Epoch 30/1000\n",
      "\u001b[1m3/3\u001b[0m \u001b[32m━━━━━━━━━━━━━━━━━━━━\u001b[0m\u001b[37m\u001b[0m \u001b[1m0s\u001b[0m 9ms/step - loss: 0.2022 - val_loss: 0.2425\n",
      "Epoch 31/1000\n",
      "\u001b[1m3/3\u001b[0m \u001b[32m━━━━━━━━━━━━━━━━━━━━\u001b[0m\u001b[37m\u001b[0m \u001b[1m0s\u001b[0m 9ms/step - loss: 0.1770 - val_loss: 0.2423\n",
      "Epoch 32/1000\n",
      "\u001b[1m3/3\u001b[0m \u001b[32m━━━━━━━━━━━━━━━━━━━━\u001b[0m\u001b[37m\u001b[0m \u001b[1m0s\u001b[0m 9ms/step - loss: 0.1636 - val_loss: 0.2152\n",
      "Epoch 33/1000\n",
      "\u001b[1m3/3\u001b[0m \u001b[32m━━━━━━━━━━━━━━━━━━━━\u001b[0m\u001b[37m\u001b[0m \u001b[1m0s\u001b[0m 9ms/step - loss: 0.1657 - val_loss: 0.1978\n",
      "Epoch 34/1000\n",
      "\u001b[1m3/3\u001b[0m \u001b[32m━━━━━━━━━━━━━━━━━━━━\u001b[0m\u001b[37m\u001b[0m \u001b[1m0s\u001b[0m 9ms/step - loss: 0.1684 - val_loss: 0.2068\n",
      "Epoch 35/1000\n",
      "\u001b[1m3/3\u001b[0m \u001b[32m━━━━━━━━━━━━━━━━━━━━\u001b[0m\u001b[37m\u001b[0m \u001b[1m0s\u001b[0m 9ms/step - loss: 0.1757 - val_loss: 0.2276\n"
     ]
    }
   ],
   "source": [
    "model = createModel()\n",
    "history = model.fit(X_trainNN, y_trainNN_Marcon,\n",
    "                    epochs=1000,validation_data=(X_valNN, y_valNN_Marcon),\n",
    "                    callbacks=[CallBackSave,callbackStop]\n",
    "                   )"
   ]
  },
  {
   "cell_type": "code",
   "execution_count": 16,
   "id": "7d051aa5",
   "metadata": {},
   "outputs": [
    {
     "name": "stdout",
     "output_type": "stream",
     "text": [
      "\u001b[1m1/1\u001b[0m \u001b[32m━━━━━━━━━━━━━━━━━━━━\u001b[0m\u001b[37m\u001b[0m \u001b[1m0s\u001b[0m 44ms/step\n",
      "Sur les entrainement la valeur reel :  [[41.66354839]] ; valeur predite :  [[46.01439]]\n",
      "\u001b[1m1/1\u001b[0m \u001b[32m━━━━━━━━━━━━━━━━━━━━\u001b[0m\u001b[37m\u001b[0m \u001b[1m0s\u001b[0m 42ms/step\n",
      "Affichage des predictions sur le test pour Macron\n",
      "valeur prédite : 43.199455 valeur réelle : [46.60402655] écart : [3.40457129]\n",
      "valeur prédite : 47.85914 valeur réelle : [49.57209738] écart : [1.71295889]\n",
      "valeur prédite : 47.48284 valeur réelle : [50.37074176] écart : [2.88790027]\n",
      "valeur prédite : 59.866035 valeur réelle : [58.87134021] écart : [0.99469526]\n",
      "valeur prédite : 51.06352 valeur réelle : [60.84016949] écart : [9.77665097]\n",
      "valeur prédite : 51.6028 valeur réelle : [42.6308589] écart : [8.97193957]\n",
      "valeur prédite : 45.977764 valeur réelle : [46.77970954] écart : [0.80194541]\n",
      "valeur prédite : 41.9428 valeur réelle : [41.62091314] écart : [0.32188547]\n",
      "valeur prédite : 55.166233 valeur réelle : [58.59172691] écart : [3.42549384]\n",
      "valeur prédite : 47.314938 valeur réelle : [47.13029661] écart : [0.18464098]\n",
      "\u001b[1m1/1\u001b[0m \u001b[32m━━━━━━━━━━━━━━━━━━━━\u001b[0m\u001b[37m\u001b[0m \u001b[1m0s\u001b[0m 13ms/step - loss: 0.3123\n",
      "Perte de test : 0.31226056814193726\n",
      "R-value : 0.4990524902756218\n"
     ]
    }
   ],
   "source": [
    "best_model = tf.keras.models.load_model(\"best_model_valeur.keras\")\n",
    "\n",
    "print(\"Sur les entrainement la valeur reel : \", scalerMacron.inverse_transform(y_trainNN_Marcon[0].reshape(-1, 1)), \"; valeur predite : \",scalerMacron.inverse_transform(best_model.predict(X_trainNN[0:1]).reshape(-1, 1)))\n",
    "\n",
    "\n",
    "y_pred_NN = best_model.predict(X_testNN)\n",
    "\n",
    "reel = scalerMacron.inverse_transform(y_testNN_Marcon)\n",
    "prediction = scalerMacron.inverse_transform(y_pred_NN.reshape(-1, 1)).flatten()\n",
    "\n",
    "print(\"Affichage des predictions sur le test pour Macron\")\n",
    "affichagePrediction(prediction, reel)\n",
    "\n",
    "test_loss = model.evaluate(X_testNN, y_testNN_Marcon)\n",
    "print(\"Perte de test :\", test_loss)\n",
    "print(\"R-value :\", r2_score(np.squeeze(y_testNN_Marcon),  np.squeeze(y_pred_NN)))"
   ]
  },
  {
   "cell_type": "code",
   "execution_count": 17,
   "id": "b985b247",
   "metadata": {},
   "outputs": [
    {
     "data": {
      "image/png": "[encoded data removed]",
      "text/plain": [
       "<Figure size 640x480 with 1 Axes>"
      ]
     },
     "metadata": {},
     "output_type": "display_data"
    }
   ],
   "source": [
    "import matplotlib.pyplot as plt\n",
    "\n",
    "loss = history.history['loss']\n",
    "val_loss = history.history['val_loss']\n",
    "epochs = [*range(len(loss))]\n",
    "\n",
    "#------------------------------------------------\n",
    "# Plot training and validation accuracy per epoch\n",
    "#------------------------------------------------\n",
    "plt.plot(epochs, loss, 'r')\n",
    "plt.plot(epochs, val_loss, 'b')\n",
    "plt.title('Training and validation loss')\n",
    "plt.xlabel(\"Epochs\")\n",
    "plt.ylabel(\"loss\")\n",
    "plt.legend([\"loss\", \"Validation loss\"])\n",
    "plt.show()"
   ]
  },
  {
   "cell_type": "markdown",
   "id": "5d47daaf",
   "metadata": {},
   "source": [
    "#### Entrainement pour Lepen"
   ]
  },
  {
   "cell_type": "code",
   "execution_count": 18,
   "id": "d73c320b",
   "metadata": {},
   "outputs": [
    {
     "name": "stdout",
     "output_type": "stream",
     "text": [
      "Epoch 1/1000\n",
      "\u001b[1m3/3\u001b[0m \u001b[32m━━━━━━━━━━━━━━━━━━━━\u001b[0m\u001b[37m\u001b[0m \u001b[1m1s\u001b[0m 47ms/step - loss: 0.8087 - val_loss: 0.6556\n",
      "Epoch 2/1000\n",
      "\u001b[1m3/3\u001b[0m \u001b[32m━━━━━━━━━━━━━━━━━━━━\u001b[0m\u001b[37m\u001b[0m \u001b[1m0s\u001b[0m 9ms/step - loss: 0.8260 - val_loss: 0.6267\n",
      "Epoch 3/1000\n",
      "\u001b[1m3/3\u001b[0m \u001b[32m━━━━━━━━━━━━━━━━━━━━\u001b[0m\u001b[37m\u001b[0m \u001b[1m0s\u001b[0m 9ms/step - loss: 0.6621 - val_loss: 0.5999\n",
      "Epoch 4/1000\n",
      "\u001b[1m3/3\u001b[0m \u001b[32m━━━━━━━━━━━━━━━━━━━━\u001b[0m\u001b[37m\u001b[0m \u001b[1m0s\u001b[0m 9ms/step - loss: 0.6615 - val_loss: 0.5825\n",
      "Epoch 5/1000\n",
      "\u001b[1m3/3\u001b[0m \u001b[32m━━━━━━━━━━━━━━━━━━━━\u001b[0m\u001b[37m\u001b[0m \u001b[1m0s\u001b[0m 9ms/step - loss: 0.4840 - val_loss: 0.5682\n",
      "Epoch 6/1000\n",
      "\u001b[1m3/3\u001b[0m \u001b[32m━━━━━━━━━━━━━━━━━━━━\u001b[0m\u001b[37m\u001b[0m \u001b[1m0s\u001b[0m 9ms/step - loss: 0.4225 - val_loss: 0.5706\n",
      "Epoch 7/1000\n",
      "\u001b[1m3/3\u001b[0m \u001b[32m━━━━━━━━━━━━━━━━━━━━\u001b[0m\u001b[37m\u001b[0m \u001b[1m0s\u001b[0m 9ms/step - loss: 0.3701 - val_loss: 0.5636\n",
      "Epoch 8/1000\n",
      "\u001b[1m3/3\u001b[0m \u001b[32m━━━━━━━━━━━━━━━━━━━━\u001b[0m\u001b[37m\u001b[0m \u001b[1m0s\u001b[0m 9ms/step - loss: 0.3423 - val_loss: 0.5306\n",
      "Epoch 9/1000\n",
      "\u001b[1m3/3\u001b[0m \u001b[32m━━━━━━━━━━━━━━━━━━━━\u001b[0m\u001b[37m\u001b[0m \u001b[1m0s\u001b[0m 9ms/step - loss: 0.2638 - val_loss: 0.4935\n",
      "Epoch 10/1000\n",
      "\u001b[1m3/3\u001b[0m \u001b[32m━━━━━━━━━━━━━━━━━━━━\u001b[0m\u001b[37m\u001b[0m \u001b[1m0s\u001b[0m 9ms/step - loss: 0.2690 - val_loss: 0.4443\n",
      "Epoch 11/1000\n",
      "\u001b[1m3/3\u001b[0m \u001b[32m━━━━━━━━━━━━━━━━━━━━\u001b[0m\u001b[37m\u001b[0m \u001b[1m0s\u001b[0m 9ms/step - loss: 0.2501 - val_loss: 0.4250\n",
      "Epoch 12/1000\n",
      "\u001b[1m3/3\u001b[0m \u001b[32m━━━━━━━━━━━━━━━━━━━━\u001b[0m\u001b[37m\u001b[0m \u001b[1m0s\u001b[0m 9ms/step - loss: 0.2453 - val_loss: 0.4052\n",
      "Epoch 13/1000\n",
      "\u001b[1m3/3\u001b[0m \u001b[32m━━━━━━━━━━━━━━━━━━━━\u001b[0m\u001b[37m\u001b[0m \u001b[1m0s\u001b[0m 9ms/step - loss: 0.2443 - val_loss: 0.3285\n",
      "Epoch 14/1000\n",
      "\u001b[1m3/3\u001b[0m \u001b[32m━━━━━━━━━━━━━━━━━━━━\u001b[0m\u001b[37m\u001b[0m \u001b[1m0s\u001b[0m 9ms/step - loss: 0.2279 - val_loss: 0.2826\n",
      "Epoch 15/1000\n",
      "\u001b[1m3/3\u001b[0m \u001b[32m━━━━━━━━━━━━━━━━━━━━\u001b[0m\u001b[37m\u001b[0m \u001b[1m0s\u001b[0m 9ms/step - loss: 0.2484 - val_loss: 0.3795\n",
      "Epoch 16/1000\n",
      "\u001b[1m3/3\u001b[0m \u001b[32m━━━━━━━━━━━━━━━━━━━━\u001b[0m\u001b[37m\u001b[0m \u001b[1m0s\u001b[0m 9ms/step - loss: 0.2017 - val_loss: 0.3508\n",
      "Epoch 17/1000\n",
      "\u001b[1m3/3\u001b[0m \u001b[32m━━━━━━━━━━━━━━━━━━━━\u001b[0m\u001b[37m\u001b[0m \u001b[1m0s\u001b[0m 9ms/step - loss: 0.1913 - val_loss: 0.2863\n",
      "Epoch 18/1000\n",
      "\u001b[1m3/3\u001b[0m \u001b[32m━━━━━━━━━━━━━━━━━━━━\u001b[0m\u001b[37m\u001b[0m \u001b[1m0s\u001b[0m 9ms/step - loss: 0.2029 - val_loss: 0.2895\n",
      "Epoch 19/1000\n",
      "\u001b[1m3/3\u001b[0m \u001b[32m━━━━━━━━━━━━━━━━━━━━\u001b[0m\u001b[37m\u001b[0m \u001b[1m0s\u001b[0m 9ms/step - loss: 0.2132 - val_loss: 0.2950\n",
      "Epoch 20/1000\n",
      "\u001b[1m3/3\u001b[0m \u001b[32m━━━━━━━━━━━━━━━━━━━━\u001b[0m\u001b[37m\u001b[0m \u001b[1m0s\u001b[0m 9ms/step - loss: 0.1935 - val_loss: 0.3367\n"
     ]
    }
   ],
   "source": [
    "model = createModel()\n",
    "history = model.fit(X_trainNN, y_trainNN_Lepen,\n",
    "                    epochs=1000,validation_data=(X_valNN, y_valNN_Lepen),\n",
    "                    callbacks=[CallBackSave,callbackStop]\n",
    "                   )"
   ]
  },
  {
   "cell_type": "code",
   "execution_count": 19,
   "id": "cef5fda4",
   "metadata": {},
   "outputs": [
    {
     "name": "stdout",
     "output_type": "stream",
     "text": [
      "\u001b[1m1/1\u001b[0m \u001b[32m━━━━━━━━━━━━━━━━━━━━\u001b[0m\u001b[37m\u001b[0m \u001b[1m0s\u001b[0m 43ms/step\n",
      "Sur les entrainement la valeur reel :  [[57.53]] ; valeur predite :  [[43.239456]]\n",
      "\u001b[1m1/1\u001b[0m \u001b[32m━━━━━━━━━━━━━━━━━━━━\u001b[0m\u001b[37m\u001b[0m \u001b[1m0s\u001b[0m 42ms/step\n",
      "Affichage des predictions sur le test pour Lepen\n",
      "valeur prédite : 40.432125 valeur réelle : [53.3960177] écart : [12.96389261]\n",
      "valeur prédite : 45.079224 valeur réelle : [50.42794007] écart : [5.34871644]\n",
      "valeur prédite : 44.703945 valeur réelle : [49.62928571] écart : [4.92534055]\n",
      "valeur prédite : 57.05371 valeur réelle : [41.12871134] écart : [15.9249996]\n",
      "valeur prédite : 48.274956 valeur réelle : [39.15983051] écart : [9.11512524]\n",
      "valeur prédite : 48.81278 valeur réelle : [57.3691411] écart : [8.55636263]\n",
      "valeur prédite : 43.20293 valeur réelle : [53.22037344] écart : [10.01744299]\n",
      "valeur prédite : 39.178856 valeur réelle : [58.3791314] écart : [19.20027551]\n",
      "valeur prédite : 52.366596 valeur réelle : [41.40827309] écart : [10.95832313]\n",
      "valeur prédite : 44.536495 valeur réelle : [52.86975989] écart : [8.33326468]\n",
      "\u001b[1m1/1\u001b[0m \u001b[32m━━━━━━━━━━━━━━━━━━━━\u001b[0m\u001b[37m\u001b[0m \u001b[1m0s\u001b[0m 14ms/step - loss: 0.4593\n",
      "Perte de test : 0.4593353867530823\n",
      "R-value : -2.0402721128755696\n"
     ]
    }
   ],
   "source": [
    "best_model = tf.keras.models.load_model(\"best_model_valeur.keras\")\n",
    "\n",
    "print(\"Sur les entrainement la valeur reel : \", scalerLepen.inverse_transform(y_trainNN_Lepen[0].reshape(-1, 1)), \"; valeur predite : \",scalerLepen.inverse_transform(best_model.predict(X_trainNN[0:1]).reshape(-1, 1)))\n",
    "\n",
    "y_pred_NN = best_model.predict(X_testNN)\n",
    "\n",
    "reel = scalerLepen.inverse_transform(y_testNN_Lepen)\n",
    "prediction = scalerLepen.inverse_transform(y_pred_NN.reshape(-1, 1)).flatten()\n",
    "\n",
    "print(\"Affichage des predictions sur le test pour Lepen\")\n",
    "affichagePrediction(prediction, reel)\n",
    "\n",
    "test_loss = model.evaluate(X_testNN, y_testNN_Lepen)\n",
    "print(\"Perte de test :\", test_loss)\n",
    "print(\"R-value :\", r2_score(np.squeeze(y_testNN_Lepen),  np.squeeze(y_pred_NN)))"
   ]
  },
  {
   "cell_type": "code",
   "execution_count": 20,
   "id": "9494e7bd",
   "metadata": {},
   "outputs": [
    {
     "data": {
      "image/png": "[encoded data removed]",
      "text/plain": [
       "<Figure size 640x480 with 1 Axes>"
      ]
     },
     "metadata": {},
     "output_type": "display_data"
    }
   ],
   "source": [
    "import matplotlib.pyplot as plt\n",
    "\n",
    "loss = history.history['loss']\n",
    "val_loss = history.history['val_loss']\n",
    "epochs = [*range(len(loss))]\n",
    "\n",
    "#------------------------------------------------\n",
    "# Plot training and validation accuracy per epoch\n",
    "#------------------------------------------------\n",
    "plt.plot(epochs, loss, 'r')\n",
    "plt.plot(epochs, val_loss, 'b')\n",
    "plt.title('Training and validation loss')\n",
    "plt.xlabel(\"Epochs\")\n",
    "plt.ylabel(\"loss\")\n",
    "plt.legend([\"loss\", \"Validation loss\"])\n",
    "plt.show()"
   ]
  },
  {
   "cell_type": "code",
   "execution_count": null,
   "id": "89a5188b",
   "metadata": {},
   "outputs": [],
   "source": []
  },
  {
   "cell_type": "code",
   "execution_count": null,
   "id": "243364dd",
   "metadata": {},
   "outputs": [],
   "source": []
  },
  {
   "cell_type": "code",
   "execution_count": null,
   "id": "642a31c1",
   "metadata": {},
   "outputs": [],
   "source": []
  },
  {
   "cell_type": "code",
   "execution_count": null,
   "id": "b812b3e4",
   "metadata": {},
   "outputs": [],
   "source": []
  }
 ],
 "metadata": {
  "kernelspec": {
   "display_name": "Python 3 (ipykernel)",
   "language": "python",
   "name": "python3"
  },
  "language_info": {
   "codemirror_mode": {
    "name": "ipython",
    "version": 3
   },
   "file_extension": ".py",
   "mimetype": "text/x-python",
   "name": "python",
   "nbconvert_exporter": "python",
   "pygments_lexer": "ipython3",
   "version": "3.11.8"
  }
 },
 "nbformat": 4,
 "nbformat_minor": 5
}
